{
 "cells": [
  {
   "cell_type": "markdown",
   "metadata": {},
   "source": [
    "# <center><h3>Statistical Hypothesis Testing - Golf Ball</h3></center>"
   ]
  },
  {
   "cell_type": "markdown",
   "metadata": {},
   "source": [
    "## Problem Statement\n",
    "Par, Inc., is a major manufacturer of golf equipment. Management believes that Par's market share could be increased with the introduction of a cut-resistant. longer-lasting golf ball. Therefore, the research group at Par has been investigating a new golf ball coating designed to resist cuts and provide a more durable ball. The tests with the coating have been promising.<br/>\n",
    "One of the researchers voiced concern about the effect of the new coating on driving distances. Par would like the new cut-resistant ball to offer driving distances comparable to those of the current-model golf ball. To compare the driving distances for the two balls, 40 balls of both the new and current models were subjected to distance tests. The testing was performed with a mechanical hitting machine so that any difference between the mean distances for the two models could be attributed to a difference in the two models only.\n",
    "\n",
    "Prepare a Managerial report\n",
    "  1. Provide descriptive statistical summaries of the data for each model.\n",
    "  2. Formulate and present the rationale for a hypothesis test that Par could use to compare the driving distances of the current and new golf balls.\n",
    "  3. Analyze the data to provide the hypothesis testing conclusion. What is the p-value for your test? What is your recommendation for Par Inc.?\n",
    "  4. What is the 95% confidence interval for the populaion mean of each model. And what is the 95% confidence interval for the difference between the means of the two population?\n",
    "  5. Do you see a need for larger sample sizes and more testing with the golf balls? Discuss\n",
    "\n",
    "### Dataset\n",
    "The dataset **(SM4-Golf.xls)** includes the results of all the 40 tests, with distances measured to the nearest yard. **Current** column represents the distance travelled by the balls currently Par is been using and the **New** column is for the management proposed new cut-resistant balls.\n",
    "\n",
    "---"
   ]
  },
  {
   "cell_type": "markdown",
   "metadata": {},
   "source": [
    "## Imports and Configuration\n",
    "Import all the libraries needed to load, visualize the dataset and run the hypothesis testing"
   ]
  },
  {
   "cell_type": "code",
   "execution_count": 1,
   "metadata": {},
   "outputs": [],
   "source": [
    "# Numerical calculation\n",
    "import numpy as np\n",
    "# Data handling\n",
    "import pandas as pd\n",
    "# Data Visualization\n",
    "import matplotlib.pyplot as plt\n",
    "import seaborn as sns\n",
    "# Statistical functions\n",
    "import statistics as st\n",
    "from scipy.stats import norm, t, skew, kurtosis, shapiro, levene, ttest_ind\n",
    "from statsmodels.api import qqplot\n",
    "from statsmodels.stats.api import CompareMeans, DescrStatsW\n",
    "from statsmodels.stats.power import ttest_power, TTestIndPower"
   ]
  },
  {
   "cell_type": "code",
   "execution_count": 2,
   "metadata": {},
   "outputs": [],
   "source": [
    "# Configure for any of the default setting of any library\n",
    "%matplotlib inline\n",
    "sns.set_style('whitegrid')"
   ]
  },
  {
   "cell_type": "markdown",
   "metadata": {},
   "source": [
    "**Comments**\n",
    ">- **``%matplotlib inline``** sets the backend of matplotlib to the 'inline' backend: With this backend, the output of plotting commands is displayed inline without needing to call plt.show() every time a data is plotted.\n",
    ">- Set Seaborn's asthetic parameter"
   ]
  },
  {
   "cell_type": "markdown",
   "metadata": {},
   "source": [
    "## Load the Dataset"
   ]
  },
  {
   "cell_type": "code",
   "execution_count": 3,
   "metadata": {},
   "outputs": [
    {
     "data": {
      "text/html": [
       "<div>\n",
       "<style scoped>\n",
       "    .dataframe tbody tr th:only-of-type {\n",
       "        vertical-align: middle;\n",
       "    }\n",
       "\n",
       "    .dataframe tbody tr th {\n",
       "        vertical-align: top;\n",
       "    }\n",
       "\n",
       "    .dataframe thead th {\n",
       "        text-align: right;\n",
       "    }\n",
       "</style>\n",
       "<table border=\"1\" class=\"dataframe\">\n",
       "  <thead>\n",
       "    <tr style=\"text-align: right;\">\n",
       "      <th></th>\n",
       "      <th>0</th>\n",
       "      <th>1</th>\n",
       "      <th>2</th>\n",
       "      <th>3</th>\n",
       "      <th>4</th>\n",
       "      <th>5</th>\n",
       "      <th>6</th>\n",
       "      <th>7</th>\n",
       "      <th>8</th>\n",
       "      <th>9</th>\n",
       "      <th>...</th>\n",
       "      <th>30</th>\n",
       "      <th>31</th>\n",
       "      <th>32</th>\n",
       "      <th>33</th>\n",
       "      <th>34</th>\n",
       "      <th>35</th>\n",
       "      <th>36</th>\n",
       "      <th>37</th>\n",
       "      <th>38</th>\n",
       "      <th>39</th>\n",
       "    </tr>\n",
       "  </thead>\n",
       "  <tbody>\n",
       "    <tr>\n",
       "      <th>Current</th>\n",
       "      <td>264</td>\n",
       "      <td>261</td>\n",
       "      <td>267</td>\n",
       "      <td>272</td>\n",
       "      <td>258</td>\n",
       "      <td>283</td>\n",
       "      <td>258</td>\n",
       "      <td>266</td>\n",
       "      <td>259</td>\n",
       "      <td>270</td>\n",
       "      <td>...</td>\n",
       "      <td>281</td>\n",
       "      <td>274</td>\n",
       "      <td>273</td>\n",
       "      <td>263</td>\n",
       "      <td>275</td>\n",
       "      <td>267</td>\n",
       "      <td>279</td>\n",
       "      <td>274</td>\n",
       "      <td>276</td>\n",
       "      <td>262</td>\n",
       "    </tr>\n",
       "    <tr>\n",
       "      <th>New</th>\n",
       "      <td>277</td>\n",
       "      <td>269</td>\n",
       "      <td>263</td>\n",
       "      <td>266</td>\n",
       "      <td>262</td>\n",
       "      <td>251</td>\n",
       "      <td>262</td>\n",
       "      <td>289</td>\n",
       "      <td>286</td>\n",
       "      <td>264</td>\n",
       "      <td>...</td>\n",
       "      <td>283</td>\n",
       "      <td>250</td>\n",
       "      <td>253</td>\n",
       "      <td>260</td>\n",
       "      <td>270</td>\n",
       "      <td>263</td>\n",
       "      <td>261</td>\n",
       "      <td>255</td>\n",
       "      <td>263</td>\n",
       "      <td>279</td>\n",
       "    </tr>\n",
       "  </tbody>\n",
       "</table>\n",
       "<p>2 rows × 40 columns</p>\n",
       "</div>"
      ],
      "text/plain": [
       "          0    1    2    3    4    5    6    7    8    9  ...    30   31   32  \\\n",
       "Current  264  261  267  272  258  283  258  266  259  270 ...   281  274  273   \n",
       "New      277  269  263  266  262  251  262  289  286  264 ...   283  250  253   \n",
       "\n",
       "          33   34   35   36   37   38   39  \n",
       "Current  263  275  267  279  274  276  262  \n",
       "New      260  270  263  261  255  263  279  \n",
       "\n",
       "[2 rows x 40 columns]"
      ]
     },
     "execution_count": 3,
     "metadata": {},
     "output_type": "execute_result"
    }
   ],
   "source": [
    "# Load the dataset into a Pandas dataframe and save it in a varible called balls\n",
    "balls = pd.read_excel('SM4-Golf.xls')\n",
    "balls.T # Transpose for better vewing in this notebook"
   ]
  },
  {
   "cell_type": "markdown",
   "metadata": {},
   "source": [
    "## Inspect the Dataset"
   ]
  },
  {
   "cell_type": "code",
   "execution_count": 4,
   "metadata": {},
   "outputs": [
    {
     "data": {
      "text/plain": [
       "(40, 2)"
      ]
     },
     "execution_count": 4,
     "metadata": {},
     "output_type": "execute_result"
    }
   ],
   "source": [
    "# Get the shape and size of the dataset\n",
    "balls.shape"
   ]
  },
  {
   "cell_type": "code",
   "execution_count": 5,
   "metadata": {
    "scrolled": true
   },
   "outputs": [
    {
     "name": "stdout",
     "output_type": "stream",
     "text": [
      "<class 'pandas.core.frame.DataFrame'>\n",
      "RangeIndex: 40 entries, 0 to 39\n",
      "Data columns (total 2 columns):\n",
      "Current    40 non-null int64\n",
      "New        40 non-null int64\n",
      "dtypes: int64(2)\n",
      "memory usage: 720.0 bytes\n"
     ]
    }
   ],
   "source": [
    "# Get more info on it\n",
    "# 1. Name of the columns\n",
    "# 2. Data Types of the columns\n",
    "# 3. Look for any missing values\n",
    "balls.info()"
   ]
  },
  {
   "cell_type": "code",
   "execution_count": 6,
   "metadata": {},
   "outputs": [
    {
     "data": {
      "text/html": [
       "<div>\n",
       "<style scoped>\n",
       "    .dataframe tbody tr th:only-of-type {\n",
       "        vertical-align: middle;\n",
       "    }\n",
       "\n",
       "    .dataframe tbody tr th {\n",
       "        vertical-align: top;\n",
       "    }\n",
       "\n",
       "    .dataframe thead th {\n",
       "        text-align: right;\n",
       "    }\n",
       "</style>\n",
       "<table border=\"1\" class=\"dataframe\">\n",
       "  <thead>\n",
       "    <tr style=\"text-align: right;\">\n",
       "      <th></th>\n",
       "      <th>count</th>\n",
       "      <th>mean</th>\n",
       "      <th>std</th>\n",
       "      <th>min</th>\n",
       "      <th>25%</th>\n",
       "      <th>50%</th>\n",
       "      <th>75%</th>\n",
       "      <th>max</th>\n",
       "    </tr>\n",
       "  </thead>\n",
       "  <tbody>\n",
       "    <tr>\n",
       "      <th>Current</th>\n",
       "      <td>40.0</td>\n",
       "      <td>270.275</td>\n",
       "      <td>8.752985</td>\n",
       "      <td>255.0</td>\n",
       "      <td>263.0</td>\n",
       "      <td>270.0</td>\n",
       "      <td>275.25</td>\n",
       "      <td>289.0</td>\n",
       "    </tr>\n",
       "    <tr>\n",
       "      <th>New</th>\n",
       "      <td>40.0</td>\n",
       "      <td>267.500</td>\n",
       "      <td>9.896904</td>\n",
       "      <td>250.0</td>\n",
       "      <td>262.0</td>\n",
       "      <td>265.0</td>\n",
       "      <td>274.50</td>\n",
       "      <td>289.0</td>\n",
       "    </tr>\n",
       "  </tbody>\n",
       "</table>\n",
       "</div>"
      ],
      "text/plain": [
       "         count     mean       std    min    25%    50%     75%    max\n",
       "Current   40.0  270.275  8.752985  255.0  263.0  270.0  275.25  289.0\n",
       "New       40.0  267.500  9.896904  250.0  262.0  265.0  274.50  289.0"
      ]
     },
     "execution_count": 6,
     "metadata": {},
     "output_type": "execute_result"
    }
   ],
   "source": [
    "# Describe the dataset with various summary and statistics\n",
    "balls.describe().T # Transpose for better vewing in this notebook"
   ]
  },
  {
   "cell_type": "markdown",
   "metadata": {},
   "source": [
    "**Observations**\n",
    ">- The dataset comprises of **2 columns** (Current and New) and **40 rows**\n",
    ">- All the columns are of type integer\n",
    ">- There are **No null/missing values** present in the dataset\n",
    ">- These columns contain the distance travelled in yards by the current and new balls respectively when hit by a mechanical hitting machine\n",
    ">- Both the samples have almost equal mean and median, hence they are normally distributed.\n",
    ">- A low standard deviation along with the spread of min and max around the median suggests that there is **no outliers present** in any of the samples\n",
    "\n",
    "---"
   ]
  },
  {
   "cell_type": "markdown",
   "metadata": {},
   "source": [
    "## Q1. Provide descriptive statistical summaries of the data for each model.\n",
    "Descriptive Statistics summary describes the basic features of the data in a study. The following two sets of properties fall under the Descriptive Statistics\n",
    "  - Central tendency\n",
    "  - Dispersion\n",
    "  \n",
    "### Central Tendency\n",
    "It summaries the *mean, median* and *mode* of the driving distance of the sample.\n",
    "\n",
    "- **mean()**: arithmetic average\n",
    "- **median()**: middle item for odd length sample and avg. of two middle items for even length sample\n",
    "- **mode()**: most occuring value in the dataset\n",
    "- **harmonic_mean()**: Harmonic mean is a measure of the center\n",
    "- **median_low()**: low median for even length sample\n",
    "- **median_high()**: high median for even length sample\n",
    "- **median_grouped()**: $50^{th}$ percentile or $Q_{2}$"
   ]
  },
  {
   "cell_type": "code",
   "execution_count": 7,
   "metadata": {},
   "outputs": [],
   "source": [
    "# Separate the two samples and store them in 2 different variables\n",
    "curr_balls = balls['Current']\n",
    "new_balls = balls['New']"
   ]
  },
  {
   "cell_type": "code",
   "execution_count": 8,
   "metadata": {},
   "outputs": [
    {
     "name": "stdout",
     "output_type": "stream",
     "text": [
      "Central tendency of current model:\n",
      "mean: 270.275\n",
      "median: 270.0\n",
      "mode: No unique mode\n",
      "harmonic mean: 270.00089450236504\n",
      "low median: 270\n",
      "high median: 270\n",
      "grouped median: 270.0\n"
     ]
    }
   ],
   "source": [
    "# Central tendency of current model\n",
    "mode = 'No unique mode'\n",
    "try:\n",
    "    mode = st.mode(curr_balls)\n",
    "except:\n",
    "    pass\n",
    "print('''Central tendency of current model:\\nmean: {}\\nmedian: {}\\nmode: {}\\nharmonic mean: {}\n",
    "low median: {}\\nhigh median: {}\\ngrouped median: {}'''.format(\n",
    "    st.mean(curr_balls), st.median(curr_balls), mode, st.harmonic_mean(curr_balls),\n",
    "    st.median_low(curr_balls), st.median_high(curr_balls), st.median_grouped(curr_balls)))"
   ]
  },
  {
   "cell_type": "code",
   "execution_count": 9,
   "metadata": {
    "scrolled": true
   },
   "outputs": [
    {
     "name": "stdout",
     "output_type": "stream",
     "text": [
      "Central tendency of new model:\n",
      "mean: 267.5\n",
      "median: 265.0\n",
      "mode: No unique mode\n",
      "harmonic mean: 267.1453401443853\n",
      "low median: 264\n",
      "high median: 266\n",
      "grouped median: 265.5\n"
     ]
    }
   ],
   "source": [
    "# Central tendency of new model\n",
    "mode = 'No unique mode'\n",
    "try:\n",
    "    mode = st.mode(new_balls)\n",
    "except:\n",
    "    pass\n",
    "print('''Central tendency of new model:\\nmean: {}\\nmedian: {}\\nmode: {}\\nharmonic mean: {}\n",
    "low median: {}\\nhigh median: {}\\ngrouped median: {}'''.format(\n",
    "    st.mean(new_balls), st.median(new_balls), mode, st.harmonic_mean(new_balls),\n",
    "    st.median_low(new_balls), st.median_high(new_balls), st.median_grouped(new_balls)))"
   ]
  },
  {
   "cell_type": "markdown",
   "metadata": {},
   "source": [
    "### Dispersion\n",
    "Dispersion/spread gives us an idea of how the data strays from the typical value.\n",
    "\n",
    "- **variance()**: variance of the sample\n",
    "- **stdev()**: standard deviation of the sample"
   ]
  },
  {
   "cell_type": "code",
   "execution_count": 10,
   "metadata": {},
   "outputs": [
    {
     "name": "stdout",
     "output_type": "stream",
     "text": [
      "Dispersion of current model:\n",
      "variance: 76.61474358974358\n",
      "standard deviation: 8.752984838884595\n"
     ]
    }
   ],
   "source": [
    "# Dispersion of current model\n",
    "print('Dispersion of current model:\\nvariance: {}\\nstandard deviation: {}'.format(\n",
    "    st.variance(curr_balls), st.stdev(curr_balls)))"
   ]
  },
  {
   "cell_type": "code",
   "execution_count": 11,
   "metadata": {},
   "outputs": [
    {
     "name": "stdout",
     "output_type": "stream",
     "text": [
      "Dispersion of new model:\n",
      "variance: 97.94871794871794\n",
      "standard deviation: 9.896904462947894\n"
     ]
    }
   ],
   "source": [
    "# Dispersion of new model\n",
    "print('Dispersion of new model:\\nvariance: {}\\nstandard deviation: {}'.format(\n",
    "    st.variance(new_balls), st.stdev(new_balls)))"
   ]
  },
  {
   "cell_type": "markdown",
   "metadata": {},
   "source": [
    "## Visualize the Dataset"
   ]
  },
  {
   "cell_type": "code",
   "execution_count": 12,
   "metadata": {},
   "outputs": [
    {
     "name": "stderr",
     "output_type": "stream",
     "text": [
      "D:\\Installation\\Anaconda3\\lib\\site-packages\\matplotlib\\axes\\_axes.py:6462: UserWarning: The 'normed' kwarg is deprecated, and has been replaced by the 'density' kwarg.\n",
      "  warnings.warn(\"The 'normed' kwarg is deprecated, and has been \"\n",
      "D:\\Installation\\Anaconda3\\lib\\site-packages\\matplotlib\\axes\\_axes.py:6462: UserWarning: The 'normed' kwarg is deprecated, and has been replaced by the 'density' kwarg.\n",
      "  warnings.warn(\"The 'normed' kwarg is deprecated, and has been \"\n"
     ]
    },
    {
     "data": {
      "text/plain": [
       "<matplotlib.axes._subplots.AxesSubplot at 0x205c2da8a90>"
      ]
     },
     "execution_count": 12,
     "metadata": {},
     "output_type": "execute_result"
    },
    {
     "data": {
      "image/png": "[encoded data removed]",
      "text/plain": [
       "<Figure size 864x432 with 2 Axes>"
      ]
     },
     "metadata": {},
     "output_type": "display_data"
    }
   ],
   "source": [
    "# Check the sample skewness and spread\n",
    "f, axes = plt.subplots(ncols=2, sharey=True, figsize=(12,6))\n",
    "sns.distplot(curr_balls, bins=10, ax=axes[0])\n",
    "sns.distplot(new_balls, bins=10, ax=axes[1])"
   ]
  },
  {
   "cell_type": "code",
   "execution_count": 13,
   "metadata": {},
   "outputs": [
    {
     "data": {
      "text/plain": [
       "<matplotlib.axes._subplots.AxesSubplot at 0x205c2aa79b0>"
      ]
     },
     "execution_count": 13,
     "metadata": {},
     "output_type": "execute_result"
    },
    {
     "data": {
      "image/png": "[encoded data removed]",
      "text/plain": [
       "<Figure size 864x432 with 1 Axes>"
      ]
     },
     "metadata": {},
     "output_type": "display_data"
    }
   ],
   "source": [
    "# Check for central tendency of each sample against one another\n",
    "balls.boxplot(figsize=(12,6))"
   ]
  },
  {
   "cell_type": "markdown",
   "metadata": {},
   "source": [
    "**Observations**\n",
    ">- Looking at the above figures it is clear that both the samples are almost normally distributed. So we go ahead and prove it statistically.\n",
    ">- The samples of new ball have more scattered observations than the samples of current ball. So is proved by a greater standard deviation of new ball samples.\n",
    ">- But it is not evident from the boxplot to draw a concrete solution whether the two sample means are equal or different from each other.\n",
    "\n",
    "---\n",
    "Hence we go ahead and apply **inferential statistics** to derive the result."
   ]
  },
  {
   "cell_type": "markdown",
   "metadata": {},
   "source": [
    "## Q2. Formulate and present the rationale for a hypothesis test that Par could use to compare the driving distances of the current and new golf balls.\n",
    "\n",
    "## *Test of Normality*\n",
    "Normality tests are used to determine whether the sample has a **``Gaussian Distribution``** and to compute how likely it is for a random variable in the dataset to be normally distributed. In Normal/Gaussian curve the data points are spread around the *mean/median* according to the standard deviation. Few statistical and non-statistical methods for normality check are\n",
    "\n",
    "#### i) ``Histogram``\n",
    "It's clear that most values are centered around zero - the mean and the median of the sample from the above histogram. But we can not imperically infer for the normality of the population from this.\n",
    "     \n",
    "  \n",
    "#### ii) ``Skewness and Kurtosis``\n",
    "SKEWNESS is usually described as the measure of dataset's symmetry around its mean, or more precisely, the lack of symmetry around its mean. A perfect symmetrical dataset has a skewness of 0. Hence ``Normal Distribution has a skewness of 0``. Karl Pearson's Coefficient of skewness is described as $$Skewness=\\frac{3(\\bar{X}-M_{d})}{\\sigma}$$\n",
    "     where\n",
    "- $\\bar{X}$ = Mean of the sample\n",
    "- $M_{d}$ = Median of the sample\n",
    "- $\\sigma$ = Standard deviation\n",
    "\n",
    "KURTOSIS is a measure of \"tailedness\" i.e. it is a measure of whether the data are heavy-tailed or light-tailed relative to a normal distribution. It is described as $$Kurtosis=\\sum\\frac{(X_{i}-\\bar{X})^4}{n\\sigma^4}$$\n",
    "     where\n",
    " - $\\bar{X}$ = Mean of the sample\n",
    " - $X_{i}$ = any value in the sample\n",
    " - $n$ = sample size\n",
    " - $\\sigma$ = Standard deviation\n",
    " \n",
    "``Kurtosis for a standard normal distribution is 3`` as per ``Pearson's definition``. But ``Fisher's definition`` subtracts 3 from the above equation and considers the ``kurtosis to be 0 for a normal distribution``.\n",
    "     "
   ]
  },
  {
   "cell_type": "code",
   "execution_count": 14,
   "metadata": {
    "scrolled": true
   },
   "outputs": [
    {
     "name": "stdout",
     "output_type": "stream",
     "text": [
      "Current ball has a \n",
      "Skewness of 0.29456628634379833 \n",
      "Kurtosis of -0.8168840741950509 (Fischer's coeff) \n",
      "Kurtosis of 2.183115925804949 (Pearson's coeff)\n",
      "New ball has a \n",
      "Skewness of 0.23072220761583526 \n",
      "Kurtosis of -0.59881719251117 (Fischer's coeff) \n",
      "Kurtosis of 2.40118280748883 (Pearson's coeff)\n"
     ]
    }
   ],
   "source": [
    "# Print Skewness and Kurtosis for both the samples\n",
    "print('Current ball has a \\nSkewness of {} \\nKurtosis of {} (Fischer\\'s coeff) \\nKurtosis of {} (Pearson\\'s coeff)'\n",
    "      .format(skew(curr_balls), kurtosis(curr_balls, fisher=True), kurtosis(curr_balls, fisher=False)))\n",
    "print('New ball has a \\nSkewness of {} \\nKurtosis of {} (Fischer\\'s coeff) \\nKurtosis of {} (Pearson\\'s coeff)'\n",
    "      .format(skew(new_balls), kurtosis(new_balls, fisher=True), kurtosis(new_balls, fisher=False)))"
   ]
  },
  {
   "cell_type": "markdown",
   "metadata": {},
   "source": [
    "**Observation**: The values for Skewness and Kurtosis are not emperically indicating whether the samples are drawn from a normal distribution or not.\n",
    "     \n",
    "#### iii) ``Q-Q Plot (Quantile-Quantile Plot)``\n",
    "Q-Q Plot helps visualize the quantiles of two probability distributions against one another. It compares the quantiles of a given distribution against a standard normal distribution if dist parameter is not given."
   ]
  },
  {
   "cell_type": "code",
   "execution_count": 15,
   "metadata": {},
   "outputs": [
    {
     "data": {
      "image/png": "[encoded data removed]",
      "text/plain": [
       "<Figure size 864x432 with 2 Axes>"
      ]
     },
     "execution_count": 15,
     "metadata": {},
     "output_type": "execute_result"
    },
    {
     "data": {
      "image/png": "[encoded data removed]",
      "text/plain": [
       "<Figure size 864x432 with 2 Axes>"
      ]
     },
     "metadata": {},
     "output_type": "display_data"
    }
   ],
   "source": [
    "f, ax = plt.subplots(1,2,figsize=(12,6))\n",
    "qqplot(curr_balls, line='s', ax=ax[0])\n",
    "qqplot(new_balls, line='s', ax=ax[1])"
   ]
  },
  {
   "cell_type": "markdown",
   "metadata": {},
   "source": [
    "**Observation**: The Q-Q Plot intends to visually represent that, both the samples follow the same distribution. They are roughly aligned along the red line which corresponds to a standard normal distribution.\n",
    "   \n",
    "#### iv) ``Shapiro-Wilk Test``\n",
    "The Shapiro-Wilk test evaluates a data sample and quantifies how likely it is to be drawn from a Gaussian distribution. There are some underlaying assumptions. This function returns both the w-statistics calculated by the test and the p-value. Higher the w-stat indicates the sample is drawn from a normal distribution, which is described by the equation $$W=\\frac{(\\sum a_{i}x_{i})^2}{\\sum(x_{i}-\\bar{x})^2}$$\n",
    "**Assumptions:**\n",
    "   - Test is suitable for smaller sample of data i.e thousands of observations or fewer\n",
    "   - Observations in each sample are independent i.e. samples are un-paired and are identically distributed.\n",
    "\n",
    "**Formulate the Hypothesis:**<br/>\n",
    "$H_{0}$: Sample is drawn from a normal population<br/>\n",
    "$H_{a}$: Sample is NOT drawn from a normal population\n",
    "\n",
    "*Note*: $\\alpha=0.05$ (Industry standard)"
   ]
  },
  {
   "cell_type": "code",
   "execution_count": 16,
   "metadata": {},
   "outputs": [
    {
     "name": "stdout",
     "output_type": "stream",
     "text": [
      "w-statistics: 0.9707046747207642\n",
      "p-value: 0.378787100315094\n"
     ]
    }
   ],
   "source": [
    "# Test stat for current ball sample\n",
    "w_stat, p_value = shapiro(curr_balls)\n",
    "print('w-statistics: {}\\np-value: {}'.format(w_stat, p_value))"
   ]
  },
  {
   "cell_type": "code",
   "execution_count": 17,
   "metadata": {},
   "outputs": [
    {
     "name": "stdout",
     "output_type": "stream",
     "text": [
      "w-statistics: 0.9678263664245605\n",
      "p-value: 0.3064655363559723\n"
     ]
    }
   ],
   "source": [
    "# Test stat for new ball sample\n",
    "w_stat, p_value = shapiro(new_balls)\n",
    "print('w-statistics: {}\\np-value: {}'.format(w_stat, p_value))"
   ]
  },
  {
   "cell_type": "markdown",
   "metadata": {},
   "source": [
    "**Observation**\n",
    ">- Calculated w-statistics for both the samples tends to 1. \n",
    ">- Considering the industry standard significance level ($\\alpha$) of 0.05, the calculated p-value for both the samples is greater than $\\alpha$. Hence we reject the alternate hypothesis ($H_{a}$) and embrace the null hypothesis ($H_{0}$) which says *both the samples are drawn from a Normal Population.*"
   ]
  },
  {
   "cell_type": "markdown",
   "metadata": {},
   "source": [
    "### *Test of Homogenity*\n",
    "Test of Homogenity of variance is conducted to determine if two samples have equal variances or not which is one of the main assumptions in some other statistical tests. Levene's test is an alternative to the Bartlett test as it is less sensitive to departures from normality in other words outlietrs. So Levene test is preferred over Bartletts when the sample contains utliers.\n",
    "\n",
    "#### i) ``Levene Test``\n",
    "This function returns both the w-statistics calculated by the test and the p-value. The w-statistics can be formulated as\n",
    "$$W=\\frac{(N-k)}{(k-1)}\\frac{\\sum_{i=1}^k N_{i}(Z_{i.}-Z..)^3}{\\sum_{i=1}^k \\sum_{j=1}^{N_{i}}(Z_{ij}-Z_{j.})^2}$$\n",
    "where\n",
    "- $k$ is the number of different groups to which the sampled cases belong,\n",
    "- $N_{i}$ is the number of cases in the $i^{th}$ group, \n",
    "- $N$ is the total number of cases in all groups,\n",
    "- $Y_{ij}$ is the value of the measured variable for the $j^{th}$ case from the $i^{th}$ group,\n",
    "- $Z_{ij} = \\begin{cases}|Y_{ij}-{\\bar {Y}}_{i\\cdot }|,&{\\bar {Y}}_{i\\cdot }{\\text{ is a mean of the }}i{\\text{-th group}},\\\\|Y_{ij}-{\\tilde {Y}}_{i\\cdot }|,&{\\tilde {Y}}_{i\\cdot }{\\text{ is a median of the }}i{\\text{-th group}}.\\end{cases}$\n",
    "\n",
    "**Formulate the Hypothesis:**<br/>\n",
    "$H_{0}: \\sigma_{1}^2 = \\sigma_{2}^2$ (Both the samples are homogenous in variances)<br/>\n",
    "$H_{a}: \\sigma_{1}^2 \\neq \\sigma_{2}^2$ (Both the samples are not homogenous in variances)\n",
    "\n",
    "*Note*: $\\alpha = 0.05$ (Industry Standard)"
   ]
  },
  {
   "cell_type": "code",
   "execution_count": 18,
   "metadata": {},
   "outputs": [
    {
     "data": {
      "text/plain": [
       "LeveneResult(statistic=0.2553238291765741, pvalue=0.6147759523331309)"
      ]
     },
     "execution_count": 18,
     "metadata": {},
     "output_type": "execute_result"
    }
   ],
   "source": [
    "levene(curr_balls, new_balls)"
   ]
  },
  {
   "cell_type": "markdown",
   "metadata": {},
   "source": [
    "**Observation**\n",
    ">- Considering the industry standard significance level ($\\alpha$) of 0.05, the calculated p-value for this test is greater than $\\alpha$. Hence we reject the alternate hypothesis ($H_{a}$) and embrace the null hypothesis ($H_{0}$) which says *Both the samples are homogenous in variances.*\n",
    "\n",
    "***Note***: From the above tests of Normality and Homogenity, we conclude the original population is parametric and as we have two independent samples with us, we go ahead and apply **Two Sample parametric T-Test**"
   ]
  },
  {
   "cell_type": "markdown",
   "metadata": {},
   "source": [
    "### *Two Sample Test*\n",
    "As a thumb rule from ``Central Limit Theorom`` (CLT), Z-test is used for a larger sample size (n>30) with known population standard deviation and Student's T-test is used for a smaller sample size (n<30). However it is also rational to use T-test for even large samples, especially when the population standard deviation is unknown. Numerically, when sample size becomes more and more larger, t-statistic and z-statistic come closure to each other, or t distribution becomes close to normal distribution, and more important, the influence of the degrees of freedom on the shape of distribution gradually becomes null.\n",
    "\n",
    "Considering the above statement we go ahead and apply Student's T-test for our case study.\n",
    "\n",
    "#### i) ``Student's T-Test``\n",
    "The independent samples t-test is a parametric test which compares the means of two independent groups in order to determine whether there is statistical evidence that the associated population means are significantly different. This function returns both the t-statistics calculated by the test and the p-value. The t-statistics is the ratio of *observed difference between sample means* to *standard error of the difference between the means* and it can be formulated as $$t=\\frac{\\bar{x}_{1}-\\bar{x}_{2}}{S_{pooled}\\sqrt{\\frac{1}{n_{1}}+\\frac{1}{n_{2}}}}$$\n",
    "\n",
    "where $$S_{pooled}=\\sqrt{\\frac{(n_{1}-1)s_{1}^2+(n_{2}-1)s_{2}^2}{(n_{1}-1)+(n_{2}-1)}}$$\n",
    "  - $\\bar{x}_{1}$ = Mean of first sample\n",
    "  - $\\bar{x}_{2}$ = Mean of second sample\n",
    "  - $n_{1}$ = Sample size of first sample\n",
    "  - $n_{2}$ = Sample size of second sample\n",
    "  - $s_{1}$ = Standard deviation of first sample\n",
    "  - $s_{2}$ = Standard deviation of second sample\n",
    "  - $S_{pooled}$ = Pooled standard deviation\n",
    "\n",
    "**Assumptions**:<br/>\n",
    "- *Gausian distribution* -- i.e. the samples are drawn from a normal distribution\n",
    "  - Which we have already proved in Shapiro test\n",
    "- *Homogeneity of variance* -- i.e. both the independent samples have the same variance.\n",
    "  - Which we have already proved in Levene's test.\n",
    "- The size of each sample is approximately equal\n",
    "  \n",
    "**Formulate the Hypothesis:**<br/>\n",
    "$H_{0}: \\mu_{1}=\\mu_{2}$ (The two population means are equal)<br/>\n",
    "$H_{a}: \\mu_{1}\\neq\\mu_{2}$ (The two population means are not equal)\n",
    "\n",
    "*Note*: $\\alpha=0.05$ (Industry Standard)\n"
   ]
  },
  {
   "cell_type": "code",
   "execution_count": 19,
   "metadata": {},
   "outputs": [
    {
     "data": {
      "text/plain": [
       "Ttest_indResult(statistic=1.3283615935245678, pvalue=0.18793228491854663)"
      ]
     },
     "execution_count": 19,
     "metadata": {},
     "output_type": "execute_result"
    }
   ],
   "source": [
    "ttest_ind(curr_balls, new_balls)"
   ]
  },
  {
   "cell_type": "markdown",
   "metadata": {},
   "source": [
    "**Critical value**<br/>\n",
    "Considering significance level of 0.05, let's calculate the t-critical - the boundary between the Power and Significance level of the test."
   ]
  },
  {
   "cell_type": "code",
   "execution_count": 20,
   "metadata": {},
   "outputs": [
    {
     "data": {
      "text/plain": [
       "1.6646246444385238"
      ]
     },
     "execution_count": 20,
     "metadata": {},
     "output_type": "execute_result"
    }
   ],
   "source": [
    "alpha = 0.05\n",
    "df = len(curr_balls) + len(new_balls) - 2 # Degrees of freedom\n",
    "t.ppf(1 - alpha, df)"
   ]
  },
  {
   "cell_type": "markdown",
   "metadata": {},
   "source": [
    "## Q3. Analyse the data to provide the hypothesis testing conclusion. What is the p-value for your test? What is your recommendation for Par Inc.?\n",
    "\n",
    "**Observation**\n",
    ">- The critical value of t test found out to be 1.665. But as our t-statistics value is less than t-critical, we are falling under the acceptance region of Null hypothesis ($H_{0}$)\n",
    ">- The calculated p-value (0.188) for this test is greater than $\\alpha$. Hence we reject the alternate hypothesis ($H_{a}$) and embrace the null hypothesis ($H_{0}$) which says *Both the population means are equal.* i.e. there is ``no significant statistical evidence that the new cut-resistance ball has any impact on the driving distance as compared to the current ball``.\n",
    ">- Based off of the statistical evidences up untill now, we can recommend Par Inc. not to introduce the new cut-resistance ball as with the provided samples it is evident that the new ball is no better than the current one rather they both perform equal in terms of driving distances in yards.\n",
    "\n",
    "---\n",
    "Let's explore some more angles such as confidence interval, Power of the test ($1-\\beta$), Power analysis, whether we require a larger sample etc."
   ]
  },
  {
   "cell_type": "markdown",
   "metadata": {},
   "source": [
    "## Q4. What is the 95% confidence interval for the populaion mean of each model. And what is the 95% confidence interval for the difference between the means of the two population?\n",
    "*Confidence Interval = Point Estimate $\\pm$ Margin of error*\n",
    "### *95% CI for individual population mean*\n",
    "Confidence interval for a single population mean can be described as $$CI=\\bar{x}\\pm t_{\\frac{\\alpha}{2}}\\frac{s}{\\sqrt{n}}$$\n",
    "where\n",
    "- $n$ = Sample size\n",
    "- $\\bar{x}$ = Mean of the sample\n",
    "- $s$ = Standard deviation of the sample\n",
    "- $t_{\\frac{\\alpha}{2}}$ = t-value at $1-\\alpha$ confidence level on both sides"
   ]
  },
  {
   "cell_type": "code",
   "execution_count": 21,
   "metadata": {},
   "outputs": [
    {
     "data": {
      "text/plain": [
       "(270.1882157995571, 270.36178420044286)"
      ]
     },
     "execution_count": 21,
     "metadata": {},
     "output_type": "execute_result"
    }
   ],
   "source": [
    "# CI for current ball mean\n",
    "mu, sigma = curr_balls.mean(), curr_balls.std()\n",
    "scale = sigma/np.sqrt(len(curr_balls))\n",
    "norm.interval(alpha=0.05, loc=mu, scale=scale)"
   ]
  },
  {
   "cell_type": "code",
   "execution_count": 22,
   "metadata": {},
   "outputs": [
    {
     "data": {
      "text/plain": [
       "(267.40187405136805, 267.59812594863195)"
      ]
     },
     "execution_count": 22,
     "metadata": {},
     "output_type": "execute_result"
    }
   ],
   "source": [
    "# CI for new ball mean\n",
    "mu, sigma = new_balls.mean(), new_balls.std()\n",
    "scale = sigma/np.sqrt(len(new_balls))\n",
    "norm.interval(alpha=0.05, loc=mu, scale=scale)"
   ]
  },
  {
   "cell_type": "markdown",
   "metadata": {},
   "source": [
    "**Observation**:\n",
    ">- We are 95% confident that the average driving distance of the current ball population varies between **270.19** to **270.36**\n",
    ">- We are 95% confident that the average driving distance of the new ball population varies between **267.4** to **267.6**"
   ]
  },
  {
   "cell_type": "markdown",
   "metadata": {},
   "source": [
    "### *95% CI for difference in two population mean*\n",
    "Confidence interval for difference in two population means can be described as $$CI=(\\bar{x}_{1}-\\bar{x}_{2})\\pm t_{\\frac{\\alpha}{2}}\\sqrt{\\frac{s_{1}^2}{n_{1}}+\\frac{s_{2}^2}{n_{2}}}$$\n",
    "\n",
    "where\n",
    "- $\\bar{x}_{1}$ = Mean of first sample\n",
    "- $\\bar{x}_{2}$ = Mean of second sample\n",
    "- $n_{1}$ = Sample size of first sample\n",
    "- $n_{2}$ = Sample size of second sample\n",
    "- $s_{1}$ = Standard deviation of first sample\n",
    "- $s_{2}$ = Standard deviation of second sample\n",
    "- $t_{\\frac{\\alpha}{2}}$ = t-value at $1-\\alpha$ confidence level on both sides\n",
    "- The point estimate $\\mu_{1}-\\mu_{2}$ is $\\bar{x}_{1}-\\bar{x}_{2}$"
   ]
  },
  {
   "cell_type": "code",
   "execution_count": 23,
   "metadata": {
    "scrolled": true
   },
   "outputs": [
    {
     "name": "stdout",
     "output_type": "stream",
     "text": [
      "Point Estimate: 2.7749999999999773\n",
      "Confidence Interval: (-1.3839584057317742, 6.933958405731729)\n"
     ]
    }
   ],
   "source": [
    "point_estimate = curr_balls.mean() - new_balls.mean()\n",
    "cm = CompareMeans(DescrStatsW(curr_balls), DescrStatsW(new_balls))\n",
    "ci = cm.tconfint_diff(alpha=0.05, usevar='pooled')\n",
    "print('Point Estimate: {}\\nConfidence Interval: {}'.format(point_estimate, ci))"
   ]
  },
  {
   "cell_type": "markdown",
   "metadata": {},
   "source": [
    "**Observation**: The difference in the two population mean lies in between -1.38 to 6.93 with 95% confindence level. In the context of the problem, we are 95% confident that the average distance travelled for current ball is **-1.38** to **6.93** yards higher than the new ball.\n",
    "\n",
    "---"
   ]
  },
  {
   "cell_type": "markdown",
   "metadata": {},
   "source": [
    "## Q5. Do you see a need for larger sample sizes and more testing with the golf balls? Discuss\n",
    "\n",
    "### Power of the test ($1-\\beta$)\n",
    "Power of the test is the probability of rejecting Null hypothesis while it is actually false. To calculate the power of the test we need to calculate the delta value, which requires $S_{pooled}$ (Pooled Standard Deviation) to be calculated for two sampe test. The delta value can be formulated as $$\\Delta=\\frac{\\bar{x}_{1}-\\bar{x}_{2}}{S_{pooled}}$$\n",
    "\n",
    "where $$S_{pooled}=\\sqrt{\\frac{(n_{1}-1)s_{1}^2+(n_{2}-1)s_{2}^2}{(n_{1}-1)+(n_{2}-1)}}$$\n",
    "  - $\\bar{x}_{1}$ = Mean of first sample\n",
    "  - $\\bar{x}_{2}$ = Mean of second sample\n",
    "  - $n_{1}$ = Sample size of first sample\n",
    "  - $n_{2}$ = Sample size of second sample\n",
    "  - $s_{1}$ = Standard deviation of first sample\n",
    "  - $s_{2}$ = Standard deviation of second sample\n",
    "  - $S_{pooled}$ = Pooled standard deviation"
   ]
  },
  {
   "cell_type": "code",
   "execution_count": 24,
   "metadata": {},
   "outputs": [
    {
     "name": "stdout",
     "output_type": "stream",
     "text": [
      "Pooled standard deviaton: 9.342469200871404\n",
      "delta: 0.2970306821820877\n"
     ]
    }
   ],
   "source": [
    "x1_bar = np.mean(curr_balls)\n",
    "x2_bar = np.mean(new_balls)\n",
    "n1 = curr_balls.count()\n",
    "n2 = new_balls.count()\n",
    "s1_sq = curr_balls.var()\n",
    "s2_sq = new_balls.var()\n",
    "s_pooled = np.sqrt(((n1-1)*s1_sq + (n2-1)*s2_sq) / ((n1-1)+(n2-1)))\n",
    "delta = (x1_bar - x2_bar) / s_pooled\n",
    "print('Pooled standard deviaton: {}\\ndelta: {}'.format(s_pooled, delta))"
   ]
  },
  {
   "cell_type": "code",
   "execution_count": 25,
   "metadata": {},
   "outputs": [
    {
     "data": {
      "text/plain": [
       "0.4492741885390423"
      ]
     },
     "execution_count": 25,
     "metadata": {},
     "output_type": "execute_result"
    }
   ],
   "source": [
    "ttest_power(delta, nobs=n1, alpha=0.05, alternative=\"two-sided\")"
   ]
  },
  {
   "cell_type": "markdown",
   "metadata": {},
   "source": [
    "The power of the test ($1-\\beta$) denotes that there is 44.9% probability we rejecting the null hypothesis while the null hypothesis is also false. It is too low as we actually accepted the Null Hypothesis saying there is no significant difference between the two sample means.\n",
    "\n",
    "### Power Analysis\n",
    "So let's apply power analysis to determine the required sample size to achieve atleast 80% power of the test.<br/>\n",
    "Parameters for the Power Analysis:\n",
    "  - **effect_size**: standardized effect size, difference between the two means divided by the standard deviation. `effect_size` has to be positive.\n",
    "  - **alpha**: Significance level\n",
    "  - **power**: Desired power level"
   ]
  },
  {
   "cell_type": "code",
   "execution_count": 26,
   "metadata": {},
   "outputs": [
    {
     "name": "stdout",
     "output_type": "stream",
     "text": [
      "Required sample size: 179.0\n"
     ]
    }
   ],
   "source": [
    "# Parameter for power analysis\n",
    "alpha = 0.05\n",
    "power = 0.8\n",
    "# Perform Power analysis\n",
    "analysis = TTestIndPower()\n",
    "result = analysis.solve_power(effect_size=delta, alpha=alpha, power=power)\n",
    "print('Required sample size:', np.ceil(result))"
   ]
  },
  {
   "cell_type": "markdown",
   "metadata": {},
   "source": [
    "**Observation**: In order to achieve 80% power of the test, we require a sample size of minimum 179.\n",
    "\n",
    "---"
   ]
  },
  {
   "cell_type": "markdown",
   "metadata": {},
   "source": [
    "### Hypothesis testing check list\n",
    "Let's look at the checklist for Hypothesis testing\n",
    "\n",
    "| Steps | Description |\n",
    "| ------ | ----------- |\n",
    "| Type of test | **Mean** / ~~Propertion~~ / ~~Variance~~ |\n",
    "| Sample | ~~One~~ / **Two** |\n",
    "| Null Hypothesis<br/>($H_{0}$) | $\\mu_{1}=\\mu_{2}$ (**The two population means are equal**) |\n",
    "| Alternate Hypothesis<br/>($H_{a}$) | $\\mu_{1}\\neq\\mu_{2}$ (**The two population means are not equal**) |\n",
    "| Tails | ~~Left~~ / ~~Right~~ / **Both** |\n",
    "| Level of Significance<br/>($\\alpha$) | **0.05** |\n",
    "| Statistical Test | ~~Z~~ / **T** / ~~Chi-Square~~ / ~~F~~ |\n",
    "| Test Statistics | t-statistics = **1.328**, p-value = **0.188** |\n",
    "| Critical Value | t-critical = **1.665** |\n",
    "| Confidence Level | **95%** |\n",
    "| Confidence Interval | Avg. driving distance: Current ball: (**270.19**, **270.36**), New ball: (**267.4**, **267.6**), Difference in mean of two types of balls: (**-1.38**, **6.93**) |\n",
    "| Acceptance / Rejection | **Reject the alternate hypothesis ($H_{a}$)** and **embrace the null hypothesis ($H_{0}$)** |\n",
    "| Inference | There is **no statistical evidence that the two types of balls differ from each other in terms of average distance travelled in yards** with the provided sample size. However to obtain 80% power of the test **we require 179 or above sample size** from Par Inc. |"
   ]
  }
 ],
 "metadata": {
  "kernelspec": {
   "display_name": "Python 3",
   "language": "python",
   "name": "python3"
  },
  "language_info": {
   "codemirror_mode": {
    "name": "ipython",
    "version": 3
   },
   "file_extension": ".py",
   "mimetype": "text/x-python",
   "name": "python",
   "nbconvert_exporter": "python",
   "pygments_lexer": "ipython3",
   "version": "3.6.5"
  }
 },
 "nbformat": 4,
 "nbformat_minor": 2
}
