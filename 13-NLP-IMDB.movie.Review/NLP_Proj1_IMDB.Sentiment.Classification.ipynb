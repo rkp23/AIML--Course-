{
 "cells": [
  {
   "cell_type": "markdown",
   "metadata": {},
   "source": [
    "# <u>Sentiment Classification</u>\n",
    "*Sentiment Classification is the task of looking at a piece of text and telling if someone likes or dislikes the thing they're talking about.*\n",
    "### Project Description\n",
    "**Generate Word Embeddings and retrieve outputs of each layer with Keras based on the Classification task**\n",
    "\n",
    "Word embeddings are a type of word representation that allows words with similar meaning to have a similar representation.\n",
    "It is a distributed representation for the text that is perhaps one of the key breakthroughs for the impressive performance of deep learning methods on challenging natural language processing problems.<br/>\n",
    "We will use the IMDb dataset to learn word embeddings as we train our dataset. This dataset contains 25,000 movie reviews from IMDB, labeled with a sentiment (positive or negative).\n",
    "### Dataset\n",
    "**`from keras.datasets import imdb`**\n",
    "\n",
    "Dataset of 25,000 movies reviews from IMDB, labeled by sentiment (positive/negative). Reviews have been preprocessed, and each review is encoded as a sequence of word indexes (integers). For convenience, the words are indexed by their frequency in the dataset, meaning for that has index 1 is the most frequent word. Use the first 20 words from each review to speed up training, using a max vocab size of 10,000.\n",
    "\n",
    "As a convention, \"0\" does not stand for a specific word, but instead is used to encode any unknown word.\n",
    "\n",
    "\n",
    "### Goal of the project\n",
    "1. Import test and train data\n",
    "2. Import the labels ( train and test)\n",
    "3. Get the word index and then Create a key-value pair for word and word_id\n",
    "4. Build a Sequential Model using Keras for the Sentiment Classification task\n",
    "5. Report the Accuracy of the model\n",
    "6. Retrieve the output of each layer in Keras for a given single test sample from the trained model you built\n",
    "---\n",
    "\n",
    "## Imports and Configurations"
   ]
  },
  {
   "cell_type": "code",
   "execution_count": 1,
   "metadata": {},
   "outputs": [
    {
     "name": "stderr",
     "output_type": "stream",
     "text": [
      "Using TensorFlow backend.\n"
     ]
    }
   ],
   "source": [
    "# Utilities\n",
    "from time import time\n",
    "import itertools\n",
    "import warnings\n",
    "\n",
    "# Numerical calculation\n",
    "import numpy as np\n",
    "\n",
    "# Data Visualization\n",
    "import matplotlib.pyplot as plt\n",
    "import seaborn as sns\n",
    "\n",
    "# Sequential Modeling\n",
    "import keras.backend as K\n",
    "from keras.datasets import imdb\n",
    "from keras.models import Sequential\n",
    "from keras.layers import Dropout, Flatten, Dense, Embedding, LSTM, TimeDistributed, Conv1D, MaxPooling1D\n",
    "from keras.constraints import max_norm, unit_norm\n",
    "from keras.preprocessing.sequence import pad_sequences\n",
    "\n",
    "# Evaluation metrics\n",
    "from sklearn.metrics import confusion_matrix, classification_report, roc_curve, auc, accuracy_score, precision_recall_curve"
   ]
  },
  {
   "cell_type": "code",
   "execution_count": 2,
   "metadata": {},
   "outputs": [],
   "source": [
    "# Configure for any default setting of any library\n",
    "warnings.filterwarnings('ignore')\n",
    "get_ipython().magic(u'matplotlib inline')\n",
    "plt.style.use('ggplot')"
   ]
  },
  {
   "cell_type": "markdown",
   "metadata": {
    "colab_type": "text",
    "id": "Wq4RCyyPSYRp"
   },
   "source": [
    "## Loading the dataset"
   ]
  },
  {
   "cell_type": "code",
   "execution_count": 3,
   "metadata": {
    "colab": {},
    "colab_type": "code",
    "id": "NGCtiXUhSWss"
   },
   "outputs": [],
   "source": [
    "# Load IMDB Data\n",
    "vocab_size = 10000 #vocab size\n",
    "\n",
    "# save np.load\n",
    "old = np.load\n",
    "\n",
    "# modify the default parameters of np.load to allow_pickle to avoid the following error:\n",
    "# ValueError: Object arrays cannot be loaded when allow_pickle=False\n",
    "np.load = lambda *a,**k: old(*a, allow_pickle=True, **k)\n",
    "\n",
    "# call load_data with allow_pickle implicitly set to true\n",
    "imdb_data = imdb.load_data(num_words=vocab_size)\n",
    "\n",
    "# restore np.load for future normal usage and delete the old\n",
    "np.load = old\n",
    "del(old)"
   ]
  },
  {
   "cell_type": "markdown",
   "metadata": {
    "colab_type": "text",
    "id": "qMEsHYrWxdtk"
   },
   "source": [
    "## Train test split"
   ]
  },
  {
   "cell_type": "code",
   "execution_count": 4,
   "metadata": {},
   "outputs": [
    {
     "name": "stdout",
     "output_type": "stream",
     "text": [
      "train_data  (25000,)\n",
      "train_labels  (25000,)\n",
      "__________________________________________________\n",
      "test_data  (25000,)\n",
      "test_labels  (25000,)\n",
      "__________________________________________________\n",
      "Minimum value of a word index : 1\n",
      "Maximum value of a word index : 9999\n",
      "Maximum number of words of review in train : 2494\n",
      "Minimum number of words of review in train : 11\n",
      "Maximum number of words of review in test  : 2315\n",
      "Minimum number of words of review in test  : 7\n"
     ]
    },
    {
     "data": {
      "text/plain": [
       "<matplotlib.axes._subplots.AxesSubplot at 0x2a73d534278>"
      ]
     },
     "execution_count": 4,
     "metadata": {},
     "output_type": "execute_result"
    },
    {
     "data": {
      "image/png": "[encoded data removed]",
      "text/plain": [
       "<Figure size 432x288 with 1 Axes>"
      ]
     },
     "metadata": {},
     "output_type": "display_data"
    }
   ],
   "source": [
    "#load dataset as a list of ints\n",
    "(train_data, train_labels), (test_data, test_labels) = imdb_data\n",
    "\n",
    "print(\"train_data \", train_data.shape)\n",
    "print(\"train_labels \", train_labels.shape)\n",
    "print(\"_\"*50)\n",
    "print(\"test_data \", test_data.shape)\n",
    "print(\"test_labels \", test_labels.shape)\n",
    "print(\"_\"*50)\n",
    "print(\"Minimum value of a word index :\", min([min(sequence) for sequence in train_data]))\n",
    "print(\"Maximum value of a word index :\", max([max(sequence) for sequence in train_data]))\n",
    "train_len = [len(sequence) for sequence in train_data]\n",
    "test_len = [len(sequence) for sequence in test_data]\n",
    "print(\"Maximum number of words of review in train :\", max(train_len))\n",
    "print(\"Minimum number of words of review in train :\", min(train_len))\n",
    "print(\"Maximum number of words of review in test  :\", max(test_len))\n",
    "print(\"Minimum number of words of review in test  :\", min(test_len))\n",
    "\n",
    "# Visualize the length of max and min length reviews in both training and test sets\n",
    "sns.barplot(x=['Train set - MAX','Train set - MIN','Test set - MAX','Test set - MIN'], \n",
    "            y=[max(train_len),min(train_len),max(test_len),min(test_len)])"
   ]
  },
  {
   "cell_type": "markdown",
   "metadata": {},
   "source": [
    "#### Sentiment types"
   ]
  },
  {
   "cell_type": "code",
   "execution_count": 5,
   "metadata": {},
   "outputs": [
    {
     "name": "stdout",
     "output_type": "stream",
     "text": [
      "[0 1]\n"
     ]
    },
    {
     "data": {
      "image/png": "[encoded data removed]",
      "text/plain": [
       "<Figure size 432x288 with 1 Axes>"
      ]
     },
     "metadata": {},
     "output_type": "display_data"
    }
   ],
   "source": [
    "# The unique sentiments as target column\n",
    "unique, counts = np.unique(np.concatenate((train_labels, test_labels)), return_counts=True)\n",
    "print(unique)\n",
    "sentiments = {1: 'Positive', 0: 'Negative'}\n",
    "\n",
    "# Visualize the propertion of Positive and Negative reviewes in the original dataset\n",
    "_ = plt.pie(counts, autopct='%1.1f%%', startangle=45)"
   ]
  },
  {
   "cell_type": "markdown",
   "metadata": {},
   "source": [
    "## Interpete the actual Reviews"
   ]
  },
  {
   "cell_type": "code",
   "execution_count": 6,
   "metadata": {
    "scrolled": true
   },
   "outputs": [
    {
     "name": "stdout",
     "output_type": "stream",
     "text": [
      "? as a another reviewer states ? war is an outstanding film about an outstanding person ? ? ? who would become the jewish joan of arc unfortunately i ? in opinion not ? that miss ? as the lead is too beautiful to be taken seriously as a resistance fighter in truth for me her performance is not held back by her beauty but makes it all the more stark in the terror of the sadistic brutality as a ? she faces ? ? performance is brave poignant heartfelt or understood and totally believable in other words for me in the zone from the opening credits if you would like to learn about the suffering of someone else for something they believe in and be ? entertained give ? war with ? ? a try my hat is off also to ellen ? as ? mother a much well known and famous actress who could have made effort to walk off with the film in that it is a team effort perhaps of two ? but not an all about eve situation\n",
      "\n",
      "The sentiment for the above review is: Positive\n",
      "_____________________________________________________________________________________________________________________________\n",
      "? this movie is recommended only for ? it will ? them by putting them to sleep five year olds might also enjoy it but for anyone else including fans of the genre what a bore the ancient plot is reminiscent of return of the dragon and this film is just as inept but ? is no bruce lee so enter the ninja is an even worse film until now this is the second the offensive comedy bachelor party was the first film i gave 1 10 to\n",
      "\n",
      "The sentiment for the above review is: Negative\n"
     ]
    }
   ],
   "source": [
    "# Reverse from integers to words using the DICTIONARY (given by keras...need to do nothing to create it)\n",
    "def interprete_review(sequence):\n",
    "    id_to_word = dict([(value, key) for (key, value) in imdb.get_word_index().items()])\n",
    "    decoded_review = ' '.join([id_to_word.get(idx-3, '?') for idx in sequence])\n",
    "    print(decoded_review)\n",
    "    \n",
    "review_id1 = np.random.choice(train_len)\n",
    "interprete_review(train_data[review_id1])\n",
    "print('\\nThe sentiment for the above review is:', sentiments.get(train_labels[review_id1]))\n",
    "print(\"_\"*125)\n",
    "review_id2 = np.random.choice(test_len)\n",
    "interprete_review(test_data[review_id2])\n",
    "print('\\nThe sentiment for the above review is:', sentiments.get(test_labels[review_id2]))"
   ]
  },
  {
   "cell_type": "markdown",
   "metadata": {},
   "source": [
    "**Note:** In Keras format for movie reviews the words that are rare (not among the 10,000 most common) or aren't in the training data have a special ID value of 2. Also, each ID is offset by 3 to make room for special values 0, 1, 2 and 3. So is the reason for substracting 3 to find the correct word for an ID.\n",
    "\n",
    "## Vectorize input data\n",
    "Both train_data and test_data are in the form of 1D list of integers. They need to be converted into binary matrix in order to feed them into NN model. Besides all the reviews are NOT of same length. So we are using pad_sequences from keras to make all the reviews of same size by padding 0's before the sequence. \n",
    "\n",
    "**We're going to pad them to make them of equal size of 300 as per the question instead of considering the max length for padding to be 2494 which is the word count of highest length review.**\n",
    "\n",
    "We'll also analyze how much portion of original data we're trimming off by considering 300 as the maxlen."
   ]
  },
  {
   "cell_type": "code",
   "execution_count": 7,
   "metadata": {
    "colab": {},
    "colab_type": "code",
    "id": "h0g381XzeCyz"
   },
   "outputs": [
    {
     "name": "stdout",
     "output_type": "stream",
     "text": [
      "x_train : (25000, 1500)\n",
      "x_test  : (25000, 1500)\n"
     ]
    }
   ],
   "source": [
    "maxlen = 1500  #number of word used from each review\n",
    "# maxlen = max([len(sequence) for sequence in np.concatenate([train_data, test_data])])\n",
    "\n",
    "#make all sequences of the same length\n",
    "x_train = pad_sequences(train_data, maxlen=maxlen)\n",
    "x_test =  pad_sequences(test_data, maxlen=maxlen)\n",
    "\n",
    "y_train = train_labels\n",
    "y_test = test_labels\n",
    "\n",
    "print(\"x_train :\", x_train.shape)\n",
    "print(\"x_test  :\", x_test.shape)"
   ]
  },
  {
   "cell_type": "code",
   "execution_count": 8,
   "metadata": {},
   "outputs": [
    {
     "data": {
      "text/plain": [
       "array([  0,   0,   0, ..., 676, 496,  12])"
      ]
     },
     "execution_count": 8,
     "metadata": {},
     "output_type": "execute_result"
    }
   ],
   "source": [
    "# Visualize any random review after padding\n",
    "x_train[np.random.randint(0,len(train_data)-1)]"
   ]
  },
  {
   "cell_type": "code",
   "execution_count": 9,
   "metadata": {},
   "outputs": [
    {
     "data": {
      "text/plain": [
       "<matplotlib.legend.Legend at 0x2a73fa444a8>"
      ]
     },
     "execution_count": 9,
     "metadata": {},
     "output_type": "execute_result"
    },
    {
     "data": {
      "image/png": "[encoded data removed]",
      "text/plain": [
       "<Figure size 432x288 with 1 Axes>"
      ]
     },
     "metadata": {},
     "output_type": "display_data"
    }
   ],
   "source": [
    "# Plot the max word count of all 50,000 reviews\n",
    "imdb_len = [len(sequence) for sequence in np.concatenate((train_data,test_data))]\n",
    "plt.plot(np.sort(imdb_len)[::-1])\n",
    "plt.axhline(maxlen, color='b', label='Max= 300')\n",
    "plt.legend()"
   ]
  },
  {
   "cell_type": "code",
   "execution_count": 10,
   "metadata": {},
   "outputs": [
    {
     "name": "stdout",
     "output_type": "stream",
     "text": [
      "Trimming off 0.02% of data by setting 300 as maxlen\n"
     ]
    }
   ],
   "source": [
    "print('Trimming off %.2f%% of data by setting 300 as maxlen' % (len([i for i in imdb_len if i > maxlen]) / len(imdb_len) * 100))"
   ]
  },
  {
   "cell_type": "markdown",
   "metadata": {
    "colab_type": "text",
    "id": "dybtUgUReCy8"
   },
   "source": [
    "**Observations**:\n",
    "- From the above figure and the calculation it is found out that by setting maxlen to 300, we're trimming off almost $\\frac{1}{5}^{th}$ of original review data\n",
    "---\n",
    "## Build Keras Sequential Model\n",
    "We can think of the Embedding layer as a dicionary that maps a index assigned to a word to a word vector. This layer is very flexible and can be used in a few ways:\n",
    "\n",
    "* The embedding layer can be used at the start of a larger deep learning model. \n",
    "* Also we could load pre-train word embeddings into the embedding layer when we create our model.\n",
    "* Use the embedding layer to train our own word2vec models.\n",
    "\n",
    "The keras embedding layer doesn't require us to onehot encode our words, instead we have to give each word a unqiue intger number as an id. For the imdb dataset we've loaded this has already been done, but if this wasn't the case we could use sklearn [LabelEncoder](http://scikit-learn.org/stable/modules/generated/sklearn.preprocessing.LabelEncoder.html).\n",
    "\n",
    "#### Generic Methods\n",
    "Let's write some generic method to plot some useful curves such as validation curves, precision-recall curves and print the classification summary."
   ]
  },
  {
   "cell_type": "code",
   "execution_count": 11,
   "metadata": {},
   "outputs": [],
   "source": [
    "# Generic method to plot the VALIDATION curves\n",
    "def plot_validation_curve(history, metrics):\n",
    "    plt.clf()\n",
    "    history_dict = history.history\n",
    "    f, ax = plt.subplots(1, len(metrics), figsize=(16,6))\n",
    "    for i, metric in enumerate(metrics):\n",
    "        metric_values = history_dict[metric]\n",
    "        val_metric_values = history_dict['val_' + metric]\n",
    "        epochs = range(1, (len(history_dict[metric]) + 1))\n",
    "        ax[i].plot(epochs, metric_values, 'bo:', label='Training ' + metric)\n",
    "        ax[i].plot(epochs, val_metric_values, 'go-', label='Validation ' + metric)\n",
    "        ax[i].set_title('Training and Validation ' + ('Accuracy' if metric=='acc' else 'Loss'))\n",
    "        ax[i].set_xlabel('Epochs')\n",
    "        ax[i].set_ylabel('Accuracy' if metric=='acc' else 'Loss')\n",
    "        ax[i].legend()"
   ]
  },
  {
   "cell_type": "code",
   "execution_count": 12,
   "metadata": {},
   "outputs": [],
   "source": [
    "# Generic method to plot Precision-Recall curve\n",
    "def plot_prec_recall_vs_thresh(precisions, recalls, thresholds):\n",
    "    plt.figure(figsize=(10,5))\n",
    "    plt.plot(thresholds, precisions[:-1], 'b--', label='precision')\n",
    "    plt.plot(thresholds, recalls[:-1], 'g--', label = 'recall')\n",
    "    plt.xlabel('Threshold')\n",
    "    plt.legend()"
   ]
  },
  {
   "cell_type": "code",
   "execution_count": 13,
   "metadata": {},
   "outputs": [],
   "source": [
    "# Generic method to print the classification report\n",
    "def classification_summary(y_test, y_pred, y_proba):\n",
    "    print('\\033[1mTesting accuracy:\\033[0m %.2f%%' % (accuracy_score(y_test, y_pred) * 100))\n",
    "    print('_'*80)\n",
    "    print('\\033[1mConfusion matrix:\\033[0m\\n %s' % (confusion_matrix(y_test, y_pred)))\n",
    "    print('_'*80)\n",
    "    print('\\033[1mClassification report:\\033[0m\\n %s' % (classification_report(y_test, y_pred)))\n",
    "    print('_'*80)\n",
    "    print('\\033[1mPrecision-Recall curve\\033[10m')\n",
    "    precision, recall, thresholds = precision_recall_curve(y_test, y_proba)\n",
    "    plot_prec_recall_vs_thresh(precision, recall, thresholds)"
   ]
  },
  {
   "cell_type": "markdown",
   "metadata": {},
   "source": [
    "Let's try for different flavors of Neural Networks to observe their performances with sequential textual data.\n",
    "### Phase I - With Simple Artificial Neural Network (ANN)\n",
    "The first deep learning model that we are going to develop is a simple deep neural network."
   ]
  },
  {
   "cell_type": "code",
   "execution_count": 14,
   "metadata": {},
   "outputs": [
    {
     "name": "stdout",
     "output_type": "stream",
     "text": [
      "WARNING:tensorflow:From C:\\Users\\aksha\\Anaconda3\\lib\\site-packages\\keras\\backend\\tensorflow_backend.py:74: The name tf.get_default_graph is deprecated. Please use tf.compat.v1.get_default_graph instead.\n",
      "\n",
      "WARNING:tensorflow:From C:\\Users\\aksha\\Anaconda3\\lib\\site-packages\\keras\\backend\\tensorflow_backend.py:517: The name tf.placeholder is deprecated. Please use tf.compat.v1.placeholder instead.\n",
      "\n",
      "WARNING:tensorflow:From C:\\Users\\aksha\\Anaconda3\\lib\\site-packages\\keras\\backend\\tensorflow_backend.py:4138: The name tf.random_uniform is deprecated. Please use tf.random.uniform instead.\n",
      "\n",
      "WARNING:tensorflow:From C:\\Users\\aksha\\Anaconda3\\lib\\site-packages\\keras\\optimizers.py:790: The name tf.train.Optimizer is deprecated. Please use tf.compat.v1.train.Optimizer instead.\n",
      "\n",
      "WARNING:tensorflow:From C:\\Users\\aksha\\Anaconda3\\lib\\site-packages\\keras\\backend\\tensorflow_backend.py:3376: The name tf.log is deprecated. Please use tf.math.log instead.\n",
      "\n",
      "WARNING:tensorflow:From C:\\Users\\aksha\\Anaconda3\\lib\\site-packages\\tensorflow_core\\python\\ops\\nn_impl.py:183: where (from tensorflow.python.ops.array_ops) is deprecated and will be removed in a future version.\n",
      "Instructions for updating:\n",
      "Use tf.where in 2.0, which has the same broadcast rule as np.where\n",
      "_________________________________________________________________\n",
      "Layer (type)                 Output Shape              Param #   \n",
      "=================================================================\n",
      "embedding_1 (Embedding)      (None, 1500, 300)         3000000   \n",
      "_________________________________________________________________\n",
      "flatten_1 (Flatten)          (None, 450000)            0         \n",
      "_________________________________________________________________\n",
      "dense_1 (Dense)              (None, 1)                 450001    \n",
      "=================================================================\n",
      "Total params: 3,450,001\n",
      "Trainable params: 3,450,001\n",
      "Non-trainable params: 0\n",
      "_________________________________________________________________\n"
     ]
    }
   ],
   "source": [
    "embedding_dim = 300\n",
    "# Build the network\n",
    "ann = Sequential()\n",
    "ann.add(Embedding(input_dim=vocab_size, output_dim=embedding_dim, input_length=maxlen))\n",
    "ann.add(Flatten())\n",
    "ann.add(Dense(1, activation='sigmoid'))\n",
    "ann.compile(optimizer='adam', loss='binary_crossentropy', metrics=['accuracy'])\n",
    "ann.summary()"
   ]
  },
  {
   "cell_type": "code",
   "execution_count": 15,
   "metadata": {
    "colab": {},
    "colab_type": "code",
    "id": "TxNDNhrseCzA"
   },
   "outputs": [
    {
     "name": "stdout",
     "output_type": "stream",
     "text": [
      "WARNING:tensorflow:From C:\\Users\\aksha\\Anaconda3\\lib\\site-packages\\keras\\backend\\tensorflow_backend.py:986: The name tf.assign_add is deprecated. Please use tf.compat.v1.assign_add instead.\n",
      "\n",
      "WARNING:tensorflow:From C:\\Users\\aksha\\Anaconda3\\lib\\site-packages\\keras\\backend\\tensorflow_backend.py:973: The name tf.assign is deprecated. Please use tf.compat.v1.assign instead.\n",
      "\n",
      "WARNING:tensorflow:From C:\\Users\\aksha\\Anaconda3\\lib\\site-packages\\keras\\backend\\tensorflow_backend.py:2741: The name tf.Session is deprecated. Please use tf.compat.v1.Session instead.\n",
      "\n",
      "Train on 20000 samples, validate on 5000 samples\n",
      "Epoch 1/5\n",
      "WARNING:tensorflow:From C:\\Users\\aksha\\Anaconda3\\lib\\site-packages\\keras\\backend\\tensorflow_backend.py:174: The name tf.get_default_session is deprecated. Please use tf.compat.v1.get_default_session instead.\n",
      "\n",
      "WARNING:tensorflow:From C:\\Users\\aksha\\Anaconda3\\lib\\site-packages\\keras\\backend\\tensorflow_backend.py:181: The name tf.ConfigProto is deprecated. Please use tf.compat.v1.ConfigProto instead.\n",
      "\n",
      "WARNING:tensorflow:From C:\\Users\\aksha\\Anaconda3\\lib\\site-packages\\keras\\backend\\tensorflow_backend.py:190: The name tf.global_variables is deprecated. Please use tf.compat.v1.global_variables instead.\n",
      "\n",
      "WARNING:tensorflow:From C:\\Users\\aksha\\Anaconda3\\lib\\site-packages\\keras\\backend\\tensorflow_backend.py:199: The name tf.is_variable_initialized is deprecated. Please use tf.compat.v1.is_variable_initialized instead.\n",
      "\n",
      "WARNING:tensorflow:From C:\\Users\\aksha\\Anaconda3\\lib\\site-packages\\keras\\backend\\tensorflow_backend.py:206: The name tf.variables_initializer is deprecated. Please use tf.compat.v1.variables_initializer instead.\n",
      "\n",
      "20000/20000 [==============================] - 3s 154us/step - loss: 1.1167 - acc: 0.5073 - val_loss: 0.6482 - val_acc: 0.7028\n",
      "Epoch 2/5\n",
      "20000/20000 [==============================] - 2s 78us/step - loss: 0.4945 - acc: 0.8046 - val_loss: 0.3750 - val_acc: 0.8538\n",
      "Epoch 3/5\n",
      "20000/20000 [==============================] - 2s 78us/step - loss: 0.2446 - acc: 0.9173 - val_loss: 0.2917 - val_acc: 0.8818\n",
      "Epoch 4/5\n",
      "20000/20000 [==============================] - 2s 78us/step - loss: 0.1509 - acc: 0.9561 - val_loss: 0.2773 - val_acc: 0.8836\n",
      "Epoch 5/5\n",
      "20000/20000 [==============================] - 2s 78us/step - loss: 0.0951 - acc: 0.9810 - val_loss: 0.2772 - val_acc: 0.8860\n",
      "Time spent: 9.54 sec\n"
     ]
    }
   ],
   "source": [
    "# Train the model\n",
    "epochs = 5\n",
    "batches = 512\n",
    "start = time()\n",
    "history = ann.fit(x_train, y_train, epochs=epochs, batch_size=batches, validation_split=0.2)\n",
    "print('Time spent: %.2f sec' % (time()-start))"
   ]
  },
  {
   "cell_type": "code",
   "execution_count": 16,
   "metadata": {},
   "outputs": [
    {
     "data": {
      "text/plain": [
       "<Figure size 432x288 with 0 Axes>"
      ]
     },
     "metadata": {},
     "output_type": "display_data"
    },
    {
     "data": {
      "image/png": "[encoded data removed]",
      "text/plain": [
       "<Figure size 1152x432 with 2 Axes>"
      ]
     },
     "metadata": {},
     "output_type": "display_data"
    }
   ],
   "source": [
    "# VALIDATION ACCURACY and LOSS Curve\n",
    "plot_validation_curve(history, ['acc','loss'])"
   ]
  },
  {
   "cell_type": "code",
   "execution_count": 17,
   "metadata": {},
   "outputs": [
    {
     "name": "stdout",
     "output_type": "stream",
     "text": [
      "25000/25000 [==============================] - 3s 111us/step\n",
      "Test Loss: 0.2808 and Accuracy: 88.18%\n"
     ]
    }
   ],
   "source": [
    "# Find Loss and Accuracy of test set\n",
    "loss, acc = ann.evaluate(x_test, y_test)\n",
    "print(\"Test Loss: %.4f and Accuracy: %.2f%%\" % (loss, acc * 100))"
   ]
  },
  {
   "cell_type": "markdown",
   "metadata": {},
   "source": [
    "#### Analyze Classification Summary"
   ]
  },
  {
   "cell_type": "code",
   "execution_count": 18,
   "metadata": {},
   "outputs": [
    {
     "name": "stdout",
     "output_type": "stream",
     "text": [
      "\u001b[1mTesting accuracy:\u001b[0m 88.18%\n",
      "________________________________________________________________________________\n",
      "\u001b[1mConfusion matrix:\u001b[0m\n",
      " [[10845  1655]\n",
      " [ 1301 11199]]\n",
      "________________________________________________________________________________\n",
      "\u001b[1mClassification report:\u001b[0m\n",
      "               precision    recall  f1-score   support\n",
      "\n",
      "           0       0.89      0.87      0.88     12500\n",
      "           1       0.87      0.90      0.88     12500\n",
      "\n",
      "    accuracy                           0.88     25000\n",
      "   macro avg       0.88      0.88      0.88     25000\n",
      "weighted avg       0.88      0.88      0.88     25000\n",
      "\n",
      "________________________________________________________________________________\n",
      "\u001b[1mPrecision-Recall curve\u001b[10m\n"
     ]
    },
    {
     "data": {
      "image/png": "[encoded data removed]",
      "text/plain": [
       "<Figure size 720x360 with 1 Axes>"
      ]
     },
     "metadata": {},
     "output_type": "display_data"
    }
   ],
   "source": [
    "y_pred = ann.predict_classes(x_test)\n",
    "y_proba = ann.predict_proba(x_test)\n",
    "classification_summary(y_test, y_pred, y_proba)"
   ]
  },
  {
   "cell_type": "markdown",
   "metadata": {},
   "source": [
    "**Observations**:\n",
    "- ANN seems to be working good 88.2% test score.\n",
    "- However, we can clearly see the differences for loss and accuracy between the training and validation sets. This indicates that the model is overfitted.\n",
    "\n",
    "### Phase II - With Convolutional Neural Network (CNN)\n",
    "Convolutional neural network is a type of network that is primarily used for 2D data classification, such as images. These networks also have been found to be working well with text data as well. Though text data is one-dimensional, we can use 1D convolutional neural networks to extract features from our data.<br/>\n",
    "Let's create a simple convolutional neural network with 1 convolutional layer and 1 pooling layer."
   ]
  },
  {
   "cell_type": "code",
   "execution_count": 21,
   "metadata": {},
   "outputs": [
    {
     "name": "stdout",
     "output_type": "stream",
     "text": [
      "_________________________________________________________________\n",
      "Layer (type)                 Output Shape              Param #   \n",
      "=================================================================\n",
      "embedding_3 (Embedding)      (None, 1500, 300)         3000000   \n",
      "_________________________________________________________________\n",
      "dropout_3 (Dropout)          (None, 1500, 300)         0         \n",
      "_________________________________________________________________\n",
      "conv1d_2 (Conv1D)            (None, 1500, 32)          28832     \n",
      "_________________________________________________________________\n",
      "max_pooling1d_2 (MaxPooling1 (None, 750, 32)           0         \n",
      "_________________________________________________________________\n",
      "dropout_4 (Dropout)          (None, 750, 32)           0         \n",
      "_________________________________________________________________\n",
      "flatten_3 (Flatten)          (None, 24000)             0         \n",
      "_________________________________________________________________\n",
      "dense_4 (Dense)              (None, 250)               6000250   \n",
      "_________________________________________________________________\n",
      "dense_5 (Dense)              (None, 1)                 251       \n",
      "=================================================================\n",
      "Total params: 9,029,333\n",
      "Trainable params: 9,029,333\n",
      "Non-trainable params: 0\n",
      "_________________________________________________________________\n"
     ]
    }
   ],
   "source": [
    "# Build the network\n",
    "cnn = Sequential()\n",
    "cnn.add(Embedding(input_dim=vocab_size, output_dim=embedding_dim, input_length=maxlen))\n",
    "cnn.add(Dropout(0.2))\n",
    "cnn.add(Conv1D(filters=32, kernel_size=3, padding='same', activation='relu'))\n",
    "cnn.add(MaxPooling1D(pool_size=2))\n",
    "cnn.add(Dropout(0.2))\n",
    "cnn.add(Flatten())\n",
    "cnn.add(Dense(250, activation='relu'))\n",
    "cnn.add(Dense(1, activation='sigmoid'))\n",
    "cnn.compile(optimizer='adam', loss='binary_crossentropy', metrics=['accuracy'])\n",
    "cnn.summary()"
   ]
  },
  {
   "cell_type": "code",
   "execution_count": 22,
   "metadata": {
    "colab": {},
    "colab_type": "code",
    "id": "TxNDNhrseCzA"
   },
   "outputs": [
    {
     "name": "stdout",
     "output_type": "stream",
     "text": [
      "Train on 20000 samples, validate on 5000 samples\n",
      "Epoch 1/5\n",
      "20000/20000 [==============================] - 9s 427us/step - loss: 0.7093 - acc: 0.5104 - val_loss: 0.6859 - val_acc: 0.4940\n",
      "Epoch 2/5\n",
      "20000/20000 [==============================] - 8s 376us/step - loss: 0.5090 - acc: 0.7372 - val_loss: 0.3030 - val_acc: 0.8730\n",
      "Epoch 3/5\n",
      "20000/20000 [==============================] - 8s 376us/step - loss: 0.2331 - acc: 0.9063 - val_loss: 0.2662 - val_acc: 0.8948\n",
      "Epoch 4/5\n",
      "20000/20000 [==============================] - 8s 375us/step - loss: 0.1382 - acc: 0.9520 - val_loss: 0.2754 - val_acc: 0.8960\n",
      "Epoch 5/5\n",
      "20000/20000 [==============================] - 8s 376us/step - loss: 0.0897 - acc: 0.9709 - val_loss: 0.3135 - val_acc: 0.8916\n",
      "Time spent: 38.91 sec\n"
     ]
    }
   ],
   "source": [
    "# Train the model\n",
    "epochs = 5\n",
    "batches = 512\n",
    "start = time()\n",
    "history = cnn.fit(x_train, y_train, epochs=epochs, batch_size=batches, validation_split=0.2)\n",
    "print('Time spent: %.2f sec' % (time()-start))"
   ]
  },
  {
   "cell_type": "code",
   "execution_count": 23,
   "metadata": {},
   "outputs": [
    {
     "data": {
      "text/plain": [
       "<Figure size 432x288 with 0 Axes>"
      ]
     },
     "metadata": {},
     "output_type": "display_data"
    },
    {
     "data": {
      "image/png": "[encoded data removed]",
      "text/plain": [
       "<Figure size 1152x432 with 2 Axes>"
      ]
     },
     "metadata": {},
     "output_type": "display_data"
    }
   ],
   "source": [
    "# VALIDATION ACCURACY and LOSS Curve\n",
    "plot_validation_curve(history, ['acc','loss'])"
   ]
  },
  {
   "cell_type": "code",
   "execution_count": 24,
   "metadata": {},
   "outputs": [
    {
     "name": "stdout",
     "output_type": "stream",
     "text": [
      "25000/25000 [==============================] - 2s 97us/step\n",
      "Test Loss: 0.3330 and Accuracy: 88.10%\n"
     ]
    }
   ],
   "source": [
    "# Find Loss and Accuracy of test set\n",
    "loss, acc = cnn.evaluate(x_test, y_test)\n",
    "print(\"Test Loss: %.4f and Accuracy: %.2f%%\" % (loss, acc * 100))"
   ]
  },
  {
   "cell_type": "code",
   "execution_count": 25,
   "metadata": {},
   "outputs": [
    {
     "name": "stdout",
     "output_type": "stream",
     "text": [
      "\u001b[1mTesting accuracy:\u001b[0m 88.10%\n",
      "________________________________________________________________________________\n",
      "\u001b[1mConfusion matrix:\u001b[0m\n",
      " [[10972  1528]\n",
      " [ 1448 11052]]\n",
      "________________________________________________________________________________\n",
      "\u001b[1mClassification report:\u001b[0m\n",
      "               precision    recall  f1-score   support\n",
      "\n",
      "           0       0.88      0.88      0.88     12500\n",
      "           1       0.88      0.88      0.88     12500\n",
      "\n",
      "    accuracy                           0.88     25000\n",
      "   macro avg       0.88      0.88      0.88     25000\n",
      "weighted avg       0.88      0.88      0.88     25000\n",
      "\n",
      "________________________________________________________________________________\n",
      "\u001b[1mPrecision-Recall curve\u001b[10m\n"
     ]
    },
    {
     "data": {
      "image/png": "[encoded data removed]",
      "text/plain": [
       "<Figure size 720x360 with 1 Axes>"
      ]
     },
     "metadata": {},
     "output_type": "display_data"
    }
   ],
   "source": [
    "y_pred = cnn.predict_classes(x_test)\n",
    "y_proba = cnn.predict_proba(x_test)\n",
    "classification_summary(y_test, y_pred, y_proba)"
   ]
  },
  {
   "cell_type": "markdown",
   "metadata": {},
   "source": [
    "**Observations**:\n",
    "- CNN seems to be working badly though the test score is close to ANN.\n",
    "- The significant deviation of accuracy and loss curves of validation set from test set indicates it is deviating from convergence.\n",
    "\n",
    "### Phase III - With Recurrent Neural Network (LSTM)\n",
    "Recurrent neural network is a type of neural networks that is proven to work well with sequence data. Since text is actually a sequence of words, a recurrent neural network is an automatic choice to solve text-related problems. In this section, we will use an LSTM (Long Short Term Memory network) which is a variant of RNN, to solve sentiment classification problem."
   ]
  },
  {
   "cell_type": "code",
   "execution_count": 32,
   "metadata": {},
   "outputs": [
    {
     "name": "stdout",
     "output_type": "stream",
     "text": [
      "_________________________________________________________________\n",
      "Layer (type)                 Output Shape              Param #   \n",
      "=================================================================\n",
      "embedding_7 (Embedding)      (None, 1500, 300)         3000000   \n",
      "_________________________________________________________________\n",
      "dropout_11 (Dropout)         (None, 1500, 300)         0         \n",
      "_________________________________________________________________\n",
      "lstm_4 (LSTM)                (None, 128)               219648    \n",
      "_________________________________________________________________\n",
      "dense_12 (Dense)             (None, 150)               19350     \n",
      "_________________________________________________________________\n",
      "dropout_12 (Dropout)         (None, 150)               0         \n",
      "_________________________________________________________________\n",
      "dense_13 (Dense)             (None, 1)                 151       \n",
      "=================================================================\n",
      "Total params: 3,239,149\n",
      "Trainable params: 3,239,149\n",
      "Non-trainable params: 0\n",
      "_________________________________________________________________\n"
     ]
    }
   ],
   "source": [
    "# Build the network\n",
    "lstm = Sequential()\n",
    "lstm.add(Embedding(input_dim=vocab_size, output_dim=embedding_dim, input_length=maxlen))\n",
    "lstm.add(Dropout(0.2))\n",
    "lstm.add(LSTM(128, activation='tanh', dropout=0.2,\n",
    "               kernel_constraint=unit_norm(),\n",
    "               recurrent_constraint=unit_norm(),\n",
    "               bias_constraint=unit_norm()))\n",
    "lstm.add(Dense(150, activation='relu'))\n",
    "lstm.add(Dropout(0.2))\n",
    "lstm.add(Dense(1, activation='sigmoid'))\n",
    "lstm.compile(optimizer='adam', loss='binary_crossentropy', metrics=['accuracy'])\n",
    "lstm.summary()"
   ]
  },
  {
   "cell_type": "code",
   "execution_count": 33,
   "metadata": {
    "colab": {},
    "colab_type": "code",
    "id": "TxNDNhrseCzA"
   },
   "outputs": [
    {
     "name": "stdout",
     "output_type": "stream",
     "text": [
      "Train on 20000 samples, validate on 5000 samples\n",
      "Epoch 1/5\n",
      "20000/20000 [==============================] - 449s 22ms/step - loss: 0.5455 - acc: 0.7095 - val_loss: 0.3657 - val_acc: 0.8414\n",
      "Epoch 2/5\n",
      "20000/20000 [==============================] - 449s 22ms/step - loss: 0.2794 - acc: 0.8885 - val_loss: 0.3465 - val_acc: 0.8494\n",
      "Epoch 3/5\n",
      "20000/20000 [==============================] - 444s 22ms/step - loss: 0.2017 - acc: 0.9244 - val_loss: 0.3572 - val_acc: 0.8442\n",
      "Epoch 4/5\n",
      "20000/20000 [==============================] - 468s 23ms/step - loss: 0.1446 - acc: 0.9459 - val_loss: 0.4555 - val_acc: 0.8274\n",
      "Epoch 5/5\n",
      "20000/20000 [==============================] - 457s 23ms/step - loss: 0.1088 - acc: 0.9614 - val_loss: 0.5044 - val_acc: 0.8614\n",
      "Time spent: 2267.72 sec\n"
     ]
    }
   ],
   "source": [
    "# Train the model\n",
    "epochs = 5\n",
    "batches = 128\n",
    "start = time()\n",
    "history = lstm.fit(x_train, y_train, epochs=epochs, batch_size=batches, validation_split=0.2)\n",
    "print('Time spent: %.2f sec' % (time()-start))"
   ]
  },
  {
   "cell_type": "code",
   "execution_count": null,
   "metadata": {},
   "outputs": [],
   "source": [
    "# VALIDATION ACCURACY and LOSS Curve\n",
    "plot_validation_curve(history, ['acc','loss'])"
   ]
  },
  {
   "cell_type": "code",
   "execution_count": null,
   "metadata": {},
   "outputs": [],
   "source": [
    "# Find Loss and Accuracy of test set\n",
    "loss, acc = lstm.evaluate(x_test, y_test)\n",
    "print(\"Test Loss: %.4f and Accuracy: %.2f%%\" % (loss, acc * 100))"
   ]
  },
  {
   "cell_type": "code",
   "execution_count": null,
   "metadata": {},
   "outputs": [],
   "source": [
    "y_pred = lstm.predict_classes(x_test)\n",
    "y_proba = lstm.predict_proba(x_test)\n",
    "classification_summary(y_test, y_pred, y_proba)"
   ]
  },
  {
   "cell_type": "markdown",
   "metadata": {
    "colab": {},
    "colab_type": "code",
    "id": "L3CSVVPPeCzD"
   },
   "source": [
    "**Observations**:\n",
    "- The output shows that the difference between the accuracy and loss values for training and validation sets are much smaller compared to the simple neural network and CNN.\n",
    "- Even though the test score is slightly less than the other two networks, just because this model is not overfitted, we can conclude, that for our problem, RNN is the best algorithm.\n",
    "---\n",
    "## Single Instance Prediction\n",
    "Let's pull a single review from the imdb dataset and predict it's sentiment. Also predict the sentiment of a custom review."
   ]
  },
  {
   "cell_type": "code",
   "execution_count": 29,
   "metadata": {
    "scrolled": false
   },
   "outputs": [
    {
     "name": "stdout",
     "output_type": "stream",
     "text": [
      "? it would be great if a discussion on this medium length film is ? with a brief tale about ? of hollywood people it was in 1988 that chuck norris saw this film at cannes international film festival he made a silly remark by ? that the senseless killing depicted in 5 is far more effective than killings which have been filmed in his hollywood films with him as a potent action star he was speaking about an innocent taxi driver whose face is brutally ? in ? film by a reckless psychopath who hits him ? with a big stone there should be absolutely no justification for violence and its ? in a ? human society this is the reason why chuck ? statement appears as a cruel joke which ? violent means in a society which is increasing becoming restless an honest reviewer would not be making a mistake if he she states that ? film 1 5 has universal ? this is because the events depicted in 5 can happen in any part of world the best lesson which gives to us concerns levels of violence which are acceptable in a just society this is the reason why the brutal ? of an innocent cab driver is capable of causing a feeling of in us we would not feel the same hatred for homicide when it appears in films featuring arnold ? chuck norris and jean claude van damme as they appear much too artificial one can easily grasp that special effects and modern studio techniques can charm only ? but make no sense to serious film ? ? also ? ? of human beings in ? fellow humans beings from the ? of death and misery this is particularly interesting as time and again it has been proved that strict laws and capital ? have not been able to prevent homicide\n",
      "\n",
      "The \u001b[1mACTUAL\u001b[0m sentiment    :\u001b[1mPositive\u001b[0m\n",
      "\n",
      "The \u001b[1mPREDICTED\u001b[0m sentiment :\u001b[1mNegative\u001b[0m\n"
     ]
    }
   ],
   "source": [
    "# Predict for a random pre-defined review from IMDB dataset\n",
    "review_id = np.random.choice(test_len)\n",
    "interprete_review(test_data[review_id])\n",
    "print('\\nThe \\033[1mACTUAL\\033[0m sentiment    :\\033[1m' + sentiments.get(test_labels[review_id]) + '\\033[0m')\n",
    "prediction = lstm.predict_classes(pad_sequences([test_data[review_id]], maxlen=maxlen))\n",
    "print('\\nThe \\033[1mPREDICTED\\033[0m sentiment :\\033[1m' + sentiments.get(prediction[0][0]) + '\\033[0m')"
   ]
  },
  {
   "cell_type": "code",
   "execution_count": 30,
   "metadata": {},
   "outputs": [],
   "source": [
    "# Predict for a custom review not present in the IMDB dataset\n",
    "review = '''This Movie should only be watched if you want to punish yourself by sitting through 3 hours of torture.\n",
    "            Bland movie, extremely slow, boring, monotonous with weak and predictable story with dose of overacting'''\n",
    "word_dict = imdb.get_word_index()\n",
    "words = review.split()\n",
    "review = []\n",
    "for word in words:\n",
    "    if word.lower() not in word_dict:\n",
    "        review.append(2)\n",
    "    else:\n",
    "        review.append(word_dict[word.lower()] + 3) "
   ]
  },
  {
   "cell_type": "markdown",
   "metadata": {},
   "source": [
    "**Note:** The Keras format for movie reviews expects all lower-case letters, with all punctuations removed except the single-quote character. The dictionary is 1-base indexed and constructed by word frequency. For example, word_dict[\"the\"] = 1, word_dict[\"and\"] = 2.<br/>\n",
    "The words that are rare (not among the 10,000 most common) or aren't in the training data have a special ID value of 2. Also, each ID is offset by 3 to make room for special values 0, 1, 2 and 3. So is the reason for adding 3 to generate the intgers list for a review."
   ]
  },
  {
   "cell_type": "code",
   "execution_count": 31,
   "metadata": {},
   "outputs": [
    {
     "name": "stdout",
     "output_type": "stream",
     "text": [
      "\n",
      "The PREDICTED sentiment for this custom review:\u001b[1m Negative\n"
     ]
    }
   ],
   "source": [
    "prediction = lstm.predict_classes(pad_sequences([review], maxlen=maxlen))\n",
    "print('\\nThe PREDICTED sentiment for this custom review:\\033[1m', sentiments.get(prediction[0][0]))"
   ]
  },
  {
   "cell_type": "markdown",
   "metadata": {
    "colab_type": "text",
    "id": "Igq8Qm8GeCzG"
   },
   "source": [
    "**Observation**:\n",
    "- As we can see the model is predicting pretty well for pre-defined reviews as well as for any custom review that is not in IMDB dataset, even if it is sarcastic.\n",
    "---\n",
    "## Retrive the output of each layer in keras for a given single test sample from the trained model you built\n",
    "Let's create a generic method to print the name, size and output of each layer in Keras model."
   ]
  },
  {
   "cell_type": "code",
   "execution_count": 32,
   "metadata": {
    "colab": {},
    "colab_type": "code",
    "id": "0AqOnLa2eCzH"
   },
   "outputs": [],
   "source": [
    "def layer_outs_for_single_instance(model, instance):\n",
    "    outputs = [layer.output for layer in model.layers]                  # all layer outputs\n",
    "    function = K.function([model.input, K.learning_phase()], outputs)   # evaluation function\n",
    "    \n",
    "    if instance.any():\n",
    "        layer_outs = function([np.array([instance,]), 1.])\n",
    "        print('_'*75)\n",
    "        for idx, out in enumerate(layer_outs):\n",
    "            print('\\033[1mLayer# :', idx + 1)\n",
    "            print('\\033[1mName   :', model.layers[idx].name)\n",
    "            print('\\033[1mShape  : ' + str(out.shape) + '\\033[0m')\n",
    "            print(out)\n",
    "            print('_'*75)"
   ]
  },
  {
   "cell_type": "markdown",
   "metadata": {},
   "source": [
    "**NOTE:**<br/>\n",
    "`K.function` creates TensorFlow tensor functions which are later used to get the output from the symbolic graph given the input. The model builds the predict function using `K.function`.<br/>\n",
    "Now `K.learning_phase()` is required as an input as many Keras layers like Dropout/Batchnomalization depend on it to change behavior during training and test time.\n",
    "\n",
    "More reference from the following link: [The output of an intermediate layer in Keras](https://keras.io/getting-started/faq/#how-can-i-obtain-the-output-of-an-intermediate-layer)"
   ]
  },
  {
   "cell_type": "code",
   "execution_count": 33,
   "metadata": {
    "scrolled": false
   },
   "outputs": [
    {
     "name": "stdout",
     "output_type": "stream",
     "text": [
      "___________________________________________________________________________\n",
      "\u001b[1mLayer# : 1\n",
      "\u001b[1mName   : embedding_3\n",
      "\u001b[1mShape  : (1, 1500, 100)\u001b[0m\n",
      "[[[ 0.03510366 -0.00104784 -0.03768963 ... -0.04661006  0.03081103\n",
      "   -0.01086194]\n",
      "  [ 0.03510366 -0.00104784 -0.03768963 ... -0.04661006  0.03081103\n",
      "   -0.01086194]\n",
      "  [ 0.03510366 -0.00104784 -0.03768963 ... -0.04661006  0.03081103\n",
      "   -0.01086194]\n",
      "  ...\n",
      "  [ 0.02757719  0.02297452  0.04802293 ...  0.04535711  0.03242543\n",
      "   -0.02364207]\n",
      "  [ 0.02750194 -0.00705909 -0.03055361 ... -0.0072977  -0.03107705\n",
      "   -0.0766234 ]\n",
      "  [ 0.02527129  0.0090374  -0.02742705 ... -0.0208643   0.03123565\n",
      "   -0.04808005]]]\n",
      "___________________________________________________________________________\n",
      "\u001b[1mLayer# : 2\n",
      "\u001b[1mName   : lstm_1\n",
      "\u001b[1mShape  : (1, 128)\u001b[0m\n",
      "[[ 0.0894258  -0.14665581  0.06511226  0.01985266  0.0790855  -0.04832412\n",
      "   0.04911081 -0.08062933  0.01172083 -0.12288991  0.12251399  0.10662539\n",
      "   0.05560811 -0.05968403  0.0477291   0.18705608  0.06837336 -0.02814982\n",
      "  -0.02717827  0.03887637  0.03386449  0.1009131  -0.03361513 -0.08857046\n",
      "  -0.09601685  0.05581606 -0.0026827  -0.07504331  0.12790206  0.01066786\n",
      "   0.15828475 -0.03539934 -0.05416977 -0.06242569  0.02078512  0.00993482\n",
      "   0.07122174 -0.14286752  0.03954433  0.08339299  0.00021667 -0.0866538\n",
      "   0.13880622  0.02432543  0.03173497 -0.10482513  0.01451567  0.11069433\n",
      "   0.10076064  0.03930314 -0.09954315  0.03815412  0.05485986  0.08963286\n",
      "  -0.07535708 -0.0226589   0.047462   -0.04204625  0.03429623 -0.11184084\n",
      "   0.04236367 -0.0971901  -0.10567779  0.0447472  -0.04331525 -0.06684127\n",
      "  -0.0408727  -0.08434658  0.0415312   0.05881651  0.07456683 -0.00185593\n",
      "   0.10688048 -0.1157522  -0.09403014  0.07959626  0.01209685  0.11310708\n",
      "  -0.06256327  0.03273618 -0.02231799 -0.19163519 -0.08818446  0.09355664\n",
      "   0.10034578 -0.07078122  0.08152191 -0.09938036  0.02589435 -0.01254533\n",
      "  -0.02255754 -0.15350598  0.00284326  0.05053056  0.12152666  0.00602607\n",
      "  -0.07036117  0.14524738  0.03847023 -0.12348857 -0.04700381  0.10030786\n",
      "   0.03303283 -0.01337396  0.13099949 -0.11053417 -0.15251651 -0.02643481\n",
      "   0.13872539  0.14314845 -0.03818969 -0.07136828 -0.00488137 -0.05851924\n",
      "  -0.03977399  0.1342036   0.04272649  0.06979873 -0.00091538  0.05736011\n",
      "   0.08418049 -0.04399873  0.07537497  0.01391594 -0.01953105  0.05918617\n",
      "  -0.11436705  0.13898277]]\n",
      "___________________________________________________________________________\n",
      "\u001b[1mLayer# : 3\n",
      "\u001b[1mName   : dense_4\n",
      "\u001b[1mShape  : (1, 150)\u001b[0m\n",
      "[[0.21909031 0.         0.20164427 0.         0.3833195  0.\n",
      "  0.42685294 0.         0.5277522  0.         0.         0.27289343\n",
      "  0.         0.         0.         0.         0.         0.\n",
      "  0.36404005 0.27244198 0.44783676 0.35901785 0.         0.26672962\n",
      "  0.02957292 0.         0.315037   0.34713036 0.29106352 0.46679568\n",
      "  0.         0.53468716 0.42780387 0.27290127 0.         0.07702276\n",
      "  0.         0.2879321  0.49281713 0.         0.         0.37897697\n",
      "  0.         0.         0.         0.25799996 0.50369835 0.\n",
      "  0.         0.5174033  0.         0.         0.3261158  0.\n",
      "  0.         0.         0.         0.48584014 0.         0.\n",
      "  0.2234915  0.         0.         0.         0.21658316 0.\n",
      "  0.37584698 0.47239688 0.45577735 0.         0.         0.28888407\n",
      "  0.6213927  0.         0.29563588 0.         0.         0.47763127\n",
      "  0.44227463 0.         0.         0.         0.         0.\n",
      "  0.4541391  0.         0.         0.         0.         0.4518152\n",
      "  0.         0.3769231  0.         0.51687443 0.         0.41660506\n",
      "  0.30459747 0.         0.49855456 0.         0.3249585  0.\n",
      "  0.         0.4417811  0.         0.         0.26631424 0.\n",
      "  0.         0.36805165 0.42250165 0.2761361  0.43255237 0.\n",
      "  0.35246807 0.37924662 0.28754875 0.3818047  0.36350054 0.\n",
      "  0.2451079  0.         0.39394933 0.         0.31789964 0.\n",
      "  0.29887223 0.         0.         0.4597837  0.29438594 0.3836957\n",
      "  0.         0.41024667 0.38623825 0.3231985  0.         0.34126443\n",
      "  0.         0.37940863 0.47632742 0.         0.21760558 0.32512328\n",
      "  0.         0.         0.26955488 0.48592833 0.         0.48388782]]\n",
      "___________________________________________________________________________\n",
      "\u001b[1mLayer# : 4\n",
      "\u001b[1mName   : dropout_3\n",
      "\u001b[1mShape  : (1, 150)\u001b[0m\n",
      "[[0.         0.         0.         0.         0.47914937 0.\n",
      "  0.5335662  0.         0.65969026 0.         0.         0.3411168\n",
      "  0.         0.         0.         0.         0.         0.\n",
      "  0.         0.34055248 0.559796   0.4487723  0.         0.33341202\n",
      "  0.03696615 0.         0.         0.         0.         0.5834946\n",
      "  0.         0.6683589  0.5347549  0.3411266  0.         0.\n",
      "  0.         0.35991514 0.6160214  0.         0.         0.\n",
      "  0.         0.         0.         0.32249993 0.62962294 0.\n",
      "  0.         0.64675415 0.         0.         0.40764475 0.\n",
      "  0.         0.         0.         0.60730016 0.         0.\n",
      "  0.27936438 0.         0.         0.         0.27072895 0.\n",
      "  0.46980873 0.5904961  0.5697217  0.         0.         0.36110508\n",
      "  0.7767409  0.         0.36954486 0.         0.         0.5970391\n",
      "  0.         0.         0.         0.         0.         0.\n",
      "  0.5676739  0.         0.         0.         0.         0.\n",
      "  0.         0.4711539  0.         0.646093   0.         0.5207563\n",
      "  0.38074684 0.         0.6231932  0.         0.40619814 0.\n",
      "  0.         0.55222636 0.         0.         0.         0.\n",
      "  0.         0.46006456 0.         0.34517014 0.         0.\n",
      "  0.44058508 0.47405827 0.35943595 0.47725588 0.45437568 0.\n",
      "  0.3063849  0.         0.         0.         0.39737457 0.\n",
      "  0.         0.         0.         0.5747296  0.36798242 0.\n",
      "  0.         0.         0.         0.40399814 0.         0.42658055\n",
      "  0.         0.47426078 0.5954093  0.         0.27200696 0.\n",
      "  0.         0.         0.3369436  0.60741043 0.         0.        ]]\n",
      "___________________________________________________________________________\n",
      "\u001b[1mLayer# : 5\n",
      "\u001b[1mName   : dense_5\n",
      "\u001b[1mShape  : (1, 1)\u001b[0m\n",
      "[[0.9822655]]\n",
      "___________________________________________________________________________\n"
     ]
    }
   ],
   "source": [
    "layer_outs_for_single_instance(lstm, x_test[np.random.choice(test_len)])"
   ]
  },
  {
   "cell_type": "code",
   "execution_count": null,
   "metadata": {},
   "outputs": [],
   "source": []
  }
 ],
 "metadata": {
  "accelerator": "GPU",
  "colab": {
   "collapsed_sections": [],
   "name": "SeqNLP_Project1_Questions.ipynb",
   "provenance": [],
   "version": "0.3.2"
  },
  "kernelspec": {
   "display_name": "Python 3",
   "language": "python",
   "name": "python3"
  },
  "language_info": {
   "codemirror_mode": {
    "name": "ipython",
    "version": 3
   },
   "file_extension": ".py",
   "mimetype": "text/x-python",
   "name": "python",
   "nbconvert_exporter": "python",
   "pygments_lexer": "ipython3",
   "version": "3.7.3"
  }
 },
 "nbformat": 4,
 "nbformat_minor": 1
}
