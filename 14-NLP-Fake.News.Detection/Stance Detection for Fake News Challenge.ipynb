{
 "cells": [
  {
   "cell_type": "markdown",
   "metadata": {
    "colab_type": "text",
    "id": "vSNgdEMpenpE"
   },
   "source": [
    "# <u>Stance Detection for Fake News</u>\n",
    "The goal of the Fake News Challenge is to explore how AI/ML might be leveraged to combat the fake news problem. <br/>\n",
    "Assessing the veracity of a news story is a complex and cumbersome task, even for trained experts. Fortunately, the process can be broken down into steps or stages. A helpful first step towards identifying fake news is to understand what other news organizations are saying about the topic. We believe automating this process, called **Stance Detection**, could serve as a useful building block in an AI-assisted fact-checking pipeline.<br/>\n",
    "Stance Detection involves estimating the relative perspective (or stance) of two pieces of text relative to a topic, claim or issue. This extends the [work](https://www.aclweb.org/anthology/N16-1138/) of Ferreira & Vlachos. The task is to estimate the stance of a body text from a news article relative to a headline. Specifically, the body text may agree, disagree, discuss or be unrelated to the headline.\n",
    "### Project Description\n",
    "Given the huge impact of social networks, online content plays an important role in forming or changing the opinions of people. Online journalism has given chance even for individuals to publish leading to individual empowerment but has given a chance to a lot of malicious entities to spread misinformation for their own benefit. But this has an influence on major events like the outcome of elections. Therefore, it is of great importance now, to have some sort of automated classification of news stories.\n",
    "\n",
    "In this work, we will implement different deep neural architectures using word embeddings for identifying the stance detection of different news stories.\n",
    "### Dataset\n",
    "The dataset is taken from Fake News Challenge, where the goal of the challenge is not to directly identify whether a headline or article is “fake” or not, which is arguably a highly subjective question, and one that even skilled humans may have difficulty answering.\n",
    "The challenge is organized around the more well-defined problem of “stance detection,” which involves comparing a headline with a body of text from a news article to determine what relationship (if any) exists between the two.\n",
    "There are 4 possible classifications:\n",
    "1. **Agree**- The article text agrees with the headline.\n",
    "2. **Disagree**- The article text disagrees with the headline.\n",
    "3. **Discussion**- The article text is a discussion of the headline, without taking a position on it.\n",
    "4. **Unrelated**- The article text is unrelated to the headline (i.e. it doesn’t address the same topic).\n",
    "\n",
    "Check the problem context [here](https://drive.google.com/open?id=1KfWaZyQdGBw8AUTacJ2yY86Yxgw2Xwq0).\n",
    "\n",
    "Download files required for the project from [here](https://drive.google.com/open?id=10yf39ifEwVihw4xeJJR60oeFBY30Y5J8).\n",
    "\n",
    "### Goal of the project\n",
    "1. Convert words into vectors and make them ready for the model.\n",
    "2. Build a Sequential Models like RNN, LSTM..\n",
    "3. Train the model and report the accuracy score.\n",
    "4. Add checkpoints as callbacks to the model and save the model for each epoch.\n",
    "5. (Optional) Add attention to the above model and report the change in accuracy. And explain how and why attention has improved (or disturbed) the model.\n",
    "---\n",
    "\n",
    "## Imports and Configurations"
   ]
  },
  {
   "cell_type": "code",
   "execution_count": 2,
   "metadata": {},
   "outputs": [
    {
     "name": "stdout",
     "output_type": "stream",
     "text": [
      "Collecting package metadata (current_repodata.json): done\n",
      "Solving environment: failed with initial frozen solve. Retrying with flexible solve.\n",
      "Collecting package metadata (repodata.json): done\n",
      "Solving environment: failed with initial frozen solve. Retrying with flexible solve.\n",
      "\n",
      "PackagesNotFoundError: The following packages are not available from current channels:\n",
      "\n",
      "  - keras,\n",
      "\n",
      "Current channels:\n",
      "\n",
      "  - https://repo.anaconda.com/pkgs/main/linux-64\n",
      "  - https://repo.anaconda.com/pkgs/main/noarch\n",
      "  - https://repo.anaconda.com/pkgs/r/linux-64\n",
      "  - https://repo.anaconda.com/pkgs/r/noarch\n",
      "\n",
      "To search for alternate channels that may provide the conda package you're\n",
      "looking for, navigate to\n",
      "\n",
      "    https://anaconda.org\n",
      "\n",
      "and use the search bar at the top of the page.\n",
      "\n",
      "\n",
      "\n",
      "Note: you may need to restart the kernel to use updated packages.\n"
     ]
    }
   ],
   "source": [
    "conda install keras, tensorflow"
   ]
  },
  {
   "cell_type": "code",
   "execution_count": 1,
   "metadata": {
    "colab": {
     "base_uri": "https://localhost:8080/",
     "height": 81
    },
    "colab_type": "code",
    "executionInfo": {
     "elapsed": 5293,
     "status": "ok",
     "timestamp": 1579450533953,
     "user": {
      "displayName": "Akshaya Kumar Das",
      "photoUrl": "https://lh3.googleusercontent.com/a-/AAuE7mDs6ySnlrHQHuOg_R9k9-7RhVHCirW6cJVee9fP9w=s64",
      "userId": "00274796301986976222"
     },
     "user_tz": -330
    },
    "id": "M_2fyYibOTGu",
    "outputId": "9a02456f-f20a-4a28-f7ed-e1762dc935d1"
   },
   "outputs": [
    {
     "ename": "ModuleNotFoundError",
     "evalue": "No module named 'keras'",
     "output_type": "error",
     "traceback": [
      "\u001b[0;31m---------------------------------------------------------------------------\u001b[0m",
      "\u001b[0;31mModuleNotFoundError\u001b[0m                       Traceback (most recent call last)",
      "\u001b[0;32m<ipython-input-1-121c6eb34c6d>\u001b[0m in \u001b[0;36m<module>\u001b[0;34m\u001b[0m\n\u001b[1;32m     14\u001b[0m \u001b[0;34m\u001b[0m\u001b[0m\n\u001b[1;32m     15\u001b[0m \u001b[0;31m# Sequential Modeling\u001b[0m\u001b[0;34m\u001b[0m\u001b[0;34m\u001b[0m\u001b[0;34m\u001b[0m\u001b[0m\n\u001b[0;32m---> 16\u001b[0;31m \u001b[0;32mimport\u001b[0m \u001b[0mkeras\u001b[0m\u001b[0;34m.\u001b[0m\u001b[0mbackend\u001b[0m \u001b[0;32mas\u001b[0m \u001b[0mK\u001b[0m\u001b[0;34m\u001b[0m\u001b[0;34m\u001b[0m\u001b[0m\n\u001b[0m\u001b[1;32m     17\u001b[0m \u001b[0;32mfrom\u001b[0m \u001b[0mkeras\u001b[0m \u001b[0;32mimport\u001b[0m \u001b[0minitializers\u001b[0m\u001b[0;34m\u001b[0m\u001b[0;34m\u001b[0m\u001b[0m\n\u001b[1;32m     18\u001b[0m \u001b[0;32mfrom\u001b[0m \u001b[0mkeras\u001b[0m\u001b[0;34m.\u001b[0m\u001b[0mengine\u001b[0m\u001b[0;34m.\u001b[0m\u001b[0mtopology\u001b[0m \u001b[0;32mimport\u001b[0m \u001b[0mLayer\u001b[0m\u001b[0;34m,\u001b[0m \u001b[0mInputSpec\u001b[0m\u001b[0;34m\u001b[0m\u001b[0;34m\u001b[0m\u001b[0m\n",
      "\u001b[0;31mModuleNotFoundError\u001b[0m: No module named 'keras'"
     ]
    }
   ],
   "source": [
    "# Utilities\n",
    "import os, zipfile, sys, warnings\n",
    "from time import time\n",
    "\n",
    "# Numerical calculation\n",
    "import numpy as np\n",
    "\n",
    "# Data Handling\n",
    "import pandas as pd\n",
    "\n",
    "# Data Visualization\n",
    "import matplotlib.pyplot as plt\n",
    "import seaborn as sns\n",
    "\n",
    "# Sequential Modeling\n",
    "import keras.backend as K\n",
    "from keras import initializers\n",
    "from keras.engine.topology import Layer, InputSpec\n",
    "from keras.models import Model, Sequential\n",
    "from keras.layers import Dense, LSTM, TimeDistributed, Conv1D, MaxPooling1D\n",
    "from keras.layers import Embedding, Activation, Dropout, Flatten, Bidirectional\n",
    "from keras.layers import Permute, merge, Input, multiply, concatenate\n",
    "from keras.callbacks import Callback, ModelCheckpoint, EarlyStopping\n",
    "from keras.constraints import max_norm, unit_norm\n",
    "\n",
    "# Preprocessing and NLP library\n",
    "from keras.preprocessing.text import Tokenizer, text_to_word_sequence\n",
    "from keras.preprocessing.sequence import pad_sequences\n",
    "import nltk\n",
    "\n",
    "# Evaluation metrics\n",
    "from sklearn.metrics import confusion_matrix, classification_report, roc_curve, auc, accuracy_score, precision_recall_curve"
   ]
  },
  {
   "cell_type": "code",
   "execution_count": 0,
   "metadata": {
    "colab": {},
    "colab_type": "code",
    "id": "DC3m9n7HOTGx"
   },
   "outputs": [],
   "source": [
    "# Configure for any default setting of any library\n",
    "warnings.filterwarnings('ignore')\n",
    "get_ipython().magic(u'matplotlib inline')\n",
    "plt.style.use('ggplot')"
   ]
  },
  {
   "cell_type": "markdown",
   "metadata": {
    "colab_type": "text",
    "id": "V1tedu_YOTGz"
   },
   "source": [
    "### Set the working directory\n",
    "Mount the drive and set the project path to cureent working directory, when running in Google Colab. No changes are required in case of running in Local PC."
   ]
  },
  {
   "cell_type": "code",
   "execution_count": 3,
   "metadata": {
    "colab": {
     "base_uri": "https://localhost:8080/",
     "height": 161
    },
    "colab_type": "code",
    "executionInfo": {
     "elapsed": 32131,
     "status": "ok",
     "timestamp": 1579450560808,
     "user": {
      "displayName": "Akshaya Kumar Das",
      "photoUrl": "https://lh3.googleusercontent.com/a-/AAuE7mDs6ySnlrHQHuOg_R9k9-7RhVHCirW6cJVee9fP9w=s64",
      "userId": "00274796301986976222"
     },
     "user_tz": -330
    },
    "id": "7AS39z1XgFpT",
    "outputId": "f6845ed7-2555-4b04-b1fb-9e59e5e1b8f8"
   },
   "outputs": [
    {
     "name": "stdout",
     "output_type": "stream",
     "text": [
      "Go to this URL in a browser: https://accounts.google.com/o/oauth2/auth?client_id=947318989803-6bn6qk8qdgf4n4g3pfee6491hc0brc4i.apps.googleusercontent.com&redirect_uri=urn%3aietf%3awg%3aoauth%3a2.0%3aoob&response_type=code&scope=email%20https%3a%2f%2fwww.googleapis.com%2fauth%2fdocs.test%20https%3a%2f%2fwww.googleapis.com%2fauth%2fdrive%20https%3a%2f%2fwww.googleapis.com%2fauth%2fdrive.photos.readonly%20https%3a%2f%2fwww.googleapis.com%2fauth%2fpeopleapi.readonly\n",
      "\n",
      "Enter your authorization code:\n",
      "··········\n",
      "Mounted at /content/drive/\n",
      "/content/drive/My Drive/Colab Notebooks/DLCP/FakeNewsDetection-NLP\n",
      "Current working directory /content/drive/My Drive/Colab Notebooks/DLCP/FakeNewsDetection-NLP\n"
     ]
    }
   ],
   "source": [
    "# Block which runs on both Google Colab and Local PC without any modification\n",
    "if 'google.colab' in sys.modules:    \n",
    "    project_path = \"/content/drive/My Drive/Colab Notebooks/DLCP/FakeNewsDetection-NLP/\"\n",
    "    # Google Colab lib\n",
    "    from google.colab import drive\n",
    "    # Mount the drive\n",
    "    drive.mount('/content/drive/', force_remount=True)\n",
    "    sys.path.append(project_path)\n",
    "    %cd $project_path\n",
    "\n",
    "# Let's look at the sys path\n",
    "print('Current working directory', os.getcwd())"
   ]
  },
  {
   "cell_type": "markdown",
   "metadata": {
    "colab_type": "text",
    "id": "2ly0VxAnwJ2f"
   },
   "source": [
    "---\n",
    "## Step1: Loading the data\n",
    "- Extract Glove 6Billion word embeddings. We're going to use the 100d file which has 100 embedding dimensions for each word in the corpus.\n",
    "- Load the bodies and headlines CSVs for both training and test data and join them together individually to form datasets.\n",
    "\n",
    "### Extract the Glove Embeddings"
   ]
  },
  {
   "cell_type": "code",
   "execution_count": 0,
   "metadata": {
    "colab": {},
    "colab_type": "code",
    "id": "xmsPn6PF-cgL"
   },
   "outputs": [],
   "source": [
    "# Open the zipped file as readonly\n",
    "glove_embeddings = 'glove.6B.zip'\n",
    "with zipfile.ZipFile(glove_embeddings, 'r') as archive:\n",
    "    archive.extractall('glove.6B')"
   ]
  },
  {
   "cell_type": "markdown",
   "metadata": {
    "colab_type": "text",
    "id": "TjLJEQ_PwcGi"
   },
   "source": [
    "### Load the training dataset\n",
    "1. Using [read_csv()](https://pandas.pydata.org/pandas-docs/stable/generated/pandas.read_csv.html) in pandas load the given train datasets files **`train_bodies.csv`** and **`train_stances.csv`**\n",
    "\n",
    "2. Using [merge](https://pandas.pydata.org/pandas-docs/stable/generated/pandas.DataFrame.merge.html) command in pandas merge the two datasets based on the Body ID. \n",
    "\n",
    "Note: Save the final merged dataset in a dataframe with name **`dataset`**."
   ]
  },
  {
   "cell_type": "code",
   "execution_count": 0,
   "metadata": {
    "colab": {},
    "colab_type": "code",
    "id": "7gXO1WZ-gFwm"
   },
   "outputs": [],
   "source": [
    "# Load the news bodies and stances csvs\n",
    "train_bodies = pd.read_csv('train_bodies.csv')\n",
    "train_stances = pd.read_csv('train_stances.csv')"
   ]
  },
  {
   "cell_type": "code",
   "execution_count": 0,
   "metadata": {
    "colab": {},
    "colab_type": "code",
    "id": "kosAWskdOOT8"
   },
   "outputs": [],
   "source": [
    "# Merge both the dataset to form a single dataset\n",
    "dataset = pd.merge(train_bodies[['Body ID', 'articleBody']],\n",
    "                   train_stances[['Body ID', 'Headline', 'Stance']], \n",
    "                   left_on='Body ID', \n",
    "                   right_on='Body ID', \n",
    "                   how='inner')"
   ]
  },
  {
   "cell_type": "markdown",
   "metadata": {
    "colab_type": "text",
    "id": "0OuapwhfOTG8"
   },
   "source": [
    "### Check1:\n",
    "You should see the below output if you run `dataset.head()` command as given below"
   ]
  },
  {
   "cell_type": "code",
   "execution_count": 7,
   "metadata": {
    "colab": {
     "base_uri": "https://localhost:8080/",
     "height": 197
    },
    "colab_type": "code",
    "executionInfo": {
     "elapsed": 140820,
     "status": "ok",
     "timestamp": 1579450669533,
     "user": {
      "displayName": "Akshaya Kumar Das",
      "photoUrl": "https://lh3.googleusercontent.com/a-/AAuE7mDs6ySnlrHQHuOg_R9k9-7RhVHCirW6cJVee9fP9w=s64",
      "userId": "00274796301986976222"
     },
     "user_tz": -330
    },
    "id": "IUtF7iOmj11k",
    "outputId": "b46744f4-ad62-4783-adf1-d4d5ce74e5a6"
   },
   "outputs": [
    {
     "data": {
      "text/html": [
       "<div>\n",
       "<style scoped>\n",
       "    .dataframe tbody tr th:only-of-type {\n",
       "        vertical-align: middle;\n",
       "    }\n",
       "\n",
       "    .dataframe tbody tr th {\n",
       "        vertical-align: top;\n",
       "    }\n",
       "\n",
       "    .dataframe thead th {\n",
       "        text-align: right;\n",
       "    }\n",
       "</style>\n",
       "<table border=\"1\" class=\"dataframe\">\n",
       "  <thead>\n",
       "    <tr style=\"text-align: right;\">\n",
       "      <th></th>\n",
       "      <th>Body ID</th>\n",
       "      <th>articleBody</th>\n",
       "      <th>Headline</th>\n",
       "      <th>Stance</th>\n",
       "    </tr>\n",
       "  </thead>\n",
       "  <tbody>\n",
       "    <tr>\n",
       "      <th>0</th>\n",
       "      <td>0</td>\n",
       "      <td>A small meteorite crashed into a wooded area i...</td>\n",
       "      <td>Soldier shot, Parliament locked down after gun...</td>\n",
       "      <td>unrelated</td>\n",
       "    </tr>\n",
       "    <tr>\n",
       "      <th>1</th>\n",
       "      <td>0</td>\n",
       "      <td>A small meteorite crashed into a wooded area i...</td>\n",
       "      <td>Tourist dubbed ‘Spider Man’ after spider burro...</td>\n",
       "      <td>unrelated</td>\n",
       "    </tr>\n",
       "    <tr>\n",
       "      <th>2</th>\n",
       "      <td>0</td>\n",
       "      <td>A small meteorite crashed into a wooded area i...</td>\n",
       "      <td>Luke Somers 'killed in failed rescue attempt i...</td>\n",
       "      <td>unrelated</td>\n",
       "    </tr>\n",
       "    <tr>\n",
       "      <th>3</th>\n",
       "      <td>0</td>\n",
       "      <td>A small meteorite crashed into a wooded area i...</td>\n",
       "      <td>BREAKING: Soldier shot at War Memorial in Ottawa</td>\n",
       "      <td>unrelated</td>\n",
       "    </tr>\n",
       "    <tr>\n",
       "      <th>4</th>\n",
       "      <td>0</td>\n",
       "      <td>A small meteorite crashed into a wooded area i...</td>\n",
       "      <td>Giant 8ft 9in catfish weighing 19 stone caught...</td>\n",
       "      <td>unrelated</td>\n",
       "    </tr>\n",
       "  </tbody>\n",
       "</table>\n",
       "</div>"
      ],
      "text/plain": [
       "   Body ID  ...     Stance\n",
       "0        0  ...  unrelated\n",
       "1        0  ...  unrelated\n",
       "2        0  ...  unrelated\n",
       "3        0  ...  unrelated\n",
       "4        0  ...  unrelated\n",
       "\n",
       "[5 rows x 4 columns]"
      ]
     },
     "execution_count": 7,
     "metadata": {
      "tags": []
     },
     "output_type": "execute_result"
    }
   ],
   "source": [
    "dataset.head()"
   ]
  },
  {
   "cell_type": "code",
   "execution_count": 8,
   "metadata": {
    "colab": {
     "base_uri": "https://localhost:8080/",
     "height": 34
    },
    "colab_type": "code",
    "executionInfo": {
     "elapsed": 140810,
     "status": "ok",
     "timestamp": 1579450669533,
     "user": {
      "displayName": "Akshaya Kumar Das",
      "photoUrl": "https://lh3.googleusercontent.com/a-/AAuE7mDs6ySnlrHQHuOg_R9k9-7RhVHCirW6cJVee9fP9w=s64",
      "userId": "00274796301986976222"
     },
     "user_tz": -330
    },
    "id": "9asp6FxJOTG_",
    "outputId": "96bb8bba-f4c5-4324-9eca-c545acf98ce5"
   },
   "outputs": [
    {
     "name": "stdout",
     "output_type": "stream",
     "text": [
      "There are \u001b[1m1683\u001b[0m unique articles present in \u001b[1m49972 Train Data\u001b[0m\n"
     ]
    }
   ],
   "source": [
    "# Find unique train articles\n",
    "print('There are \\033[1m%d\\033[0m unique articles present in \\033[1m%d Train Data\\033[0m' % \n",
    "      (dataset['Body ID'].nunique(), dataset.shape[0]))"
   ]
  },
  {
   "cell_type": "code",
   "execution_count": 9,
   "metadata": {
    "colab": {
     "base_uri": "https://localhost:8080/",
     "height": 608
    },
    "colab_type": "code",
    "executionInfo": {
     "elapsed": 146489,
     "status": "ok",
     "timestamp": 1579450675224,
     "user": {
      "displayName": "Akshaya Kumar Das",
      "photoUrl": "https://lh3.googleusercontent.com/a-/AAuE7mDs6ySnlrHQHuOg_R9k9-7RhVHCirW6cJVee9fP9w=s64",
      "userId": "00274796301986976222"
     },
     "user_tz": -330
    },
    "id": "7jiBG5ZyOTHA",
    "outputId": "f5e01276-ccb4-4eea-d404-9ea9dd6376ee"
   },
   "outputs": [
    {
     "data": {
      "image/png": "[encoded data removed]",
      "text/plain": [
       "<Figure size 1440x720 with 1 Axes>"
      ]
     },
     "metadata": {
      "tags": []
     },
     "output_type": "display_data"
    }
   ],
   "source": [
    "# Visualize top 40 articles having most different headlines in train data\n",
    "plt.figure(figsize=(20,10))\n",
    "g = sns.countplot(train_stances['Body ID'], order=train_stances['Body ID'].value_counts().index,palette=\"deep\")\n",
    "_ = g.set(xlim=(None, 40))"
   ]
  },
  {
   "cell_type": "code",
   "execution_count": 10,
   "metadata": {
    "colab": {
     "base_uri": "https://localhost:8080/",
     "height": 368
    },
    "colab_type": "code",
    "executionInfo": {
     "elapsed": 146475,
     "status": "ok",
     "timestamp": 1579450675225,
     "user": {
      "displayName": "Akshaya Kumar Das",
      "photoUrl": "https://lh3.googleusercontent.com/a-/AAuE7mDs6ySnlrHQHuOg_R9k9-7RhVHCirW6cJVee9fP9w=s64",
      "userId": "00274796301986976222"
     },
     "user_tz": -330
    },
    "id": "NDJ8efPcOTHC",
    "outputId": "f65dc2f8-e343-4444-d36b-a077411d1d16"
   },
   "outputs": [
    {
     "data": {
      "image/png": "[encoded data removed]",
      "text/plain": [
       "<Figure size 864x360 with 2 Axes>"
      ]
     },
     "metadata": {
      "tags": []
     },
     "output_type": "display_data"
    }
   ],
   "source": [
    "# Analyze the unique stances and their volume\n",
    "# stances, counts = np.unique(train_stances['Stance'], return_counts=True)\n",
    "fig, axes = plt.subplots(1, 2, figsize=(12,5))\n",
    "sns.countplot(train_stances['Stance'], order=train_stances['Stance'].value_counts().index, ax=axes[0])\n",
    "explode = (0,0.05,0.1,0.15)\n",
    "_ = axes[1].pie(train_stances['Stance'].value_counts(), autopct='%1.1f%%', explode=explode, pctdistance=1.15)\n",
    "axes[1].legend(labels=train_stances['Stance'].value_counts().index,loc=\"best\")\n",
    "axes[1].axis('equal')\n",
    "plt.tight_layout()"
   ]
  },
  {
   "cell_type": "markdown",
   "metadata": {
    "colab_type": "text",
    "id": "7Vi-1sY6OTHE"
   },
   "source": [
    "### Load test data\n",
    "1. Using [read_csv()](https://pandas.pydata.org/pandas-docs/stable/generated/pandas.read_csv.html) in pandas load the given test datasets files **`test_bodies.csv`** and **`test_stances.csv`**\n",
    "\n",
    "2. Using [merge](https://pandas.pydata.org/pandas-docs/stable/generated/pandas.DataFrame.merge.html) command in pandas merge the two datasets based on the Body ID. \n",
    "\n",
    "Note: Save the final merged dataset in a dataframe with name **`test_dataset`**."
   ]
  },
  {
   "cell_type": "code",
   "execution_count": 0,
   "metadata": {
    "colab": {},
    "colab_type": "code",
    "id": "5kR01v8TOTHF"
   },
   "outputs": [],
   "source": [
    "# Load the news bodies and stances csvs\n",
    "test_bodies = pd.read_csv('test_bodies.csv')\n",
    "test_stances = pd.read_csv('test_stances_unlabeled.csv')"
   ]
  },
  {
   "cell_type": "code",
   "execution_count": 0,
   "metadata": {
    "colab": {},
    "colab_type": "code",
    "id": "GHf5-hGqOTHG"
   },
   "outputs": [],
   "source": [
    "# Merge both the dataset to form a single dataset\n",
    "test_dataset = pd.merge(test_bodies[['Body ID', 'articleBody']],\n",
    "                   test_stances[['Body ID', 'Headline']], \n",
    "                   left_on='Body ID', \n",
    "                   right_on='Body ID', \n",
    "                   how='inner')"
   ]
  },
  {
   "cell_type": "code",
   "execution_count": 13,
   "metadata": {
    "colab": {
     "base_uri": "https://localhost:8080/",
     "height": 34
    },
    "colab_type": "code",
    "executionInfo": {
     "elapsed": 149576,
     "status": "ok",
     "timestamp": 1579450678352,
     "user": {
      "displayName": "Akshaya Kumar Das",
      "photoUrl": "https://lh3.googleusercontent.com/a-/AAuE7mDs6ySnlrHQHuOg_R9k9-7RhVHCirW6cJVee9fP9w=s64",
      "userId": "00274796301986976222"
     },
     "user_tz": -330
    },
    "id": "vyV9ON9tOTHI",
    "outputId": "434be4ae-a922-481f-bd80-291e62fcdb69"
   },
   "outputs": [
    {
     "name": "stdout",
     "output_type": "stream",
     "text": [
      "There are \u001b[1m904\u001b[0m unique articles present in \u001b[1m25413 Test Data\u001b[0m\n"
     ]
    }
   ],
   "source": [
    "# Find unique test articles\n",
    "print('There are \\033[1m%d\\033[0m unique articles present in \\033[1m%d Test Data\\033[0m' % \n",
    "      (test_dataset['Body ID'].nunique(), test_dataset.shape[0]))"
   ]
  },
  {
   "cell_type": "code",
   "execution_count": 14,
   "metadata": {
    "colab": {
     "base_uri": "https://localhost:8080/",
     "height": 608
    },
    "colab_type": "code",
    "executionInfo": {
     "elapsed": 152681,
     "status": "ok",
     "timestamp": 1579450681472,
     "user": {
      "displayName": "Akshaya Kumar Das",
      "photoUrl": "https://lh3.googleusercontent.com/a-/AAuE7mDs6ySnlrHQHuOg_R9k9-7RhVHCirW6cJVee9fP9w=s64",
      "userId": "00274796301986976222"
     },
     "user_tz": -330
    },
    "id": "_Qs-zcI1OTHK",
    "outputId": "059a0721-a20f-4107-ff3f-3ba352ffd39d"
   },
   "outputs": [
    {
     "data": {
      "image/png": "[encoded data removed]",
      "text/plain": [
       "<Figure size 1440x720 with 1 Axes>"
      ]
     },
     "metadata": {
      "tags": []
     },
     "output_type": "display_data"
    }
   ],
   "source": [
    "# Visualize top 40 articles having most different headlines in test data\n",
    "plt.figure(figsize=(20,10))\n",
    "g = sns.countplot(test_stances['Body ID'], order=test_stances['Body ID'].value_counts().index,palette=\"vlag\")\n",
    "_ = g.set(xlim=(None, 40))"
   ]
  },
  {
   "cell_type": "markdown",
   "metadata": {
    "colab_type": "text",
    "id": "tjzVz2ifijmj"
   },
   "source": [
    "**Observations:**\n",
    "- The whole dataset (training and testing) is collected for $1683+904=2587$ unique articles spread over $49972+25413=75385$ different headlines altogether.\n",
    "- Training data consists of huge amount of \"unrelated\" stances which indicates publication platforms use their own creativity to form the headline for a single article, based on how catchy they can make it to sell the news.\n",
    "- Body ID \"1921\", \"1948\", \"1373\", \"2383\" etc. are some of the top/more popular articles in the entire dataset to have huge variations in their headlines across all publication platforms.\n",
    "---\n",
    "\n",
    "## Step2: Data Pre-processing and setting some hyper parameters needed for model\n",
    "\n",
    "\n",
    "#### Run the code given below to set the required parameters.\n",
    "\n",
    "1. `MAX_SENTS` = Maximum no.of sentences to consider in an article.\n",
    "\n",
    "2. `MAX_SENT_LENGTH` = Maximum no.of words to consider in a sentence.\n",
    "\n",
    "3. `MAX_NB_WORDS` = Maximum no.of words in the total vocabualry.\n",
    "\n",
    "4. `MAX_SENTS_HEADING` = Maximum no.of sentences to consider in a heading of an article.\n"
   ]
  },
  {
   "cell_type": "code",
   "execution_count": 0,
   "metadata": {
    "colab": {},
    "colab_type": "code",
    "id": "KDXSdpvqjuqw"
   },
   "outputs": [],
   "source": [
    "MAX_NB_WORDS = 20000\n",
    "MAX_SENTS = 20\n",
    "MAX_SENTS_HEADING = 1\n",
    "MAX_SENT_LENGTH = 20\n",
    "VALIDATION_SPLIT = 0.2"
   ]
  },
  {
   "cell_type": "markdown",
   "metadata": {
    "colab_type": "text",
    "id": "zwE7CPHdiDT-"
   },
   "source": [
    "### Download the `Punkt` from nltk using the commands given below. This is for sentence tokenization.\n",
    "\n",
    "For more info on how to use it, read [this](https://stackoverflow.com/questions/35275001/use-of-punktsentencetokenizer-in-nltk)."
   ]
  },
  {
   "cell_type": "code",
   "execution_count": 16,
   "metadata": {
    "colab": {
     "base_uri": "https://localhost:8080/",
     "height": 70
    },
    "colab_type": "code",
    "executionInfo": {
     "elapsed": 153519,
     "status": "ok",
     "timestamp": 1579450682339,
     "user": {
      "displayName": "Akshaya Kumar Das",
      "photoUrl": "https://lh3.googleusercontent.com/a-/AAuE7mDs6ySnlrHQHuOg_R9k9-7RhVHCirW6cJVee9fP9w=s64",
      "userId": "00274796301986976222"
     },
     "user_tz": -330
    },
    "id": "lsiKmyJUZ-hU",
    "outputId": "4330cb9b-f56d-41e7-cff5-af5284706ce5"
   },
   "outputs": [
    {
     "name": "stdout",
     "output_type": "stream",
     "text": [
      "[nltk_data] Downloading package punkt to /root/nltk_data...\n",
      "[nltk_data]   Unzipping tokenizers/punkt.zip.\n"
     ]
    },
    {
     "data": {
      "text/plain": [
       "True"
      ]
     },
     "execution_count": 16,
     "metadata": {
      "tags": []
     },
     "output_type": "execute_result"
    }
   ],
   "source": [
    "nltk.download('punkt')"
   ]
  },
  {
   "cell_type": "markdown",
   "metadata": {
    "colab_type": "text",
    "id": "WfZLR24mm32k"
   },
   "source": [
    "### Tokenizing the text and loading the pre-trained Glove word embeddings for each token\n",
    "Keras provides [Tokenizer API](https://keras.io/preprocessing/text/) for preparing text. Read it before going any further.\n",
    "#### Initialize the Keras Tokenizer class with maximum vocabulary count as `MAX_NB_WORDS` initialized at the start of step2. "
   ]
  },
  {
   "cell_type": "code",
   "execution_count": 0,
   "metadata": {
    "colab": {},
    "colab_type": "code",
    "id": "Qm85qirPofc2"
   },
   "outputs": [],
   "source": [
    "t = Tokenizer(num_words=MAX_NB_WORDS,filters= '!\"#$%&()*+,-./:;<=>?@[\\]^_`{|}\\n“~”')"
   ]
  },
  {
   "cell_type": "markdown",
   "metadata": {
    "colab_type": "text",
    "id": "HBe1KuXDosJ7"
   },
   "source": [
    "#### Now, using fit_on_texts() from Tokenizer class, lets encode the data \n",
    "\n",
    "Note: We need to fit articleBody and Headline also to cover all the words."
   ]
  },
  {
   "cell_type": "code",
   "execution_count": 0,
   "metadata": {
    "colab": {},
    "colab_type": "code",
    "id": "Q5rk-UyBlmyA"
   },
   "outputs": [],
   "source": [
    "# t.fit_on_texts(dataset['articleBody'])\n",
    "# t.fit_on_texts(dataset['Headline'])\n",
    "t.fit_on_texts(dataset['articleBody'].append(dataset['Headline'], ignore_index=True))"
   ]
  },
  {
   "cell_type": "markdown",
   "metadata": {
    "colab_type": "text",
    "id": "omptHX-JpBsN"
   },
   "source": [
    "#### fit_on_texts() gives the following attributes in the output as given [here](https://faroit.github.io/keras-docs/1.2.2/preprocessing/text/).\n",
    "\n",
    "* **word_counts:** dictionary mapping words (str) to the number of times they appeared on during fit. Only set after fit_on_texts was called.\n",
    "\n",
    "* **word_docs:** dictionary mapping words (str) to the number of documents/texts they appeared on during fit. Only set after fit_on_texts was called.\n",
    "\n",
    "* **word_index:** dictionary mapping words (str) to their rank/index (int). Only set after fit_on_texts was called.\n",
    "\n",
    "* **document_count:** int. Number of documents (texts/sequences) the tokenizer was trained on. Only set after fit_on_texts or fit_on_sequences was called.\n",
    "\n"
   ]
  },
  {
   "cell_type": "code",
   "execution_count": 19,
   "metadata": {
    "colab": {
     "base_uri": "https://localhost:8080/",
     "height": 52
    },
    "colab_type": "code",
    "executionInfo": {
     "elapsed": 170782,
     "status": "ok",
     "timestamp": 1579450699631,
     "user": {
      "displayName": "Akshaya Kumar Das",
      "photoUrl": "https://lh3.googleusercontent.com/a-/AAuE7mDs6ySnlrHQHuOg_R9k9-7RhVHCirW6cJVee9fP9w=s64",
      "userId": "00274796301986976222"
     },
     "user_tz": -330
    },
    "id": "ctEu-d4c4EZs",
    "outputId": "5d0d751c-428e-433c-cc20-cd22d288467c"
   },
   "outputs": [
    {
     "name": "stdout",
     "output_type": "stream",
     "text": [
      "Vocabulary size: 26532\n",
      "Documents count: 99944\n"
     ]
    }
   ],
   "source": [
    "vocab_size = len(t.word_index) + 1\n",
    "print('Vocabulary size: %d\\nDocuments count: %d' % (vocab_size, t.document_count))"
   ]
  },
  {
   "cell_type": "markdown",
   "metadata": {
    "colab_type": "text",
    "id": "SHnsT2sTtFAA"
   },
   "source": [
    "**Note:**\n",
    "- That `+ 1` is because of reserving padding (i.e. index zero).\n",
    "\n",
    "### Now, tokenize the sentences using nltk sent_tokenize() and encode the sentences with the ids we got form the above `t.word_index`\n",
    "\n",
    "Initialise 2 lists with names `texts` and `articles`.\n",
    "```\n",
    "texts = [] to store text of article as it is.\n",
    "articles = [] split the above text into a list of sentences.\n",
    "```"
   ]
  },
  {
   "cell_type": "code",
   "execution_count": 0,
   "metadata": {
    "colab": {},
    "colab_type": "code",
    "id": "E-mngYWtOTHd"
   },
   "outputs": [],
   "source": [
    "texts = [] ## body\n",
    "articles=[] ## body splitted into senteces and stored as a list of lists\n",
    "\n",
    "## split into sentences\n",
    "for text in dataset['articleBody']:\n",
    "    texts.append(text)\n",
    "    sentences = nltk.tokenize.sent_tokenize(text)\n",
    "    articles.append(sentences)"
   ]
  },
  {
   "cell_type": "markdown",
   "metadata": {
    "colab_type": "text",
    "id": "koTVJjoO6P78"
   },
   "source": [
    "### Check 2:\n",
    "first element of texts and articles should be as given below. "
   ]
  },
  {
   "cell_type": "code",
   "execution_count": 21,
   "metadata": {
    "colab": {
     "base_uri": "https://localhost:8080/",
     "height": 54
    },
    "colab_type": "code",
    "executionInfo": {
     "elapsed": 200117,
     "status": "ok",
     "timestamp": 1579450728987,
     "user": {
      "displayName": "Akshaya Kumar Das",
      "photoUrl": "https://lh3.googleusercontent.com/a-/AAuE7mDs6ySnlrHQHuOg_R9k9-7RhVHCirW6cJVee9fP9w=s64",
      "userId": "00274796301986976222"
     },
     "user_tz": -330
    },
    "id": "3mWBW99p5UW9",
    "outputId": "a2fc7eab-339f-4d28-8d35-862f44cf328e"
   },
   "outputs": [
    {
     "data": {
      "text/plain": [
       "'A small meteorite crashed into a wooded area in Nicaragua\\'s capital of Managua overnight, the government said Sunday. Residents reported hearing a mysterious boom that left a 16-foot deep crater near the city\\'s airport, the Associated Press reports. \\n\\nGovernment spokeswoman Rosario Murillo said a committee formed by the government to study the event determined it was a \"relatively small\" meteorite that \"appears to have come off an asteroid that was passing close to Earth.\" House-sized asteroid 2014 RC, which measured 60 feet in diameter, skimmed the Earth this weekend, ABC News reports. \\nMurillo said Nicaragua will ask international experts to help local scientists in understanding what happened.\\n\\nThe crater left by the meteorite had a radius of 39 feet and a depth of 16 feet,  said Humberto Saballos, a volcanologist with the Nicaraguan Institute of Territorial Studies who was on the committee. He said it is still not clear if the meteorite disintegrated or was buried.\\n\\nHumberto Garcia, of the Astronomy Center at the National Autonomous University of Nicaragua, said the meteorite could be related to an asteroid that was forecast to pass by the planet Saturday night.\\n\\n\"We have to study it more because it could be ice or rock,\" he said.\\n\\nWilfried Strauch, an adviser to the Institute of Territorial Studies, said it was \"very strange that no one reported a streak of light. We have to ask if anyone has a photo or something.\"\\n\\nLocal residents reported hearing a loud boom Saturday night, but said they didn\\'t see anything strange in the sky.\\n\\n\"I was sitting on my porch and I saw nothing, then all of a sudden I heard a large blast. We thought it was a bomb because we felt an expansive wave,\" Jorge Santamaria told The Associated Press.\\n\\nThe site of the crater is near Managua\\'s international airport and an air force base. Only journalists from state media were allowed to visit it.'"
      ]
     },
     "execution_count": 21,
     "metadata": {
      "tags": []
     },
     "output_type": "execute_result"
    }
   ],
   "source": [
    "texts[0]"
   ]
  },
  {
   "cell_type": "code",
   "execution_count": 22,
   "metadata": {
    "colab": {
     "base_uri": "https://localhost:8080/",
     "height": 301
    },
    "colab_type": "code",
    "executionInfo": {
     "elapsed": 200106,
     "status": "ok",
     "timestamp": 1579450728988,
     "user": {
      "displayName": "Akshaya Kumar Das",
      "photoUrl": "https://lh3.googleusercontent.com/a-/AAuE7mDs6ySnlrHQHuOg_R9k9-7RhVHCirW6cJVee9fP9w=s64",
      "userId": "00274796301986976222"
     },
     "user_tz": -330
    },
    "id": "WtIjO3ht5EKA",
    "outputId": "da3d8d27-f3dd-4226-b2ce-bfbea30029d3"
   },
   "outputs": [
    {
     "data": {
      "text/plain": [
       "[\"A small meteorite crashed into a wooded area in Nicaragua's capital of Managua overnight, the government said Sunday.\",\n",
       " \"Residents reported hearing a mysterious boom that left a 16-foot deep crater near the city's airport, the Associated Press reports.\",\n",
       " 'Government spokeswoman Rosario Murillo said a committee formed by the government to study the event determined it was a \"relatively small\" meteorite that \"appears to have come off an asteroid that was passing close to Earth.\"',\n",
       " 'House-sized asteroid 2014 RC, which measured 60 feet in diameter, skimmed the Earth this weekend, ABC News reports.',\n",
       " 'Murillo said Nicaragua will ask international experts to help local scientists in understanding what happened.',\n",
       " 'The crater left by the meteorite had a radius of 39 feet and a depth of 16 feet,  said Humberto Saballos, a volcanologist with the Nicaraguan Institute of Territorial Studies who was on the committee.',\n",
       " 'He said it is still not clear if the meteorite disintegrated or was buried.',\n",
       " 'Humberto Garcia, of the Astronomy Center at the National Autonomous University of Nicaragua, said the meteorite could be related to an asteroid that was forecast to pass by the planet Saturday night.',\n",
       " '\"We have to study it more because it could be ice or rock,\" he said.',\n",
       " 'Wilfried Strauch, an adviser to the Institute of Territorial Studies, said it was \"very strange that no one reported a streak of light.',\n",
       " 'We have to ask if anyone has a photo or something.\"',\n",
       " \"Local residents reported hearing a loud boom Saturday night, but said they didn't see anything strange in the sky.\",\n",
       " '\"I was sitting on my porch and I saw nothing, then all of a sudden I heard a large blast.',\n",
       " 'We thought it was a bomb because we felt an expansive wave,\" Jorge Santamaria told The Associated Press.',\n",
       " \"The site of the crater is near Managua's international airport and an air force base.\",\n",
       " 'Only journalists from state media were allowed to visit it.']"
      ]
     },
     "execution_count": 22,
     "metadata": {
      "tags": []
     },
     "output_type": "execute_result"
    }
   ],
   "source": [
    "articles[0]"
   ]
  },
  {
   "cell_type": "markdown",
   "metadata": {
    "colab_type": "text",
    "id": "fpuRIA7cCfcY"
   },
   "source": [
    "### Now iterate through each article and each sentence to encode the words into ids using t.word_index\n",
    "\n",
    "Here, to get words from sentence you can use `text_to_word_sequence` from keras preprocessing text.\n",
    "\n",
    "1. Import text_to_word_sequence\n",
    "\n",
    "2. Initialize a variable of shape (no.of articles, MAX_SENTS, MAX_SENT_LENGTH) with name `data` with zeros first (you can use numpy [np.zeros](https://docs.scipy.org/doc/numpy/reference/generated/numpy.zeros.html) to initialize with all zeros)and then update it while iterating through the words and sentences in each article."
   ]
  },
  {
   "cell_type": "code",
   "execution_count": 0,
   "metadata": {
    "colab": {},
    "colab_type": "code",
    "id": "YVyClBULCqWj"
   },
   "outputs": [],
   "source": [
    "## for article body\n",
    "data = np.zeros((len(texts), MAX_SENTS, MAX_SENT_LENGTH), dtype='int32')\n",
    "## word index encoding\n",
    "for i, sentences in enumerate(articles):\n",
    "    for j, sent in enumerate(sentences):\n",
    "        if j < MAX_SENTS:\n",
    "            wordTokens = text_to_word_sequence(sent)\n",
    "            k = 0\n",
    "            for word in wordTokens:\n",
    "                try:\n",
    "                    if k < MAX_SENT_LENGTH and t.word_index[word] < MAX_NB_WORDS:\n",
    "                        data[i, j, k] = t.word_index[word]\n",
    "                        k = k + 1\n",
    "                except:\n",
    "                        pass"
   ]
  },
  {
   "cell_type": "markdown",
   "metadata": {
    "colab_type": "text",
    "id": "bFdmiDYcE144"
   },
   "source": [
    "### Check 3:\n",
    "\n",
    "Accessing first element in data should give something like given below."
   ]
  },
  {
   "cell_type": "code",
   "execution_count": 24,
   "metadata": {
    "colab": {
     "base_uri": "https://localhost:8080/",
     "height": 1000
    },
    "colab_type": "code",
    "executionInfo": {
     "elapsed": 216333,
     "status": "ok",
     "timestamp": 1579450745232,
     "user": {
      "displayName": "Akshaya Kumar Das",
      "photoUrl": "https://lh3.googleusercontent.com/a-/AAuE7mDs6ySnlrHQHuOg_R9k9-7RhVHCirW6cJVee9fP9w=s64",
      "userId": "00274796301986976222"
     },
     "user_tz": -330
    },
    "id": "TsFWW5C2Djog",
    "outputId": "37826855-0741-4727-a7df-ee4e9440946f"
   },
   "outputs": [
    {
     "data": {
      "text/plain": [
       "array([[    3,   473,   424,  7162,    80,     3,  3725,   333,     5,\n",
       "         3875,   352,     4,  1432,  2953,     1,    88,    12,   464,\n",
       "            0,     0],\n",
       "       [  759,    95,  1048,     3,  2679,  1751,     7,   189,     3,\n",
       "         1219,  1058,  1971,   701,   160,     1,  3026,   448,     1,\n",
       "          552,   234],\n",
       "       [   88,  1069,  4099,  2346,    12,     3,  1092,  3303,    19,\n",
       "            1,    88,     2,  1791,     1,   514,  2012,    15,     9,\n",
       "            3,  2917],\n",
       "       [  185,  3633,   974,   199,  2511,    43,  6734,  1722,  1254,\n",
       "            5, 12997, 17318,     1,   754,    29,   742,  3979,    65,\n",
       "           85,     0],\n",
       "       [ 2346,    12,  1557,    37,  1098,   354,   775,     2,   361,\n",
       "          262,  1768,     5,  4447,    68,   493,     0,     0,     0,\n",
       "            0,     0],\n",
       "       [    1,   701,   189,    19,     1,   424,    31,     3,  7360,\n",
       "            4,  2154,  1254,     6,     3,  5235,     4,  1219,  1254,\n",
       "           12,  3363],\n",
       "       [   13,    12,    15,     8,   148,    25,   541,    62,     1,\n",
       "          424,  3719,    40,     9,  1849,     0,     0,     0,     0,\n",
       "            0,     0],\n",
       "       [ 3363,  5696,     4,     1,  5837,   614,    21,     1,   306,\n",
       "         3165,   793,     4,  1557,    12,     1,   424,    69,    23,\n",
       "          821,     2],\n",
       "       [   34,    17,     2,  1791,    15,    52,   119,    15,    69,\n",
       "           23,  4893,    40,  1898,    13,    12,     0,     0,     0,\n",
       "            0,     0],\n",
       "       [ 4715,  3335,    24,  3960,     2,     1,  1318,     4,  3066,\n",
       "         1661,    12,    15,     9,   191,  1420,     7,    54,    39,\n",
       "           95,     3],\n",
       "       [   34,    17,     2,  1098,    62,   502,    20,     3,   252,\n",
       "           40,   263,     0,     0,     0,     0,     0,     0,     0,\n",
       "            0,     0],\n",
       "       [  262,   759,    95,  1048,     3,  1803,  1751,   531,   274,\n",
       "           28,    12,    32,   702,   163,   832,  1420,     5,     1,\n",
       "         2083,     0],\n",
       "       [   33,     9,  2062,    10,   114,  5788,     6,    33,   569,\n",
       "          655,   103,    57,     4,     3,  2418,    33,   238,     3,\n",
       "          508,  1909],\n",
       "       [   34,   341,    15,     9,     3,  2084,   119,    34,   887,\n",
       "           24,  4448,  2584,  4309,  4894,    55,     1,   552,   234,\n",
       "            0,     0],\n",
       "       [    1,   256,     4,     1,   701,     8,   160,  3950,   354,\n",
       "          448,     6,    24,   155,   465,  1925,     0,     0,     0,\n",
       "            0,     0],\n",
       "       [  124,   921,    22,    46,    99,    36,  1832,     2,  1213,\n",
       "           15,     0,     0,     0,     0,     0,     0,     0,     0,\n",
       "            0,     0],\n",
       "       [    0,     0,     0,     0,     0,     0,     0,     0,     0,\n",
       "            0,     0,     0,     0,     0,     0,     0,     0,     0,\n",
       "            0,     0],\n",
       "       [    0,     0,     0,     0,     0,     0,     0,     0,     0,\n",
       "            0,     0,     0,     0,     0,     0,     0,     0,     0,\n",
       "            0,     0],\n",
       "       [    0,     0,     0,     0,     0,     0,     0,     0,     0,\n",
       "            0,     0,     0,     0,     0,     0,     0,     0,     0,\n",
       "            0,     0],\n",
       "       [    0,     0,     0,     0,     0,     0,     0,     0,     0,\n",
       "            0,     0,     0,     0,     0,     0,     0,     0,     0,\n",
       "            0,     0]], dtype=int32)"
      ]
     },
     "execution_count": 24,
     "metadata": {
      "tags": []
     },
     "output_type": "execute_result"
    }
   ],
   "source": [
    "data[0, :, :]"
   ]
  },
  {
   "cell_type": "markdown",
   "metadata": {
    "colab_type": "text",
    "id": "hTG6JySHehkT"
   },
   "source": [
    "### Repeat the same process for the `Headings` as well. Use variables with names `texts_heading` and `articles_heading` accordingly."
   ]
  },
  {
   "cell_type": "code",
   "execution_count": 0,
   "metadata": {
    "colab": {},
    "colab_type": "code",
    "id": "_CliiIhLemJV"
   },
   "outputs": [],
   "source": [
    "texts_heading = [] ## body\n",
    "articles_heading = [] ## body splitted into senteces and stored as a list of lists\n",
    "\n",
    "## split into sentences\n",
    "for text in dataset['Headline']:\n",
    "    texts_heading.append(text)\n",
    "    sentences = nltk.tokenize.sent_tokenize(text)\n",
    "    articles_heading.append(sentences)\n",
    "\n",
    "## for article headings\n",
    "data_heading = np.zeros((len(texts_heading), MAX_SENTS_HEADING, MAX_SENT_LENGTH), dtype='int32')\n",
    "## word index encoding\n",
    "for i, sentences in enumerate(articles_heading):\n",
    "    for j, sent in enumerate(sentences):\n",
    "        if j < MAX_SENTS_HEADING:\n",
    "            wordTokens = text_to_word_sequence(sent)\n",
    "            k = 0\n",
    "            for _, word in enumerate(wordTokens):\n",
    "                try:\n",
    "                    if k < MAX_SENT_LENGTH and t.word_index[word] < MAX_NB_WORDS:\n",
    "                        data_heading[i, j, k] = t.word_index[word]\n",
    "                        k = k + 1\n",
    "                except:\n",
    "                    pass"
   ]
  },
  {
   "cell_type": "markdown",
   "metadata": {
    "colab_type": "text",
    "id": "iaH0Ey1qe_Co"
   },
   "source": [
    "### Now the features are ready, lets make the labels ready for the model to process.\n",
    "\n",
    "### Convert labels into one-hot vectors\n",
    "\n",
    "You can use [get_dummies](https://pandas.pydata.org/pandas-docs/stable/generated/pandas.get_dummies.html) in pandas to create one-hot vectors."
   ]
  },
  {
   "cell_type": "code",
   "execution_count": 0,
   "metadata": {
    "colab": {},
    "colab_type": "code",
    "id": "Zq-VcgM8fat1"
   },
   "outputs": [],
   "source": [
    "## one-hot vectors for labels                  \n",
    "labels = dataset['Stance']\n",
    "targets = pd.Series(labels)\n",
    "one_hot = pd.get_dummies(targets, sparse = True)\n",
    "one_hot_labels = np.asarray(one_hot)\n",
    "labels = one_hot_labels"
   ]
  },
  {
   "cell_type": "markdown",
   "metadata": {
    "colab_type": "text",
    "id": "40mA8FI2fcxZ"
   },
   "source": [
    "### Check 4:\n",
    "\n",
    "The shape of data and labels shoould match the given below numbers."
   ]
  },
  {
   "cell_type": "code",
   "execution_count": 27,
   "metadata": {
    "colab": {
     "base_uri": "https://localhost:8080/",
     "height": 52
    },
    "colab_type": "code",
    "executionInfo": {
     "elapsed": 218077,
     "status": "ok",
     "timestamp": 1579450746997,
     "user": {
      "displayName": "Akshaya Kumar Das",
      "photoUrl": "https://lh3.googleusercontent.com/a-/AAuE7mDs6ySnlrHQHuOg_R9k9-7RhVHCirW6cJVee9fP9w=s64",
      "userId": "00274796301986976222"
     },
     "user_tz": -330
    },
    "id": "vpEWEnjFfnFR",
    "outputId": "d25f641e-8ed2-40fe-c2fd-eba086825ae0"
   },
   "outputs": [
    {
     "name": "stdout",
     "output_type": "stream",
     "text": [
      "Shape of data tensor: (49972, 20, 20)\n",
      "Shape of label tensor: (49972, 4)\n"
     ]
    }
   ],
   "source": [
    "print('Shape of data tensor:', data.shape)\n",
    "print('Shape of label tensor:', labels.shape)"
   ]
  },
  {
   "cell_type": "markdown",
   "metadata": {
    "colab_type": "text",
    "id": "sDOxHdR3frDu"
   },
   "source": [
    "### Shuffle the data"
   ]
  },
  {
   "cell_type": "code",
   "execution_count": 0,
   "metadata": {
    "colab": {},
    "colab_type": "code",
    "id": "-Ra-yYTvfzRt"
   },
   "outputs": [],
   "source": [
    "## get numbers upto no.of articles\n",
    "indices = np.arange(data.shape[0])\n",
    "## shuffle the numbers\n",
    "np.random.shuffle(indices)"
   ]
  },
  {
   "cell_type": "code",
   "execution_count": 0,
   "metadata": {
    "colab": {},
    "colab_type": "code",
    "id": "LKnSqwIFf3Iy"
   },
   "outputs": [],
   "source": [
    "## shuffle the data\n",
    "data = data[indices]\n",
    "data_heading = data_heading[indices]\n",
    "## shuffle the labels according to data\n",
    "labels = labels[indices]"
   ]
  },
  {
   "cell_type": "markdown",
   "metadata": {
    "colab_type": "text",
    "id": "JcOFVfPBf9kA"
   },
   "source": [
    "### Split into train and validation sets. Split the train set 80:20 ratio to get the train and validation sets.\n",
    "\n",
    "\n",
    "Use the variable names as given below:\n",
    "\n",
    "x_train, x_val - for body of articles.\n",
    "\n",
    "x_heading_train, x_heading_val - for heading of articles.\n",
    "\n",
    "y_train - for training labels.\n",
    "\n",
    "y_val - for validation labels.\n",
    "\n"
   ]
  },
  {
   "cell_type": "code",
   "execution_count": 0,
   "metadata": {
    "colab": {},
    "colab_type": "code",
    "id": "2neh9Wcof8iR"
   },
   "outputs": [],
   "source": [
    "## no.of validation samples = 0.2 of original size\n",
    "nb_validation_samples = int(data.shape[0] * VALIDATION_SPLIT)"
   ]
  },
  {
   "cell_type": "code",
   "execution_count": 0,
   "metadata": {
    "colab": {},
    "colab_type": "code",
    "id": "o5u3PTz3gEV-"
   },
   "outputs": [],
   "source": [
    "## for train and validation samples\n",
    "x_train = data[:-nb_validation_samples]\n",
    "x_heading_train = data_heading[:-nb_validation_samples]\n",
    "y_train = labels[:-nb_validation_samples]\n",
    "x_val = data[-nb_validation_samples:]\n",
    "x_heading_val = data_heading[-nb_validation_samples:]\n",
    "y_val = labels[-nb_validation_samples:]"
   ]
  },
  {
   "cell_type": "markdown",
   "metadata": {
    "colab_type": "text",
    "id": "UTyvoHrsgMDw"
   },
   "source": [
    "### Check 5:\n",
    "\n",
    "The shape of x_train, x_val, y_train and y_val should match the below numbers."
   ]
  },
  {
   "cell_type": "code",
   "execution_count": 32,
   "metadata": {
    "colab": {
     "base_uri": "https://localhost:8080/",
     "height": 87
    },
    "colab_type": "code",
    "executionInfo": {
     "elapsed": 218025,
     "status": "ok",
     "timestamp": 1579450746999,
     "user": {
      "displayName": "Akshaya Kumar Das",
      "photoUrl": "https://lh3.googleusercontent.com/a-/AAuE7mDs6ySnlrHQHuOg_R9k9-7RhVHCirW6cJVee9fP9w=s64",
      "userId": "00274796301986976222"
     },
     "user_tz": -330
    },
    "id": "KLEbiw2Yghe2",
    "outputId": "dc8ac00d-95a8-45bd-b0f2-6660809294a1"
   },
   "outputs": [
    {
     "name": "stdout",
     "output_type": "stream",
     "text": [
      "(39978, 20, 20)\n",
      "(39978, 4)\n",
      "(9994, 20, 20)\n",
      "(9994, 4)\n"
     ]
    }
   ],
   "source": [
    "print(x_train.shape)\n",
    "print(y_train.shape)\n",
    "\n",
    "print(x_val.shape)\n",
    "print(y_val.shape)"
   ]
  },
  {
   "cell_type": "markdown",
   "metadata": {
    "colab_type": "text",
    "id": "yNnoBtArhJ1E"
   },
   "source": [
    "### Create embedding matrix with the glove embeddings\n",
    "\n",
    "\n",
    "Run the below code to create embedding_matrix which has all the words and their glove embedding if present in glove word list."
   ]
  },
  {
   "cell_type": "code",
   "execution_count": 33,
   "metadata": {
    "colab": {
     "base_uri": "https://localhost:8080/",
     "height": 34
    },
    "colab_type": "code",
    "executionInfo": {
     "elapsed": 228386,
     "status": "ok",
     "timestamp": 1579450757377,
     "user": {
      "displayName": "Akshaya Kumar Das",
      "photoUrl": "https://lh3.googleusercontent.com/a-/AAuE7mDs6ySnlrHQHuOg_R9k9-7RhVHCirW6cJVee9fP9w=s64",
      "userId": "00274796301986976222"
     },
     "user_tz": -330
    },
    "id": "eKqn2IL2ZF8v",
    "outputId": "2693f7bf-c2cd-43bb-9a02-ae44cb352a84"
   },
   "outputs": [
    {
     "name": "stdout",
     "output_type": "stream",
     "text": [
      "Loaded 400000 word vectors.\n"
     ]
    }
   ],
   "source": [
    "# load the whole embedding into memory\n",
    "embeddings_index = dict()\n",
    "f = open('glove.6B/glove.6B.100d.txt', encoding=\"utf8\")\n",
    "for line in f:\n",
    "    values = line.split()\n",
    "    word = values[0]\n",
    "    coefs = np.asarray(values[1:], dtype='float32')\n",
    "    embeddings_index[word] = coefs\n",
    "f.close()\n",
    "print('Loaded %s word vectors.' % len(embeddings_index))\n",
    "\n",
    "# create a weight matrix for words in training docs\n",
    "embedding_matrix = np.zeros((vocab_size, 100))\n",
    "\n",
    "\n",
    "for word, i in t.word_index.items():\n",
    "    embedding_vector = embeddings_index.get(word)\n",
    "    if embedding_vector is not None:\n",
    "        embedding_matrix[i] = embedding_vector"
   ]
  },
  {
   "cell_type": "markdown",
   "metadata": {
    "colab_type": "text",
    "id": "LRi4o3ZspDFU"
   },
   "source": [
    "---\n",
    "## Step 3: Try the sequential model approach and report the accuracy score.  \n",
    "\n",
    "#### Generic Methods for Accuracy\n",
    "Let's write some generic method to plot some useful curves such as validation curves, precision-recall curves and print the classification summary."
   ]
  },
  {
   "cell_type": "code",
   "execution_count": 0,
   "metadata": {
    "colab": {},
    "colab_type": "code",
    "id": "kKgmwFAZOTH4"
   },
   "outputs": [],
   "source": [
    "# Generic method to plot the VALIDATION curves\n",
    "def plot_validation_curve(history, metrics):\n",
    "    plt.clf()\n",
    "    history_dict = history.history\n",
    "    f, ax = plt.subplots(1, len(metrics), figsize=(16,6))\n",
    "    for i, metric in enumerate(metrics):\n",
    "        metric_values = history_dict[metric]\n",
    "        val_metric_values = history_dict['val_' + metric]\n",
    "        epochs = range(1, (len(history_dict[metric]) + 1))\n",
    "        ax[i].plot(epochs, metric_values, 'bo:', label='Training ' + metric)\n",
    "        ax[i].plot(epochs, val_metric_values, 'go-', label='Validation ' + metric)\n",
    "        ax[i].set_title('Training and Validation ' + ('Accuracy' if metric=='acc' else 'Loss'))\n",
    "        ax[i].set_xlabel('Epochs')\n",
    "        ax[i].set_ylabel('Accuracy' if metric=='acc' else 'Loss')\n",
    "        ax[i].legend()"
   ]
  },
  {
   "cell_type": "code",
   "execution_count": 0,
   "metadata": {
    "colab": {},
    "colab_type": "code",
    "id": "4vieWTzUOTH6"
   },
   "outputs": [],
   "source": [
    "# Generic method to print the classification report\n",
    "def classification_summary(y_test, y_pred, y_proba):\n",
    "    print('\\033[1mModel accuracy:\\033[0m %.2f%%' % (accuracy_score(y_test, y_pred) * 100))\n",
    "    print('_'*80)\n",
    "    print('\\033[1mConfusion matrix:\\033[0m\\n %s' % (confusion_matrix(y_test.argmax(axis=1), y_pred.argmax(axis=1))))\n",
    "    print('_'*80)\n",
    "    print('\\033[1mClassification report:\\033[0m\\n %s' % (classification_report(y_test, y_pred)))\n",
    "    print('_'*80)"
   ]
  },
  {
   "cell_type": "code",
   "execution_count": 36,
   "metadata": {
    "colab": {
     "base_uri": "https://localhost:8080/",
     "height": 478
    },
    "colab_type": "code",
    "executionInfo": {
     "elapsed": 238846,
     "status": "ok",
     "timestamp": 1579450767875,
     "user": {
      "displayName": "Akshaya Kumar Das",
      "photoUrl": "https://lh3.googleusercontent.com/a-/AAuE7mDs6ySnlrHQHuOg_R9k9-7RhVHCirW6cJVee9fP9w=s64",
      "userId": "00274796301986976222"
     },
     "user_tz": -330
    },
    "id": "G_8QXh-rmPFq",
    "outputId": "31b7e37f-ca8e-438c-9d95-93ea6c6f1e8f"
   },
   "outputs": [
    {
     "name": "stdout",
     "output_type": "stream",
     "text": [
      "WARNING:tensorflow:From /usr/local/lib/python3.6/dist-packages/keras/backend/tensorflow_backend.py:66: The name tf.get_default_graph is deprecated. Please use tf.compat.v1.get_default_graph instead.\n",
      "\n",
      "WARNING:tensorflow:From /usr/local/lib/python3.6/dist-packages/keras/backend/tensorflow_backend.py:541: The name tf.placeholder is deprecated. Please use tf.compat.v1.placeholder instead.\n",
      "\n",
      "Tensor(\"input_1:0\", shape=(?, 20), dtype=int32)\n",
      "WARNING:tensorflow:From /usr/local/lib/python3.6/dist-packages/keras/backend/tensorflow_backend.py:4432: The name tf.random_uniform is deprecated. Please use tf.random.uniform instead.\n",
      "\n",
      "WARNING:tensorflow:From /usr/local/lib/python3.6/dist-packages/keras/backend/tensorflow_backend.py:190: The name tf.get_default_session is deprecated. Please use tf.compat.v1.get_default_session instead.\n",
      "\n",
      "WARNING:tensorflow:From /usr/local/lib/python3.6/dist-packages/keras/backend/tensorflow_backend.py:197: The name tf.ConfigProto is deprecated. Please use tf.compat.v1.ConfigProto instead.\n",
      "\n",
      "WARNING:tensorflow:From /usr/local/lib/python3.6/dist-packages/keras/backend/tensorflow_backend.py:203: The name tf.Session is deprecated. Please use tf.compat.v1.Session instead.\n",
      "\n",
      "WARNING:tensorflow:From /usr/local/lib/python3.6/dist-packages/keras/backend/tensorflow_backend.py:207: The name tf.global_variables is deprecated. Please use tf.compat.v1.global_variables instead.\n",
      "\n",
      "WARNING:tensorflow:From /usr/local/lib/python3.6/dist-packages/keras/backend/tensorflow_backend.py:216: The name tf.is_variable_initialized is deprecated. Please use tf.compat.v1.is_variable_initialized instead.\n",
      "\n",
      "WARNING:tensorflow:From /usr/local/lib/python3.6/dist-packages/keras/backend/tensorflow_backend.py:223: The name tf.variables_initializer is deprecated. Please use tf.compat.v1.variables_initializer instead.\n",
      "\n",
      "WARNING:tensorflow:From /usr/local/lib/python3.6/dist-packages/keras/backend/tensorflow_backend.py:148: The name tf.placeholder_with_default is deprecated. Please use tf.compat.v1.placeholder_with_default instead.\n",
      "\n",
      "WARNING:tensorflow:From /usr/local/lib/python3.6/dist-packages/keras/backend/tensorflow_backend.py:3733: calling dropout (from tensorflow.python.ops.nn_ops) with keep_prob is deprecated and will be removed in a future version.\n",
      "Instructions for updating:\n",
      "Please use `rate` instead of `keep_prob`. Rate should be set to `rate = 1 - keep_prob`.\n",
      "Tensor(\"input_2:0\", shape=(?, 20, 20), dtype=int32)\n",
      "Tensor(\"time_distributed_2/Reshape_1:0\", shape=(?, 20, 2000), dtype=float32)\n"
     ]
    }
   ],
   "source": [
    "# Build the model\n",
    "embedding_dim = 100\n",
    "\n",
    "sentence_input = Input(shape=(MAX_SENT_LENGTH,), dtype='int32')\n",
    "print(sentence_input)\n",
    "embedded_sequences = Embedding(output_dim=embedding_dim, \n",
    "                               input_dim=vocab_size, \n",
    "                               input_length=(MAX_SENT_LENGTH,), \n",
    "                               weights=[embedding_matrix])(sentence_input)\n",
    "\n",
    "l_lstm = Bidirectional(LSTM(100, return_sequences=True,\n",
    "                            dropout=0.4,\n",
    "                            kernel_constraint=unit_norm(),\n",
    "                            recurrent_constraint=unit_norm(),\n",
    "                            bias_constraint=unit_norm()))(embedded_sequences)\n",
    "l_dense = TimeDistributed(Dense(100))(l_lstm)\n",
    "l_dropout = Dropout(0.4)(l_dense)\n",
    "l_dense = Flatten()(l_dropout)\n",
    "sentEncoder = Model(sentence_input, l_dense)\n",
    "\n",
    "body_input = Input(shape=(MAX_SENTS,MAX_SENT_LENGTH,), dtype='int32')\n",
    "print(body_input)\n",
    "body_encoder = TimeDistributed(sentEncoder)(body_input)\n",
    "print(body_encoder)\n",
    "l_lstm_sent = Bidirectional(LSTM(100, return_sequences=True,\n",
    "                            dropout=0.4,\n",
    "                            kernel_constraint=unit_norm(),\n",
    "                            recurrent_constraint=unit_norm(),\n",
    "                            bias_constraint=unit_norm()))(body_encoder)\n",
    "l_dense_sent = TimeDistributed(Dense(100))(l_lstm_sent)\n",
    "l_dropout_sent = Dropout(0.4)(l_dense_sent)\n",
    "l_dense_sent = Flatten()(l_dropout_sent)\n",
    "\n",
    "\n",
    "heading_input = Input(shape=(MAX_SENTS_HEADING, MAX_SENT_LENGTH,), dtype='int32')\n",
    "heading_embedded_sequences = Embedding(output_dim=embedding_dim, \n",
    "                                       input_dim=vocab_size,\n",
    "                                       input_length=(MAX_SENTS_HEADING, MAX_SENT_LENGTH,), \n",
    "                                       weights=[embedding_matrix])(heading_input)\n",
    "h_dense = Dense(100, activation='relu')(heading_embedded_sequences)\n",
    "h_flatten = Flatten()(h_dense)\n",
    "article_output = concatenate([l_dense_sent, h_flatten], name='concatenate_heading')\n",
    "\n",
    "news_vector = Dense(100, activation='relu')(article_output)\n",
    "preds = Dense(4, activation='softmax')(news_vector)\n",
    "model = Model([body_input, heading_input], [preds])"
   ]
  },
  {
   "cell_type": "code",
   "execution_count": 37,
   "metadata": {
    "colab": {
     "base_uri": "https://localhost:8080/",
     "height": 638
    },
    "colab_type": "code",
    "executionInfo": {
     "elapsed": 238838,
     "status": "ok",
     "timestamp": 1579450767876,
     "user": {
      "displayName": "Akshaya Kumar Das",
      "photoUrl": "https://lh3.googleusercontent.com/a-/AAuE7mDs6ySnlrHQHuOg_R9k9-7RhVHCirW6cJVee9fP9w=s64",
      "userId": "00274796301986976222"
     },
     "user_tz": -330
    },
    "id": "mKVyujKfOTH9",
    "outputId": "7d98ae51-4fe9-4a03-ff03-fe02fea49fa0"
   },
   "outputs": [
    {
     "name": "stdout",
     "output_type": "stream",
     "text": [
      "Model: \"model_2\"\n",
      "__________________________________________________________________________________________________\n",
      "Layer (type)                    Output Shape         Param #     Connected to                     \n",
      "==================================================================================================\n",
      "input_2 (InputLayer)            (None, 20, 20)       0                                            \n",
      "__________________________________________________________________________________________________\n",
      "time_distributed_2 (TimeDistrib (None, 20, 2000)     2834100     input_2[0][0]                    \n",
      "__________________________________________________________________________________________________\n",
      "bidirectional_2 (Bidirectional) (None, 20, 200)      1680800     time_distributed_2[0][0]         \n",
      "__________________________________________________________________________________________________\n",
      "input_3 (InputLayer)            (None, 1, 20)        0                                            \n",
      "__________________________________________________________________________________________________\n",
      "time_distributed_3 (TimeDistrib (None, 20, 100)      20100       bidirectional_2[0][0]            \n",
      "__________________________________________________________________________________________________\n",
      "embedding_2 (Embedding)         (None, 1, 20, 100)   2653200     input_3[0][0]                    \n",
      "__________________________________________________________________________________________________\n",
      "dropout_2 (Dropout)             (None, 20, 100)      0           time_distributed_3[0][0]         \n",
      "__________________________________________________________________________________________________\n",
      "dense_3 (Dense)                 (None, 1, 20, 100)   10100       embedding_2[0][0]                \n",
      "__________________________________________________________________________________________________\n",
      "flatten_2 (Flatten)             (None, 2000)         0           dropout_2[0][0]                  \n",
      "__________________________________________________________________________________________________\n",
      "flatten_3 (Flatten)             (None, 2000)         0           dense_3[0][0]                    \n",
      "__________________________________________________________________________________________________\n",
      "concatenate_heading (Concatenat (None, 4000)         0           flatten_2[0][0]                  \n",
      "                                                                 flatten_3[0][0]                  \n",
      "__________________________________________________________________________________________________\n",
      "dense_4 (Dense)                 (None, 100)          400100      concatenate_heading[0][0]        \n",
      "__________________________________________________________________________________________________\n",
      "dense_5 (Dense)                 (None, 4)            404         dense_4[0][0]                    \n",
      "==================================================================================================\n",
      "Total params: 7,598,804\n",
      "Trainable params: 7,598,804\n",
      "Non-trainable params: 0\n",
      "__________________________________________________________________________________________________\n"
     ]
    }
   ],
   "source": [
    "# Print the summary of the model\n",
    "model.summary()"
   ]
  },
  {
   "cell_type": "markdown",
   "metadata": {
    "colab_type": "text",
    "id": "C5Xrd-JQ3id7"
   },
   "source": [
    "### Compile and fit the model\n",
    "#### early_stopping and model_checkpoint layers."
   ]
  },
  {
   "cell_type": "code",
   "execution_count": 38,
   "metadata": {
    "colab": {
     "base_uri": "https://localhost:8080/",
     "height": 34
    },
    "colab_type": "code",
    "executionInfo": {
     "elapsed": 241215,
     "status": "ok",
     "timestamp": 1579450770264,
     "user": {
      "displayName": "Akshaya Kumar Das",
      "photoUrl": "https://lh3.googleusercontent.com/a-/AAuE7mDs6ySnlrHQHuOg_R9k9-7RhVHCirW6cJVee9fP9w=s64",
      "userId": "00274796301986976222"
     },
     "user_tz": -330
    },
    "id": "U8rd5FHNOTH_",
    "outputId": "27077f68-b8d5-427c-a13b-fc083930c264"
   },
   "outputs": [
    {
     "name": "stdout",
     "output_type": "stream",
     "text": [
      "mkdir: cannot create directory ‘Weights’: File exists\n"
     ]
    }
   ],
   "source": [
    "#Path where you want to save the weights, model and checkpoints\n",
    "model_path = \"Weights/\"\n",
    "%mkdir Weights"
   ]
  },
  {
   "cell_type": "code",
   "execution_count": 0,
   "metadata": {
    "colab": {},
    "colab_type": "code",
    "id": "7onjj6f5OTIB"
   },
   "outputs": [],
   "source": [
    "def call_backs(name):\n",
    "    early_stopping = EarlyStopping(monitor='val_loss', min_delta=0.005, patience=100)\n",
    "    model_checkpoint =  ModelCheckpoint(model_path + name + '_epoch_{epoch:02d}_loss{val_loss:.4f}.h5',\n",
    "                                                               monitor='val_loss',\n",
    "                                                               verbose=1,\n",
    "                                                               save_best_only=True,\n",
    "                                                               save_weights_only=False,\n",
    "                                                               mode='min',\n",
    "                                                               period=1)\n",
    "    return [model_checkpoint, early_stopping]"
   ]
  },
  {
   "cell_type": "code",
   "execution_count": 40,
   "metadata": {
    "colab": {
     "base_uri": "https://localhost:8080/",
     "height": 994
    },
    "colab_type": "code",
    "executionInfo": {
     "elapsed": 1074567,
     "status": "ok",
     "timestamp": 1579452059322,
     "user": {
      "displayName": "Akshaya Kumar Das",
      "photoUrl": "https://lh3.googleusercontent.com/a-/AAuE7mDs6ySnlrHQHuOg_R9k9-7RhVHCirW6cJVee9fP9w=s64",
      "userId": "00274796301986976222"
     },
     "user_tz": -330
    },
    "id": "MlduHU2CovxC",
    "outputId": "accc3c89-8a94-4b1a-deae-7832bfceb3a8",
    "scrolled": false
   },
   "outputs": [
    {
     "name": "stdout",
     "output_type": "stream",
     "text": [
      "WARNING:tensorflow:From /usr/local/lib/python3.6/dist-packages/keras/optimizers.py:793: The name tf.train.Optimizer is deprecated. Please use tf.compat.v1.train.Optimizer instead.\n",
      "\n",
      "WARNING:tensorflow:From /usr/local/lib/python3.6/dist-packages/keras/backend/tensorflow_backend.py:3576: The name tf.log is deprecated. Please use tf.math.log instead.\n",
      "\n",
      "Training Hierachical LSTM network\n",
      "WARNING:tensorflow:From /usr/local/lib/python3.6/dist-packages/tensorflow_core/python/ops/math_grad.py:1424: where (from tensorflow.python.ops.array_ops) is deprecated and will be removed in a future version.\n",
      "Instructions for updating:\n",
      "Use tf.where in 2.0, which has the same broadcast rule as np.where\n",
      "WARNING:tensorflow:From /usr/local/lib/python3.6/dist-packages/keras/backend/tensorflow_backend.py:1033: The name tf.assign_add is deprecated. Please use tf.compat.v1.assign_add instead.\n",
      "\n",
      "WARNING:tensorflow:From /usr/local/lib/python3.6/dist-packages/keras/backend/tensorflow_backend.py:1020: The name tf.assign is deprecated. Please use tf.compat.v1.assign instead.\n",
      "\n",
      "Train on 39978 samples, validate on 9994 samples\n",
      "Epoch 1/10\n",
      "39978/39978 [==============================] - 132s 3ms/step - loss: 0.6538 - acc: 0.7634 - val_loss: 0.4781 - val_acc: 0.8219\n",
      "\n",
      "Epoch 00001: val_loss improved from inf to 0.47814, saving model to Weights/stance.fake.news_epoch_01_loss0.4781.h5\n",
      "Epoch 2/10\n",
      "39978/39978 [==============================] - 128s 3ms/step - loss: 0.4193 - acc: 0.8390 - val_loss: 0.3687 - val_acc: 0.8554\n",
      "\n",
      "Epoch 00002: val_loss improved from 0.47814 to 0.36869, saving model to Weights/stance.fake.news_epoch_02_loss0.3687.h5\n",
      "Epoch 3/10\n",
      "39978/39978 [==============================] - 129s 3ms/step - loss: 0.3140 - acc: 0.8803 - val_loss: 0.3040 - val_acc: 0.8849\n",
      "\n",
      "Epoch 00003: val_loss improved from 0.36869 to 0.30401, saving model to Weights/stance.fake.news_epoch_03_loss0.3040.h5\n",
      "Epoch 4/10\n",
      "39978/39978 [==============================] - 129s 3ms/step - loss: 0.2480 - acc: 0.9077 - val_loss: 0.2515 - val_acc: 0.9097\n",
      "\n",
      "Epoch 00004: val_loss improved from 0.30401 to 0.25153, saving model to Weights/stance.fake.news_epoch_04_loss0.2515.h5\n",
      "Epoch 5/10\n",
      "39978/39978 [==============================] - 128s 3ms/step - loss: 0.2078 - acc: 0.9224 - val_loss: 0.2586 - val_acc: 0.9088\n",
      "\n",
      "Epoch 00005: val_loss did not improve from 0.25153\n",
      "Epoch 6/10\n",
      "39978/39978 [==============================] - 128s 3ms/step - loss: 0.1769 - acc: 0.9345 - val_loss: 0.2240 - val_acc: 0.9200\n",
      "\n",
      "Epoch 00006: val_loss improved from 0.25153 to 0.22396, saving model to Weights/stance.fake.news_epoch_06_loss0.2240.h5\n",
      "Epoch 7/10\n",
      "39978/39978 [==============================] - 128s 3ms/step - loss: 0.1531 - acc: 0.9450 - val_loss: 0.2967 - val_acc: 0.9129\n",
      "\n",
      "Epoch 00007: val_loss did not improve from 0.22396\n",
      "Epoch 8/10\n",
      "39978/39978 [==============================] - 128s 3ms/step - loss: 0.1392 - acc: 0.9506 - val_loss: 0.2397 - val_acc: 0.9218\n",
      "\n",
      "Epoch 00008: val_loss did not improve from 0.22396\n",
      "Epoch 9/10\n",
      "39978/39978 [==============================] - 127s 3ms/step - loss: 0.1268 - acc: 0.9549 - val_loss: 0.1888 - val_acc: 0.9383\n",
      "\n",
      "Epoch 00009: val_loss improved from 0.22396 to 0.18876, saving model to Weights/stance.fake.news_epoch_09_loss0.1888.h5\n",
      "Epoch 10/10\n",
      "39978/39978 [==============================] - 127s 3ms/step - loss: 0.1147 - acc: 0.9603 - val_loss: 0.2367 - val_acc: 0.9395\n",
      "\n",
      "Epoch 00010: val_loss did not improve from 0.18876\n",
      "Time taken to train the network: 1288.71 sec\n",
      "model and weight files saved at : /content/drive/My Drive/Colab Notebooks/DLCP/FakeNewsDetection-NLP/Weights/\n"
     ]
    }
   ],
   "source": [
    "st = time()\n",
    "epochs = 10\n",
    "batches = 50\n",
    "model.compile(loss='categorical_crossentropy',\n",
    "              optimizer='rmsprop',\n",
    "              metrics=['acc'])\n",
    "print(\"Training Hierachical LSTM network\")\n",
    "history = model.fit([x_train, x_heading_train], [y_train], \n",
    "                    validation_data=([x_val, x_heading_val], [y_val]), \n",
    "                    callbacks=call_backs('stance.fake.news'), \n",
    "                    epochs=epochs, \n",
    "                    batch_size=batches)\n",
    "\n",
    "print('Time taken to train the network: %.2f sec' % (time()-st))\n",
    "\n",
    "# Save weights\n",
    "model.save_weights(model_path + 'stance.fake.news_weights_epoch_{}.h5'.format(epochs))\n",
    "print (\"model and weight files saved at : \" + os.path.join(os.getcwd(), model_path))"
   ]
  },
  {
   "cell_type": "markdown",
   "metadata": {
    "colab_type": "text",
    "id": "cfaD8O6WOTID"
   },
   "source": [
    "### Evaluate the model"
   ]
  },
  {
   "cell_type": "code",
   "execution_count": 41,
   "metadata": {
    "colab": {
     "base_uri": "https://localhost:8080/",
     "height": 425
    },
    "colab_type": "code",
    "executionInfo": {
     "elapsed": 975,
     "status": "ok",
     "timestamp": 1579452060281,
     "user": {
      "displayName": "Akshaya Kumar Das",
      "photoUrl": "https://lh3.googleusercontent.com/a-/AAuE7mDs6ySnlrHQHuOg_R9k9-7RhVHCirW6cJVee9fP9w=s64",
      "userId": "00274796301986976222"
     },
     "user_tz": -330
    },
    "id": "V3QZbQUZOTIE",
    "outputId": "ea31a606-62c1-4f0b-f41d-174d8d24a65d"
   },
   "outputs": [
    {
     "data": {
      "text/plain": [
       "<Figure size 432x288 with 0 Axes>"
      ]
     },
     "metadata": {
      "tags": []
     },
     "output_type": "display_data"
    },
    {
     "data": {
      "image/png": "[encoded data removed]",
      "text/plain": [
       "<Figure size 1152x432 with 2 Axes>"
      ]
     },
     "metadata": {
      "tags": []
     },
     "output_type": "display_data"
    }
   ],
   "source": [
    "# VALIDATION ACCURACY and LOSS Curve\n",
    "plot_validation_curve(history, ['acc','loss'])"
   ]
  },
  {
   "cell_type": "code",
   "execution_count": 42,
   "metadata": {
    "colab": {
     "base_uri": "https://localhost:8080/",
     "height": 52
    },
    "colab_type": "code",
    "executionInfo": {
     "elapsed": 18453,
     "status": "ok",
     "timestamp": 1579452078730,
     "user": {
      "displayName": "Akshaya Kumar Das",
      "photoUrl": "https://lh3.googleusercontent.com/a-/AAuE7mDs6ySnlrHQHuOg_R9k9-7RhVHCirW6cJVee9fP9w=s64",
      "userId": "00274796301986976222"
     },
     "user_tz": -330
    },
    "id": "At4m6BJsOTIH",
    "outputId": "3df8c656-e769-43a8-b3f8-85f294d8ea73"
   },
   "outputs": [
    {
     "name": "stdout",
     "output_type": "stream",
     "text": [
      "9994/9994 [==============================] - 18s 2ms/step\n",
      "Accuracy: 93.95\n"
     ]
    }
   ],
   "source": [
    "loss, acc = model.evaluate([x_val, x_heading_val], y_val)\n",
    "print('Accuracy:', np.round(acc * 100, decimals=2))"
   ]
  },
  {
   "cell_type": "code",
   "execution_count": 43,
   "metadata": {
    "colab": {
     "base_uri": "https://localhost:8080/",
     "height": 407
    },
    "colab_type": "code",
    "executionInfo": {
     "elapsed": 17754,
     "status": "ok",
     "timestamp": 1579452096474,
     "user": {
      "displayName": "Akshaya Kumar Das",
      "photoUrl": "https://lh3.googleusercontent.com/a-/AAuE7mDs6ySnlrHQHuOg_R9k9-7RhVHCirW6cJVee9fP9w=s64",
      "userId": "00274796301986976222"
     },
     "user_tz": -330
    },
    "id": "ZwCSIytiOTII",
    "outputId": "447b54c7-77eb-449e-8508-2caa5f894935"
   },
   "outputs": [
    {
     "name": "stdout",
     "output_type": "stream",
     "text": [
      "\u001b[1mModel accuracy:\u001b[0m 93.67%\n",
      "________________________________________________________________________________\n",
      "\u001b[1mConfusion matrix:\u001b[0m\n",
      " [[ 601   31   28   79]\n",
      " [  60   85   11   18]\n",
      " [  44    1 1599  135]\n",
      " [ 101    1   96 7104]]\n",
      "________________________________________________________________________________\n",
      "\u001b[1mClassification report:\u001b[0m\n",
      "               precision    recall  f1-score   support\n",
      "\n",
      "           0       0.79      0.78      0.78       739\n",
      "           1       0.72      0.49      0.58       174\n",
      "           2       0.92      0.90      0.91      1779\n",
      "           3       0.97      0.97      0.97      7302\n",
      "\n",
      "   micro avg       0.94      0.94      0.94      9994\n",
      "   macro avg       0.85      0.78      0.81      9994\n",
      "weighted avg       0.94      0.94      0.94      9994\n",
      " samples avg       0.94      0.94      0.94      9994\n",
      "\n",
      "________________________________________________________________________________\n"
     ]
    }
   ],
   "source": [
    "# Analyze Classification Summary\n",
    "y_proba = model.predict([x_val, x_heading_val])\n",
    "y_pred = (y_proba > 0.5).astype('int32')\n",
    "classification_summary(y_val, y_pred, y_proba)"
   ]
  },
  {
   "cell_type": "markdown",
   "metadata": {
    "colab_type": "text",
    "id": "R47A6Ysfev3l"
   },
   "source": [
    "**Observations:**\n",
    "- This network shows a very good accuracy with acceptable loss.\n",
    "- However, we notice from the accuracy and locc curves, there are certain instances where we notice the model entering overfitting region.\n",
    "- This could be because of the problem of long-range dependency problem of RNN/LSTMs.\n",
    "\n",
    "There are two RNNs/LSTMs. One we call the encoder – this reads the input sentence and tries to make sense of it, before summarizing it. It passes the summary (context vector) to the decoder which translates the input sentence by just seeing it.\n",
    "\n",
    "The main drawback of this approach is evident. If the encoder makes a bad summary, the translation will also be bad. And indeed it is possible that the encoder can create a bad summary when it tries to understand longer sentences. Although an LSTM is supposed to capture the long-range dependency better than the RNN, it tends to become forgetful in specific cases. Another problem is that there is no way to give more importance to some of the input words compared to others while translating the sentence. \n",
    "\n",
    "Let's try Attention layer and analyze it's effect on beating this problem.\n",
    "\n",
    "---\n",
    "## Step 4: Build the same model with attention layers included for better performance\n",
    "A neural network is considered to be an effort to mimic human brain actions in a simplified manner. **Attention Mechanism** is also an attempt to implement the same action of selectively concentrating on a few relevant things, while ignoring others in deep neural networks.\n",
    "\n",
    "The attention mechanism emerged as an improvement over the encoder decoder-based neural machine translation system in natural language processing (NLP) to iradicate the problem of **long-range dependency problem of RNN/LSTMs**. Later, this mechanism, or its variants, was used in other applications, including computer vision, speech processing, etc.\n"
   ]
  },
  {
   "cell_type": "code",
   "execution_count": 0,
   "metadata": {
    "colab": {},
    "colab_type": "code",
    "id": "ZQ3TWuiAe1Uu"
   },
   "outputs": [],
   "source": [
    "# Define Attention Layer\n",
    "class Attention(Layer):\n",
    "    def __init__(self, attention_dim):\n",
    "        self.init = initializers.get('normal')\n",
    "        self.supports_masking = True\n",
    "        self.attention_dim = attention_dim\n",
    "        super(Attention, self).__init__()\n",
    "\n",
    "    def build(self, input_shape):\n",
    "        assert len(input_shape) == 3\n",
    "        self.W = K.variable(self.init((input_shape[-1], self.attention_dim)))\n",
    "        self.b = K.variable(self.init((self.attention_dim, )))\n",
    "        self.u = K.variable(self.init((self.attention_dim, 1)))\n",
    "        self.trainable_weights = [self.W, self.b, self.u]\n",
    "        super(Attention, self).build(input_shape)\n",
    "\n",
    "    def compute_mask(self, inputs, mask=None):\n",
    "        return mask\n",
    "\n",
    "    def call(self, x, mask=None):\n",
    "        # size of x :[batch_size, sel_len, attention_dim]\n",
    "        # size of u :[batch_size, attention_dim]\n",
    "        # uit = tanh(xW+b)\n",
    "        uit = K.tanh(K.bias_add(K.dot(x, self.W), self.b))\n",
    "        ait = K.dot(uit, self.u)\n",
    "        ait = K.squeeze(ait, -1)\n",
    "\n",
    "        ait = K.exp(ait)\n",
    "\n",
    "        if mask is not None:\n",
    "            # Cast the mask to floatX to avoid float64 upcasting in theano\n",
    "            ait *= K.cast(mask, K.floatx())\n",
    "        ait /= K.cast(K.sum(ait, axis=1, keepdims=True) + K.epsilon(), K.floatx())\n",
    "        ait = K.expand_dims(ait)\n",
    "        weighted_input = x * ait\n",
    "        output = K.sum(weighted_input, axis=1)\n",
    "\n",
    "        return output\n",
    "\n",
    "    def compute_output_shape(self, input_shape):\n",
    "        return (input_shape[0], input_shape[-1])"
   ]
  },
  {
   "cell_type": "code",
   "execution_count": 45,
   "metadata": {
    "colab": {
     "base_uri": "https://localhost:8080/",
     "height": 52
    },
    "colab_type": "code",
    "executionInfo": {
     "elapsed": 3507,
     "status": "ok",
     "timestamp": 1579452099976,
     "user": {
      "displayName": "Akshaya Kumar Das",
      "photoUrl": "https://lh3.googleusercontent.com/a-/AAuE7mDs6ySnlrHQHuOg_R9k9-7RhVHCirW6cJVee9fP9w=s64",
      "userId": "00274796301986976222"
     },
     "user_tz": -330
    },
    "id": "wivJ-eVkfEOm",
    "outputId": "134b181d-c5f5-40e4-cbdb-1cab08a2c1ce"
   },
   "outputs": [
    {
     "name": "stdout",
     "output_type": "stream",
     "text": [
      "WARNING:tensorflow:From /usr/local/lib/python3.6/dist-packages/keras/backend/tensorflow_backend.py:4409: The name tf.random_normal is deprecated. Please use tf.random.normal instead.\n",
      "\n"
     ]
    }
   ],
   "source": [
    "# Build the model with Attention Layer\n",
    "embedding_dim = 100\n",
    "\n",
    "sentence_input = Input(shape=(MAX_SENT_LENGTH,), dtype='int32')\n",
    "embedded_sequences = Embedding(output_dim=embedding_dim, \n",
    "                               input_dim=vocab_size, \n",
    "                               input_length=(MAX_SENT_LENGTH,), \n",
    "                               weights=[embedding_matrix])(sentence_input)\n",
    "\n",
    "l_lstm = Bidirectional(LSTM(100, return_sequences=True,\n",
    "                            dropout=0.4,\n",
    "                            kernel_constraint=unit_norm(),\n",
    "                            recurrent_constraint=unit_norm(),\n",
    "                            bias_constraint=unit_norm()))(embedded_sequences)\n",
    "l_dense = TimeDistributed(Dense(100))(l_lstm)\n",
    "l_dropout = Dropout(0.4)(l_dense)\n",
    "# Add Attention Layer\n",
    "l_att = Attention(100)(l_dropout)\n",
    "sentEncoder = Model(sentence_input, l_att)\n",
    "\n",
    "body_input = Input(shape=(MAX_SENTS,MAX_SENT_LENGTH), dtype='int32')\n",
    "body_encoder = TimeDistributed(sentEncoder)(body_input)\n",
    "l_lstm_sent = Bidirectional(LSTM(100, return_sequences=True,\n",
    "                            dropout=0.4,\n",
    "                            kernel_constraint=unit_norm(),\n",
    "                            recurrent_constraint=unit_norm(),\n",
    "                            bias_constraint=unit_norm()))(body_encoder)\n",
    "l_dense_sent = TimeDistributed(Dense(100))(l_lstm_sent)\n",
    "l_dropout_sent = Dropout(0.4)(l_dense_sent)\n",
    "# Add Attention Layer\n",
    "l_att_sent = Attention(100)(l_dropout_sent)\n",
    "\n",
    "\n",
    "heading_input = Input(shape=(MAX_SENTS_HEADING, MAX_SENT_LENGTH,), dtype='int32')\n",
    "heading_embedded_sequences = Embedding(output_dim=embedding_dim, \n",
    "                                       input_dim=vocab_size, \n",
    "                                       input_length=(MAX_SENTS_HEADING, MAX_SENT_LENGTH,), \n",
    "                                       weights=[embedding_matrix])(heading_input)\n",
    "h_dense = Dense(10, activation='relu')(heading_embedded_sequences)\n",
    "h_flatten = Flatten()(h_dense)\n",
    "article_output = concatenate([l_att_sent, h_flatten], name='concatenate_heading')\n",
    "\n",
    "news_vector = Dense(100, activation='relu')(article_output)\n",
    "preds = Dense(4, activation='softmax')(news_vector)\n",
    "model = Model([body_input, heading_input], [preds])"
   ]
  },
  {
   "cell_type": "code",
   "execution_count": 46,
   "metadata": {
    "colab": {
     "base_uri": "https://localhost:8080/",
     "height": 638
    },
    "colab_type": "code",
    "executionInfo": {
     "elapsed": 20,
     "status": "ok",
     "timestamp": 1579452099977,
     "user": {
      "displayName": "Akshaya Kumar Das",
      "photoUrl": "https://lh3.googleusercontent.com/a-/AAuE7mDs6ySnlrHQHuOg_R9k9-7RhVHCirW6cJVee9fP9w=s64",
      "userId": "00274796301986976222"
     },
     "user_tz": -330
    },
    "id": "X7ie1TnNOTIN",
    "outputId": "b95fc4d1-1c34-47bc-aa81-ab37108ecb67"
   },
   "outputs": [
    {
     "name": "stdout",
     "output_type": "stream",
     "text": [
      "Model: \"model_4\"\n",
      "__________________________________________________________________________________________________\n",
      "Layer (type)                    Output Shape         Param #     Connected to                     \n",
      "==================================================================================================\n",
      "input_5 (InputLayer)            (None, 20, 20)       0                                            \n",
      "__________________________________________________________________________________________________\n",
      "time_distributed_5 (TimeDistrib (None, 20, 100)      2844300     input_5[0][0]                    \n",
      "__________________________________________________________________________________________________\n",
      "bidirectional_4 (Bidirectional) (None, 20, 200)      160800      time_distributed_5[0][0]         \n",
      "__________________________________________________________________________________________________\n",
      "input_6 (InputLayer)            (None, 1, 20)        0                                            \n",
      "__________________________________________________________________________________________________\n",
      "time_distributed_6 (TimeDistrib (None, 20, 100)      20100       bidirectional_4[0][0]            \n",
      "__________________________________________________________________________________________________\n",
      "embedding_4 (Embedding)         (None, 1, 20, 100)   2653200     input_6[0][0]                    \n",
      "__________________________________________________________________________________________________\n",
      "dropout_4 (Dropout)             (None, 20, 100)      0           time_distributed_6[0][0]         \n",
      "__________________________________________________________________________________________________\n",
      "dense_8 (Dense)                 (None, 1, 20, 10)    1010        embedding_4[0][0]                \n",
      "__________________________________________________________________________________________________\n",
      "attention_2 (Attention)         (None, 100)          10200       dropout_4[0][0]                  \n",
      "__________________________________________________________________________________________________\n",
      "flatten_4 (Flatten)             (None, 200)          0           dense_8[0][0]                    \n",
      "__________________________________________________________________________________________________\n",
      "concatenate_heading (Concatenat (None, 300)          0           attention_2[0][0]                \n",
      "                                                                 flatten_4[0][0]                  \n",
      "__________________________________________________________________________________________________\n",
      "dense_9 (Dense)                 (None, 100)          30100       concatenate_heading[0][0]        \n",
      "__________________________________________________________________________________________________\n",
      "dense_10 (Dense)                (None, 4)            404         dense_9[0][0]                    \n",
      "==================================================================================================\n",
      "Total params: 5,720,114\n",
      "Trainable params: 5,720,114\n",
      "Non-trainable params: 0\n",
      "__________________________________________________________________________________________________\n"
     ]
    }
   ],
   "source": [
    "# Print the summary of the model\n",
    "model.summary()"
   ]
  },
  {
   "cell_type": "markdown",
   "metadata": {
    "colab_type": "text",
    "id": "olqo5ytRe7eq"
   },
   "source": [
    "### Fit the model and report the accuracy score for the model with attention layer"
   ]
  },
  {
   "cell_type": "code",
   "execution_count": 47,
   "metadata": {
    "colab": {
     "base_uri": "https://localhost:8080/",
     "height": 781
    },
    "colab_type": "code",
    "executionInfo": {
     "elapsed": 1259562,
     "status": "ok",
     "timestamp": 1579453359534,
     "user": {
      "displayName": "Akshaya Kumar Das",
      "photoUrl": "https://lh3.googleusercontent.com/a-/AAuE7mDs6ySnlrHQHuOg_R9k9-7RhVHCirW6cJVee9fP9w=s64",
      "userId": "00274796301986976222"
     },
     "user_tz": -330
    },
    "id": "1zgxPrhzfBkv",
    "outputId": "59f15a21-8302-4a1d-dfd7-eb7bb6baf502",
    "scrolled": false
   },
   "outputs": [
    {
     "name": "stdout",
     "output_type": "stream",
     "text": [
      "Training Hierachical Attention LSTM network\n",
      "Train on 39978 samples, validate on 9994 samples\n",
      "Epoch 1/10\n",
      "39978/39978 [==============================] - 130s 3ms/step - loss: 0.6856 - acc: 0.7492 - val_loss: 0.5360 - val_acc: 0.7878\n",
      "\n",
      "Epoch 00001: val_loss improved from inf to 0.53602, saving model to Weights/stance.fake.news.Attention_epoch_01_loss0.5360.h5\n",
      "Epoch 2/10\n",
      "39978/39978 [==============================] - 126s 3ms/step - loss: 0.4658 - acc: 0.8166 - val_loss: 0.4452 - val_acc: 0.8312\n",
      "\n",
      "Epoch 00002: val_loss improved from 0.53602 to 0.44525, saving model to Weights/stance.fake.news.Attention_epoch_02_loss0.4452.h5\n",
      "Epoch 3/10\n",
      "39978/39978 [==============================] - 125s 3ms/step - loss: 0.3518 - acc: 0.8631 - val_loss: 0.3513 - val_acc: 0.8654\n",
      "\n",
      "Epoch 00003: val_loss improved from 0.44525 to 0.35134, saving model to Weights/stance.fake.news.Attention_epoch_03_loss0.3513.h5\n",
      "Epoch 4/10\n",
      "39978/39978 [==============================] - 125s 3ms/step - loss: 0.2782 - acc: 0.8926 - val_loss: 0.3015 - val_acc: 0.8852\n",
      "\n",
      "Epoch 00004: val_loss improved from 0.35134 to 0.30150, saving model to Weights/stance.fake.news.Attention_epoch_04_loss0.3015.h5\n",
      "Epoch 5/10\n",
      "39978/39978 [==============================] - 126s 3ms/step - loss: 0.2263 - acc: 0.9151 - val_loss: 0.2544 - val_acc: 0.9062\n",
      "\n",
      "Epoch 00005: val_loss improved from 0.30150 to 0.25436, saving model to Weights/stance.fake.news.Attention_epoch_05_loss0.2544.h5\n",
      "Epoch 6/10\n",
      "39978/39978 [==============================] - 125s 3ms/step - loss: 0.1899 - acc: 0.9302 - val_loss: 0.2407 - val_acc: 0.9178\n",
      "\n",
      "Epoch 00006: val_loss improved from 0.25436 to 0.24072, saving model to Weights/stance.fake.news.Attention_epoch_06_loss0.2407.h5\n",
      "Epoch 7/10\n",
      "39978/39978 [==============================] - 125s 3ms/step - loss: 0.1620 - acc: 0.9411 - val_loss: 0.2426 - val_acc: 0.9178\n",
      "\n",
      "Epoch 00007: val_loss did not improve from 0.24072\n",
      "Epoch 8/10\n",
      "39978/39978 [==============================] - 125s 3ms/step - loss: 0.1450 - acc: 0.9489 - val_loss: 0.2019 - val_acc: 0.9353\n",
      "\n",
      "Epoch 00008: val_loss improved from 0.24072 to 0.20190, saving model to Weights/stance.fake.news.Attention_epoch_08_loss0.2019.h5\n",
      "Epoch 9/10\n",
      "39978/39978 [==============================] - 124s 3ms/step - loss: 0.1268 - acc: 0.9543 - val_loss: 0.2828 - val_acc: 0.9136\n",
      "\n",
      "Epoch 00009: val_loss did not improve from 0.20190\n",
      "Epoch 10/10\n",
      "39978/39978 [==============================] - 124s 3ms/step - loss: 0.1178 - acc: 0.9586 - val_loss: 0.1908 - val_acc: 0.9418\n",
      "\n",
      "Epoch 00010: val_loss improved from 0.20190 to 0.19077, saving model to Weights/stance.fake.news.Attention_epoch_10_loss0.1908.h5\n",
      "Time taken to train the Attention network: 1259.77 sec\n"
     ]
    }
   ],
   "source": [
    "st = time()\n",
    "epochs = 10\n",
    "batches = 50\n",
    "model.compile(loss='categorical_crossentropy',\n",
    "              optimizer='rmsprop',\n",
    "              metrics=['acc'])\n",
    "\n",
    "print(\"Training Hierachical Attention LSTM network\")\n",
    "history = model.fit([x_train, x_heading_train], [y_train], \n",
    "                    validation_data=([x_val, x_heading_val], [y_val]), \n",
    "                    callbacks=call_backs('stance.fake.news.Attention'), \n",
    "                    epochs=epochs, \n",
    "                    batch_size=batches)\n",
    "print('Time taken to train the Attention network: %.2f sec' % (time()-st))"
   ]
  },
  {
   "cell_type": "markdown",
   "metadata": {
    "colab_type": "text",
    "id": "IQYkGAPKOTIQ"
   },
   "source": [
    "### Evaluate the model"
   ]
  },
  {
   "cell_type": "code",
   "execution_count": 48,
   "metadata": {
    "colab": {
     "base_uri": "https://localhost:8080/",
     "height": 425
    },
    "colab_type": "code",
    "executionInfo": {
     "elapsed": 893,
     "status": "ok",
     "timestamp": 1579453360420,
     "user": {
      "displayName": "Akshaya Kumar Das",
      "photoUrl": "https://lh3.googleusercontent.com/a-/AAuE7mDs6ySnlrHQHuOg_R9k9-7RhVHCirW6cJVee9fP9w=s64",
      "userId": "00274796301986976222"
     },
     "user_tz": -330
    },
    "id": "AIPuifUWOTIR",
    "outputId": "382c922f-89c7-4ae8-af71-ec8c1c5c00db"
   },
   "outputs": [
    {
     "data": {
      "text/plain": [
       "<Figure size 432x288 with 0 Axes>"
      ]
     },
     "metadata": {
      "tags": []
     },
     "output_type": "display_data"
    },
    {
     "data": {
      "image/png": "[encoded data removed]",
      "text/plain": [
       "<Figure size 1152x432 with 2 Axes>"
      ]
     },
     "metadata": {
      "tags": []
     },
     "output_type": "display_data"
    }
   ],
   "source": [
    "# VALIDATION ACCURACY and LOSS Curve\n",
    "plot_validation_curve(history, ['acc','loss'])"
   ]
  },
  {
   "cell_type": "code",
   "execution_count": 49,
   "metadata": {
    "colab": {
     "base_uri": "https://localhost:8080/",
     "height": 52
    },
    "colab_type": "code",
    "executionInfo": {
     "elapsed": 17357,
     "status": "ok",
     "timestamp": 1579453377773,
     "user": {
      "displayName": "Akshaya Kumar Das",
      "photoUrl": "https://lh3.googleusercontent.com/a-/AAuE7mDs6ySnlrHQHuOg_R9k9-7RhVHCirW6cJVee9fP9w=s64",
      "userId": "00274796301986976222"
     },
     "user_tz": -330
    },
    "id": "hVxGH0NkOTIS",
    "outputId": "53b1defb-d569-4b6f-c8e9-fb45b4125a84"
   },
   "outputs": [
    {
     "name": "stdout",
     "output_type": "stream",
     "text": [
      "9994/9994 [==============================] - 18s 2ms/step\n",
      "Accuracy: 94.18\n"
     ]
    }
   ],
   "source": [
    "loss, acc = model.evaluate([x_val, x_heading_val], y_val)\n",
    "print('Accuracy:', np.round(acc * 100, decimals=2))"
   ]
  },
  {
   "cell_type": "code",
   "execution_count": 50,
   "metadata": {
    "colab": {
     "base_uri": "https://localhost:8080/",
     "height": 407
    },
    "colab_type": "code",
    "executionInfo": {
     "elapsed": 17525,
     "status": "ok",
     "timestamp": 1579453395289,
     "user": {
      "displayName": "Akshaya Kumar Das",
      "photoUrl": "https://lh3.googleusercontent.com/a-/AAuE7mDs6ySnlrHQHuOg_R9k9-7RhVHCirW6cJVee9fP9w=s64",
      "userId": "00274796301986976222"
     },
     "user_tz": -330
    },
    "id": "W0__c53POTIU",
    "outputId": "90cfd813-1771-449b-d59f-4e2e2d7c454f"
   },
   "outputs": [
    {
     "name": "stdout",
     "output_type": "stream",
     "text": [
      "\u001b[1mModel accuracy:\u001b[0m 93.81%\n",
      "________________________________________________________________________________\n",
      "\u001b[1mConfusion matrix:\u001b[0m\n",
      " [[ 591   49   29   70]\n",
      " [  51   95   10   18]\n",
      " [  76    3 1589  111]\n",
      " [  73   10   90 7129]]\n",
      "________________________________________________________________________________\n",
      "\u001b[1mClassification report:\u001b[0m\n",
      "               precision    recall  f1-score   support\n",
      "\n",
      "           0       0.82      0.76      0.79       739\n",
      "           1       0.61      0.55      0.57       174\n",
      "           2       0.92      0.89      0.91      1779\n",
      "           3       0.97      0.98      0.97      7302\n",
      "\n",
      "   micro avg       0.95      0.94      0.94      9994\n",
      "   macro avg       0.83      0.79      0.81      9994\n",
      "weighted avg       0.95      0.94      0.94      9994\n",
      " samples avg       0.94      0.94      0.94      9994\n",
      "\n",
      "________________________________________________________________________________\n"
     ]
    }
   ],
   "source": [
    "# Analyze Classification Summary\n",
    "y_proba = model.predict([x_val, x_heading_val])\n",
    "y_pred = (y_proba > 0.5).astype('int32')\n",
    "classification_summary(y_val, y_pred, y_proba)"
   ]
  },
  {
   "cell_type": "markdown",
   "metadata": {
    "colab_type": "text",
    "id": "Ggx6Kig3PBw5"
   },
   "source": [
    "**Observations:**\n",
    "- This network shows a very good accuracy with better reduction in loss compared to the first network.\n",
    "- Also the graphs for accuracy and loss doesn't show any traces of overfitting, unlike the first network without Attention layer.\n",
    "\n",
    "## Summary\n",
    "RNNs cannot remember longer sentences and sequences due to the vanishing/exploding gradient problem. Although an LSTM is supposed to capture the long-range dependency better than the RNN, it tends to become forgetful in specific cases where the context is located a few words back rather than the ones it has just seen and remembered. Hence the performance of the encoder-decoder network degrades rapidly as the length of the input sentence increases.\n",
    "\n",
    "So Attention mechanism comes in a rescue where not only can all the input words be taken into account in the context vector, but relative importance should also be given to each one of them. So, whenever the proposed model generates a sentence, it searches for a set of positions in the encoder hidden states where the most relevant information is available. This idea is called ‘Attention’ and it is proven to be performing better than simple encoder-decoder network for NLP tasks."
   ]
  }
 ],
 "metadata": {
  "accelerator": "GPU",
  "colab": {
   "collapsed_sections": [],
   "name": "1-Stance Detection for Fake News Challenge.ipynb",
   "provenance": []
  },
  "kernelspec": {
   "display_name": "Python 3",
   "language": "python",
   "name": "python3"
  },
  "language_info": {
   "codemirror_mode": {
    "name": "ipython",
    "version": 3
   },
   "file_extension": ".py",
   "mimetype": "text/x-python",
   "name": "python",
   "nbconvert_exporter": "python",
   "pygments_lexer": "ipython3",
   "version": "3.7.4"
  }
 },
 "nbformat": 4,
 "nbformat_minor": 1
}
